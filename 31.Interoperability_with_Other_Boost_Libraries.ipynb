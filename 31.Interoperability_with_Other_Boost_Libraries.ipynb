{
  "cells": [
    {
      "cell_type": "markdown",
      "source": [
        "# Interoperability with Other Boost Libraries in Boost.Python\n",
        "Boost.Python is a powerful library that facilitates seamless interoperability between C++ and Python. One of its standout features is its ability to work in conjunction with other Boost libraries, allowing developers to leverage the full power of the Boost ecosystem while working with Python.\n",
        "In this notebook, we will explore the interoperability of Boost.Python with other Boost libraries, providing examples and use cases to illustrate the concepts. Let's dive in!"
      ],
      "metadata": {
        "aminsedaghat": {
          "cell_type": "markdown"
        }
      },
      "id": "23feb6a6-1f3e-424a-aeca-6d4799ead677"
    },
    {
      "cell_type": "markdown",
      "source": [
        "## 1. Boost.Any\n",
        "The `Boost.Any` library provides a type-safe way to store any type of value. It's essentially a container for a single value of any type. This can be particularly useful when you need to store values of different types in a container like a `std::vector` or `std::map` but still want to maintain type safety.\n",
        "### Interoperability with Boost.Python\n",
        "When integrating `Boost.Any` with Boost.Python, you can expose C++ functions or methods that accept or return `boost::any` values to Python. This allows Python code to interact with these functions or methods seamlessly, passing in or receiving values of any type.\n",
        "Let's look at an example to illustrate this concept."
      ],
      "metadata": {
        "aminsedaghat": {
          "cell_type": "markdown"
        }
      },
      "id": "dd48b4a9-e075-4f14-a5c4-22e9de350a62"
    },
    {
      "cell_type": "markdown",
      "source": [
        "### Pseudo-code Example: Boost.Any with Boost.Python\n",
        "```cpp\n",
        "#include <boost/any.hpp>\n",
        "#include <boost/python.hpp>\n",
        "std::string get_type(const boost::any& value) {\n",
        "    return value.type().name();\n",
        "}\n",
        "BOOST_PYTHON_MODULE(example) {\n",
        "    using namespace boost::python;\n",
        "    def(\"get_type\", get_type);\n",
        "}\n",
        "```\n",
        "In the above code, the `get_type` function accepts a `boost::any` parameter and returns its type as a string. We then expose this function to Python using the `BOOST_PYTHON_MODULE` macro and the `def` function from `boost::python`.\n",
        "Once the module is compiled and imported in Python, you can call the `get_type` function from Python and pass any type of value to it."
      ],
      "metadata": {
        "aminsedaghat": {
          "cell_type": "markdown"
        }
      },
      "id": "f1595518-1bc0-4446-accc-48a0298db6a0"
    },
    {
      "cell_type": "markdown",
      "source": [
        "## 2. Boost.Variant\n",
        "The `Boost.Variant` library provides a type-safe union, allowing you to store a value of one of the specified types. Unlike traditional C++ unions, `Boost.Variant` ensures type safety and can hold more complex types like classes and strings.\n",
        "### Interoperability with Boost.Python\n",
        "When integrating `Boost.Variant` with Boost.Python, you can expose C++ functions or methods that accept or return `boost::variant` values to Python. This allows Python code to interact with these functions or methods, passing in or receiving values of one of the specified types.\n",
        "Let's look at a pseudo-code example to illustrate this concept."
      ],
      "metadata": {
        "aminsedaghat": {
          "cell_type": "markdown"
        }
      },
      "id": "d2a0174a-b621-49ff-87ac-6b3b82f015fb"
    },
    {
      "cell_type": "markdown",
      "source": [
        "### Pseudo-code Example: Boost.Variant with Boost.Python\n",
        "```cpp\n",
        "#include <boost/variant.hpp>\n",
        "#include <boost/python.hpp>\n",
        "typedef boost::variant<int, std::string> IntOrString;\n",
        "std::string variant_to_string(const IntOrString& value) {\n",
        "    if (const int* i = boost::get<int>(&value))\n",
        "        return std::to_string(*i);\n",
        "    else if (const std::string* s = boost::get<std::string>(&value))\n",
        "        return *s;\n",
        "    return \"Unknown type\";\n",
        "}\n",
        "BOOST_PYTHON_MODULE(example) {\n",
        "    using namespace boost::python;\n",
        "    def(\"variant_to_string\", variant_to_string);\n",
        "}\n",
        "```\n",
        "In the above code, the `variant_to_string` function accepts a `boost::variant` parameter of type `int` or `std::string` and returns its string representation. We then expose this function to Python using the `BOOST_PYTHON_MODULE` macro and the `def` function from `boost::python`.\n",
        "Once the module is compiled and imported in Python, you can call the `variant_to_string` function from Python and pass either an integer or a string to it."
      ],
      "metadata": {
        "aminsedaghat": {
          "cell_type": "markdown"
        }
      },
      "id": "b08da556-2c1e-429c-89c4-4f847bc2a9cf"
    },
    {
      "cell_type": "markdown",
      "source": [
        "## 3. Boost.Optional\n",
        "The `Boost.Optional` library provides a container object that may or may not contain a value of a given type. It's a way to represent optional values without the need for special cases, pointers, or \"magic values\".\n",
        "### Interoperability with Boost.Python\n",
        "When integrating `Boost.Optional` with Boost.Python, you can expose C++ functions or methods that accept or return `boost::optional` values to Python. This allows Python code to interact with these functions or methods, passing in or receiving values that might or might not be present.\n",
        "Let's look at a pseudo-code example to illustrate this concept."
      ],
      "metadata": {
        "aminsedaghat": {
          "cell_type": "markdown"
        }
      },
      "id": "be384ff8-d0f9-482b-bb1f-11fb88af567f"
    },
    {
      "cell_type": "markdown",
      "source": [
        "### Pseudo-code Example: Boost.Optional with Boost.Python\n",
        "```cpp\n",
        "#include <boost/optional.hpp>\n",
        "#include <boost/python.hpp>\n",
        "boost::optional<int> double_value(const boost::optional<int>& value) {\n",
        "    if (value)\n",
        "        return 2 * (*value);\n",
        "    return boost::none;\n",
        "}\n",
        "BOOST_PYTHON_MODULE(example) {\n",
        "    using namespace boost::python;\n",
        "    def(\"double_value\", double_value);\n",
        "}\n",
        "```\n",
        "In the above code, the `double_value` function accepts a `boost::optional<int>` parameter and returns its value doubled if it's present. If no value is provided, it returns `boost::none`. We then expose this function to Python using the `BOOST_PYTHON_MODULE` macro and the `def` function from `boost::python`.\n",
        "Once the module is compiled and imported in Python, you can call the `double_value` function from Python and pass an integer or no value at all."
      ],
      "metadata": {
        "aminsedaghat": {
          "cell_type": "markdown"
        }
      },
      "id": "dcd97eb8-689b-4b9c-83c4-98ff4074414b"
    },
    {
      "cell_type": "markdown",
      "source": [
        "## 4. Boost.Tuple\n",
        "The `Boost.Tuple` library provides a fixed-size collection of heterogeneous values. It's similar to `std::pair`, but can contain more than two elements. Tuples are particularly useful when you want to group together values of different types without creating a custom struct or class.\n",
        "### Interoperability with Boost.Python\n",
        "When integrating `Boost.Tuple` with Boost.Python, you can expose C++ functions or methods that accept or return `boost::tuple` values to Python. This allows Python code to interact with these functions or methods, passing in or receiving grouped values of different types.\n",
        "Let's look at a pseudo-code example to illustrate this concept."
      ],
      "metadata": {
        "aminsedaghat": {
          "cell_type": "markdown"
        }
      },
      "id": "e936439c-7f50-48f4-8b66-5030d10e87b0"
    },
    {
      "cell_type": "markdown",
      "source": [
        "### Pseudo-code Example: Boost.Tuple with Boost.Python\n",
        "```cpp\n",
        "#include <boost/tuple/tuple.hpp>\n",
        "#include <boost/python.hpp>\n",
        "boost::tuple<int, int> sum_and_product(int a, int b) {\n",
        "    return boost::make_tuple(a + b, a * b);\n",
        "}\n",
        "BOOST_PYTHON_MODULE(example) {\n",
        "    using namespace boost::python;\n",
        "    def(\"sum_and_product\", sum_and_product);\n",
        "}\n",
        "```\n",
        "In the above code, the `sum_and_product` function accepts two integer parameters and returns a `boost::tuple` containing their sum and product. We then expose this function to Python using the `BOOST_PYTHON_MODULE` macro and the `def` function from `boost::python`.\n",
        "Once the module is compiled and imported in Python, you can call the `sum_and_product` function from Python and receive a tuple containing the sum and product of the two numbers."
      ],
      "metadata": {
        "aminsedaghat": {
          "cell_type": "markdown"
        }
      },
      "id": "0f0a5ef3-ee8a-409d-8d4f-370f6c7218df"
    },
    {
      "cell_type": "markdown",
      "source": [
        "For this example, we'll create a simple asynchronous TCP echo server using boost::asio. The server will listen for incoming connections, read data from the client, and then echo the data back to the client. We'll then expose this server to Python using Boost.Python, allowing you to start and stop the server from Python.\n",
        "\n",
        "Let's begin by outlining the C++ code for the asynchronous TCP echo server."
      ],
      "metadata": {
        "aminsedaghat": {
          "cell_type": "markdown"
        }
      },
      "id": "cfa2126b-5ce4-4b64-8058-8d3f7a29c004"
    },
    {
      "cell_type": "markdown",
      "source": [
        "## Step 1: C++ Code for Asynchronous TCP Echo Server using boost::asio"
      ],
      "metadata": {
        "aminsedaghat": {
          "cell_type": "markdown"
        }
      },
      "id": "006a7c69-d538-4350-9036-ae013553c5aa"
    },
    {
      "cell_type": "markdown",
      "source": [
        "```cpp\n",
        "#include <boost/asio.hpp>\n",
        "#include <boost/bind.hpp>\n",
        "#include <boost/shared_ptr.hpp>\n",
        "#include <boost/enable_shared_from_this.hpp>\n",
        "#include <iostream>\n",
        "\n",
        "using boost::asio::ip::tcp;\n",
        "\n",
        "class Session : public boost::enable_shared_from_this<Session> {\n",
        "public:\n",
        "    Session(boost::asio::io_service& io_service) : socket_(io_service) {}\n",
        "\n",
        "    tcp::socket& socket() {\n",
        "        return socket_;\n",
        "    }\n",
        "\n",
        "    void start() {\n",
        "        socket_.async_read_some(boost::asio::buffer(data_),\n",
        "            boost::bind(&Session::handle_read, shared_from_this(),\n",
        "                boost::asio::placeholders::error,\n",
        "                boost::asio::placeholders::bytes_transferred));\n",
        "    }\n",
        "\n",
        "    void handle_read(const boost::system::error_code& error, size_t bytes_transferred) {\n",
        "        if (!error) {\n",
        "            boost::asio::async_write(socket_, boost::asio::buffer(data_, bytes_transferred),\n",
        "                boost::bind(&Session::handle_write, shared_from_this(),\n",
        "                    boost::asio::placeholders::error));\n",
        "        } else {\n",
        "            delete this;\n",
        "        }\n",
        "    }\n",
        "\n",
        "    void handle_write(const boost::system::error_code& error) {\n",
        "        if (!error) {\n",
        "            start();\n",
        "        } else {\n",
        "            delete this;\n",
        "        }\n",
        "    }\n",
        "\n",
        "private:\n",
        "    tcp::socket socket_;\n",
        "    char data_[1024];\n",
        "};\n",
        "\n",
        "class Server {\n",
        "public:\n",
        "    Server(boost::asio::io_service& io_service, short port)\n",
        "        : io_service_(io_service),\n",
        "          acceptor_(io_service, tcp::endpoint(tcp::v4(), port)) {\n",
        "        start_accept();\n",
        "    }\n",
        "\n",
        "    void start_accept() {\n",
        "        Session* new_session = new Session(io_service_);\n",
        "        acceptor_.async_accept(new_session->socket(),\n",
        "            boost::bind(&Server::handle_accept, this, new_session,\n",
        "                boost::asio::placeholders::error));\n",
        "    }\n",
        "\n",
        "    void handle_accept(Session* new_session, const boost::system::error_code& error) {\n",
        "        if (!error) {\n",
        "            new_session->start();\n",
        "            start_accept();\n",
        "        } else {\n",
        "            delete new_session;\n",
        "        }\n",
        "    }\n",
        "\n",
        "private:\n",
        "    boost::asio::io_service& io_service_;\n",
        "    tcp::acceptor acceptor_;\n",
        "};\n",
        "```"
      ],
      "metadata": {
        "aminsedaghat": {
          "cell_type": "markdown"
        }
      },
      "id": "885bf27b-05b5-4bcf-9897-526e2fa9a9ee"
    },
    {
      "cell_type": "markdown",
      "source": [
        "## Step 2: Exposing the Server to Python using Boost.Python\n"
      ],
      "metadata": {
        "aminsedaghat": {
          "cell_type": "markdown"
        }
      },
      "id": "8e6476e5-ca92-4e11-93bf-50f8ebce3dc9"
    },
    {
      "cell_type": "markdown",
      "source": [
        "```cpp\n",
        "#include <boost/python.hpp>\n",
        "\n",
        "BOOST_PYTHON_MODULE(asio_server) {\n",
        "    using namespace boost::python;\n",
        "    class_<Server>(\"Server\", init<boost::asio::io_service&, short>())\n",
        "        .def(\"start_accept\", &Server::start_accept);\n",
        "}\n",
        "```"
      ],
      "metadata": {
        "aminsedaghat": {
          "cell_type": "markdown"
        }
      },
      "id": "a50339de-7b16-41a8-b1ca-6226b5835649"
    },
    {
      "cell_type": "markdown",
      "source": [
        "## Step 3: Python Code to Start and Stop the Server"
      ],
      "metadata": {
        "aminsedaghat": {
          "cell_type": "markdown"
        }
      },
      "id": "228332ed-1f9e-4a85-8a5c-7dc8263ded56"
    },
    {
      "cell_type": "code",
      "source": [
        "import asio_server\n",
        "import boost.asio\n",
        "\n",
        "io_service = boost.asio.io_service()\n",
        "server = asio_server.Server(io_service, 8080)\n",
        "io_service.run()\n"
      ],
      "outputs": [
        {
          "output_type": "error",
          "ename": "ModuleNotFoundError",
          "evalue": "No module named 'asio_server'",
          "traceback": [
            "\u001b[0;31m---------------------------------------------------------------------------\u001b[0m",
            "\u001b[0;31mModuleNotFoundError\u001b[0m                       Traceback (most recent call last)",
            "Cell \u001b[0;32mIn[1], line 1\u001b[0m\n\u001b[0;32m----> 1\u001b[0m \u001b[38;5;28;01mimport\u001b[39;00m \u001b[38;5;21;01masio_server\u001b[39;00m\n\u001b[1;32m      2\u001b[0m \u001b[38;5;28;01mimport\u001b[39;00m \u001b[38;5;21;01mboost\u001b[39;00m\u001b[38;5;21;01m.\u001b[39;00m\u001b[38;5;21;01masio\u001b[39;00m\n\u001b[1;32m      4\u001b[0m io_service \u001b[38;5;241m=\u001b[39m boost\u001b[38;5;241m.\u001b[39masio\u001b[38;5;241m.\u001b[39mio_service()\n",
            "\u001b[0;31mModuleNotFoundError\u001b[0m: No module named 'asio_server'"
          ]
        }
      ],
      "execution_count": null,
      "metadata": {
        "jupyter": {
          "source_hidden": false,
          "outputs_hidden": true
        },
        "aminsedaghat": {
          "cell_type": "python"
        },
        "ExecuteTime": {
          "start_time": "2023-08-10T04:06:18.230998+00:00",
          "end_time": "2023-08-10T04:06:18.821699+00:00"
        }
      },
      "id": "8bfc7220-f57e-4bb2-9a9c-215d6f14525e"
    },
    {
      "cell_type": "markdown",
      "source": [
        "The server is exposed to Python using `Boost.Python`, allowing you to create a server instance, specify the port, and run the server from Python.\n",
        "In this example, the `Server` class listens for incoming TCP connections on the specified port. When a connection is accepted, a new `Session` is created to handle communication with the client. The `Session` class reads data from the client and then writes (echoes) the data back to the client.\n",
        "The server is exposed to Python using `Boost.Python`, allowing you to create a server instance, specify the port, and run the server from Python."
      ],
      "metadata": {
        "aminsedaghat": {
          "cell_type": "markdown"
        }
      },
      "id": "1021eafc-9449-4f24-b6ee-512317375869"
    }
  ],
  "metadata": {
    "aminsedaghat-notebook": {
      "create_notebook": {
        "jupyter_notebook_conversation_id": "40d1cd65-9c08-5c23-a9e4-2dece7aeecec",
        "jupyter_notebook_ephemeral_user_id": "d997f8e8-8cb8-5534-b650-4921f02b83cc",
        "jupyter_notebook_subdivision1_iso_code": "CA-ON"
      }
    },
    "kernel_info": {
      "name": "python3"
    },
    "aminsedaghat": {
      "last_transaction_id": "d20ed994-82d9-4fde-9c34-f7881246d47b",
      "last_delta_id": "d6bb5421-bbd2-47cc-92f0-01726d90e8c7"
    },
    "kernelspec": {
      "display_name": "Python 3.9",
      "language": "python",
      "name": "python3"
    },
    "selected_hardware_size": "small",
    "nteract": {
      "version": "aminsedaghat@2.9.0"
    }
  },
  "nbformat": 4,
  "nbformat_minor": 5
}