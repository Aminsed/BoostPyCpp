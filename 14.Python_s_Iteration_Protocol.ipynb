{
  "cells": [
    {
      "cell_type": "markdown",
      "source": [
        "# Python's Iteration Protocol using Boost.Python\n",
        "\n",
        "Python's iteration protocol is a way in which Python handles iterable objects. In Python, an object is considered iterable if it has a `__iter__` method. This method returns an iterator object, which in turn has a `__next__` method. This `__next__` method returns the next value from the iterator. If there are no more items to return, it raises a `StopIteration` exception.\n",
        "\n",
        "Boost.Python is a C++ library which enables seamless interoperability between C++ and the Python programming language. It allows you to quickly and seamlessly expose C++ classes functions and objects to Python, and vice-versa, using no special tools -- just your C++ compiler.\n",
        "\n",
        "In this notebook, we will explore how to implement Python's iteration protocol using Boost.Python.\n",
        "\n",
        "## Prerequisites\n",
        "\n",
        "Before we start, make sure you have Boost.Python installed. If not, you can install it using the following command:\n",
        "\n",
        "```bash\n",
        "sudo apt-get install libboost-python-dev\n",
        "```\n",
        "\n",
        "## Implementing Python's Iteration Protocol in C++\n",
        "\n",
        "Let's start by creating a simple C++ class that we will expose to Python using Boost.Python.\n",
        "\n",
        "```cpp\n",
        "#include <vector>\n",
        "#include <boost/python.hpp>\n",
        "\n",
        "class MyIterable {\n",
        "public:\n",
        "    MyIterable() : data({1, 2, 3, 4, 5}) {}\n",
        "\n",
        "    std::vector<int>::iterator begin() {\n",
        "        return data.begin();\n",
        "    }\n",
        "\n",
        "    std::vector<int>::iterator end() {\n",
        "        return data.end();\n",
        "    }\n",
        "\n",
        "private:\n",
        "    std::vector<int> data;\n",
        "};\n",
        "```\n",
        "\n",
        "In this class, we have a private member `data` which is a vector of integers. We also have `begin` and `end` methods that return iterators to the beginning and the end of the `data` vector, respectively.\n",
        "\n",
        "Now, let's expose this class to Python using Boost.Python.\n",
        "\n",
        "```cpp\n",
        "BOOST_PYTHON_MODULE(my_module) {\n",
        "    boost::python::class_<MyIterable>(\"MyIterable\")\n",
        "        .def(\"__iter__\", boost::python::range(&MyIterable::begin, &MyIterable::end));\n",
        "}\n",
        "```\n",
        "\n",
        "In this code, we define a Python module `my_module` using the `BOOST_PYTHON_MODULE` macro. Inside this module, we define a Python class `MyIterable` that wraps our C++ `MyIterable` class. We then define the `__iter__` method of the Python class to return a Python range object that iterates over the `data` vector of the C++ class.\n",
        "\n",
        "## Using the C++ Iterable in Python\n",
        "\n",
        "Now that we have exposed our C++ iterable to Python, we can use it in Python like this:\n",
        "\n",
        "```python\n",
        "import my_module\n",
        "\n",
        "my_iterable = my_module.MyIterable()\n",
        "\n",
        "for i in my_iterable:\n",
        "    print(i)\n",
        "```\n",
        "\n",
        "This will print the numbers 1 through 5, which are the elements of the `data` vector in the C++ class.\n",
        "\n",
        "## Conclusion\n",
        "\n",
        "In this notebook, we have seen how to implement Python's iteration protocol in C++ using Boost.Python. This allows us to create C++ classes that can be used as Python iterables, which can be very useful when we want to expose C++ data structures to Python."
      ],
      "metadata": {
        "noteable": {
          "cell_type": "markdown"
        }
      },
      "id": "a44da1cf-b9c0-4f30-9922-e196872e0829"
    }
  ],
  "metadata": {
    "noteable-chatgpt": {
      "create_notebook": {
        "openai_conversation_id": "4b1b1ced-56d7-5791-9cf6-a856cbdae0d9",
        "openai_ephemeral_user_id": "0f2e250c-4a64-5faf-9ab2-f87c3c045206",
        "openai_subdivision1_iso_code": "CA-ON"
      }
    },
    "kernel_info": {
      "name": "python3"
    },
    "noteable": {
      "last_transaction_id": "19780b1b-0ace-49d3-9bc4-1ea8308a7513",
      "last_delta_id": "43fdf4b6-24a6-423f-8104-4a524a0a25e4"
    },
    "kernelspec": {
      "display_name": "Python 3.9",
      "language": "python",
      "name": "python3"
    },
    "selected_hardware_size": "small",
    "nteract": {
      "version": "noteable@2.9.0"
    }
  },
  "nbformat": 4,
  "nbformat_minor": 5
}