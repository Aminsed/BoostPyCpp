{
  "cells": [
    {
      "cell_type": "markdown",
      "source": [
        "# Integration with Other Python Libraries in Boost.Python\n",
        "\n",
        "Boost.Python is a C++ library used for interfacing Python and C++. It allows users to write Python classes in C++ and vice-versa. One of the powerful features of Boost.Python is its ability to integrate with other Python libraries seamlessly. This notebook provides a comprehensive exploration of this integration, showcasing multiple examples, use cases, and in-depth explanations."
      ],
      "metadata": {
        "noteable": {
          "cell_type": "markdown"
        }
      },
      "id": "42e38519-8a98-47b5-8666-eaf5a9735dbe"
    },
    {
      "cell_type": "markdown",
      "source": [
        "## Basic Integration Example\n",
        "\n",
        "To begin with, let's consider a simple scenario where we want to use the `numpy` library in conjunction with Boost.Python. This will demonstrate how Boost.Python can seamlessly work with other Python libraries."
      ],
      "metadata": {
        "noteable": {
          "cell_type": "markdown"
        }
      },
      "id": "27a05168-1364-49ab-b9f7-0aedfded17a8"
    },
    {
      "cell_type": "code",
      "source": [
        "# First, let's import the necessary libraries\n",
        "import numpy as np\n",
        "import boost.python as bp\n",
        "\n",
        "# Define a C++ function using Boost.Python (pseudo-code for demonstration purposes)\n",
        "bp.def(\"cpp_function\", [](bp::numpy::ndarray arr) {\n",
        "    // Utilize the numpy array 'arr' within the C++ function\n",
        "    // Perform operations on the array\n",
        "    return arr;\n",
        "});\n",
        "\n",
        "# Create a numpy array\n",
        "py_array = np.array([1, 2, 3, 4, 5])\n",
        "\n",
        "# Call the C++ function using the numpy array\n",
        "result = cpp_function(py_array)\n",
        "print(result)"
      ],
      "outputs": [],
      "execution_count": null,
      "metadata": {
        "noteable": {
          "cell_type": "code"
        }
      },
      "id": "e17f8119-8bea-4977-9ee4-cba15d38e1c8"
    },
    {
      "cell_type": "markdown",
      "source": [
        "## Integration with `matplotlib`\n",
        "\n",
        "`matplotlib` is a popular Python library for data visualization. One of the advantages of using Boost.Python is the ability to generate or process data in C++ and then visualize it using Python libraries like `matplotlib`.\n",
        "\n",
        "### Example: Visualizing Data Generated in C++ using `matplotlib`\n",
        "\n",
        "In this example, we'll demonstrate how to create a C++ function using Boost.Python that generates a dataset. We'll then use `matplotlib` in Python to visualize this dataset."
      ],
      "metadata": {
        "noteable": {
          "cell_type": "markdown"
        }
      },
      "id": "6e19bb9d-09a1-4706-8dae-3747ab83735a"
    },
    {
      "cell_type": "code",
      "source": [
        "# Importing necessary libraries\n",
        "import matplotlib.pyplot as plt\n",
        "import numpy as np\n",
        "import boost.python as bp\n",
        "\n",
        "# Define a C++ function using Boost.Python to generate a sine wave (pseudo-code for demonstration)\n",
        "bp.def(\"generate_sine_wave\", [](double frequency, int samples) {\n",
        "    // Generate a sine wave based on the frequency and number of samples\n",
        "    // Return the generated data\n",
        "    return sine_wave_data;\n",
        "});\n",
        "\n",
        "# Call the C++ function to get the sine wave data\n",
        "data = generate_sine_wave(1.0, 100)\n",
        "\n",
        "# Visualize the data using matplotlib\n",
        "plt.plot(data)\n",
        "plt.title('Sine Wave Generated in C++')\n",
        "plt.xlabel('Sample')\n",
        "plt.ylabel('Amplitude')\n",
        "plt.show()"
      ],
      "outputs": [],
      "execution_count": null,
      "metadata": {
        "noteable": {
          "cell_type": "code"
        }
      },
      "id": "fa79d699-e566-460e-b873-deec2b080d7a"
    },
    {
      "cell_type": "markdown",
      "source": [
        "## Integration with `pandas`\n",
        "\n",
        "`pandas` is a widely-used Python library for data analysis and manipulation. With Boost.Python, we can seamlessly transition between C++ data structures and `pandas` DataFrames, allowing for efficient data processing in C++ and subsequent analysis in Python.\n",
        "\n",
        "### Example: Processing Data in C++ and Analyzing it with `pandas`\n",
        "\n",
        "In this example, we'll demonstrate how to create a C++ function using Boost.Python that processes a dataset. We'll then use `pandas` in Python to analyze the processed data."
      ],
      "metadata": {
        "noteable": {
          "cell_type": "markdown"
        }
      },
      "id": "4dba022e-b327-4cef-ae3b-dbc6b2fd71fc"
    },
    {
      "cell_type": "code",
      "source": [
        "# Importing necessary libraries\n",
        "import pandas as pd\n",
        "import boost.python as bp\n",
        "\n",
        "# Define a C++ function using Boost.Python to process a dataset (pseudo-code for demonstration)\n",
        "bp.def(\"process_data\", [](bp::list data) {\n",
        "    // Process the data in C++\n",
        "    // For demonstration, let's assume the function doubles each value in the dataset\n",
        "    return processed_data;\n",
        "});\n",
        "\n",
        "# Create a dataset in Python\n",
        "py_data = [1, 2, 3, 4, 5]\n",
        "\n",
        "# Call the C++ function to process the data\n",
        "processed_data = process_data(py_data)\n",
        "\n",
        "# Convert the processed data to a pandas DataFrame\n",
        "df = pd.DataFrame(processed_data, columns=['Value'])\n",
        "\n",
        "# Analyze the processed data using pandas\n",
        "mean_value = df['Value'].mean()\n",
        "median_value = df['Value'].median()\n",
        "std_dev = df['Value'].std()\n",
        "\n",
        "mean_value, median_value, std_dev"
      ],
      "outputs": [],
      "execution_count": null,
      "metadata": {
        "noteable": {
          "cell_type": "code"
        }
      },
      "id": "019a63f6-53c1-406f-a30e-5418f9cf7895"
    },
    {
      "cell_type": "markdown",
      "source": [
        "## Interfacing with Python's Object-Oriented Features\n",
        "\n",
        "Python's object-oriented capabilities, such as classes, inheritance, and polymorphism, can be interfaced with C++ using Boost.Python. This allows developers to define Python classes in C++ and then use or extend them in Python.\n",
        "\n",
        "### Example: Creating Python Classes in C++ and Inheriting from Them in Python\n",
        "\n",
        "In this demonstration, we'll showcase how to:\n",
        "\n",
        "1. Define a Python class in C++ using Boost.Python.\n",
        "2. Inherit from this C++ defined class in Python and extend its methods."
      ],
      "metadata": {
        "noteable": {
          "cell_type": "markdown"
        }
      },
      "id": "803d5cbe-820d-480b-902c-c029355c0089"
    },
    {
      "cell_type": "code",
      "source": [
        "# Importing necessary libraries\n",
        "import boost.python as bp\n",
        "\n",
        "# Define a Python class in C++ using Boost.Python (pseudo-code for demonstration)\n",
        "class BaseClass:\n",
        "    bp.def(\"greet\", []() {\n",
        "        return \"Hello from C++ defined class!\";\n",
        "    });\n",
        "\n",
        "# Inherit from the C++ defined class in Python\n",
        "class DerivedClass(BaseClass):\n",
        "    def greet_extended(self):\n",
        "        base_greeting = super().greet()\n",
        "        return base_greeting + \" And hello from the Python derived class!\"\n",
        "\n",
        "# Create an instance of the derived class\n",
        "obj = DerivedClass()\n",
        "obj.greet_extended()"
      ],
      "outputs": [],
      "execution_count": null,
      "metadata": {
        "noteable": {
          "cell_type": "code"
        }
      },
      "id": "9f2d1288-f25f-4493-bc46-38ff7ac6b224"
    },
    {
      "cell_type": "markdown",
      "source": [
        "## Integration with `seaborn`\n",
        "\n",
        "`seaborn` is a powerful data visualization library in Python that's built on top of `matplotlib`. It offers a higher-level, more aesthetically pleasing interface for creating a variety of charts and plots.\n",
        "\n",
        "### Example: Generating Data in C++ and Visualizing with `seaborn`\n",
        "\n",
        "In this demonstration, we'll showcase how to:\n",
        "\n",
        "1. Define a C++ function using Boost.Python that generates a dataset of random values.\n",
        "2. Use `seaborn` in Python to visualize the distribution of this dataset using a histogram."
      ],
      "metadata": {
        "noteable": {
          "cell_type": "markdown"
        }
      },
      "id": "de0deaf5-aef4-4caa-b4a4-527126f5f954"
    },
    {
      "cell_type": "code",
      "source": [
        "# Importing necessary libraries\n",
        "import seaborn as sns\n",
        "import boost.python as bp\n",
        "\n",
        "# Define a C++ function using Boost.Python to generate a dataset of random values (pseudo-code for demonstration)\n",
        "bp.def(\"generate_random_data\", [](int size) {\n",
        "    // Generate 'size' random values in C++\n",
        "    return random_data;\n",
        "});\n",
        "\n",
        "# Call the C++ function to get the random data\n",
        "data = generate_random_data(1000)\n",
        "\n",
        "# Visualize the distribution of the data using seaborn\n",
        "sns.histplot(data, kde=True)"
      ],
      "outputs": [],
      "execution_count": null,
      "metadata": {
        "noteable": {
          "cell_type": "code"
        }
      },
      "id": "feef9624-b1c1-47ef-a166-1d15c42aebf0"
    },
    {
      "cell_type": "markdown",
      "source": [
        "### Further Exploration with `matplotlib`\n",
        "\n",
        "While `matplotlib` is a versatile library for various types of plots, time series plots are among the most commonly used visualizations in data analysis.\n",
        "\n",
        "#### Example: Plotting a C++ Generated Time Series with `matplotlib`\n",
        "\n",
        "In this demonstration, we'll showcase how to:\n",
        "\n",
        "1. Define a C++ function using Boost.Python that generates a time series dataset (for simplicity, let's consider a sine wave over time).\n",
        "2. Use `matplotlib` in Python to plot the generated time series."
      ],
      "metadata": {
        "noteable": {
          "cell_type": "markdown"
        }
      },
      "id": "a5be8f43-92c9-49a1-9acc-7df4ed4799e8"
    },
    {
      "cell_type": "code",
      "source": [
        "# Importing necessary libraries\n",
        "import matplotlib.pyplot as plt\n",
        "import numpy as np\n",
        "import boost.python as bp\n",
        "\n",
        "# Define a C++ function using Boost.Python to generate a time series (pseudo-code for demonstration)\n",
        "bp.def(\"generate_time_series\", [](double frequency, int samples) {\n",
        "    // Generate a sine wave over time based on the frequency and number of samples\n",
        "    return time_series_data;\n",
        "});\n",
        "\n",
        "# Call the C++ function to get the time series data\n",
        "time_series = generate_time_series(1.0, 100)\n",
        "\n",
        "# Plot the time series using matplotlib\n",
        "plt.plot(time_series)\n",
        "plt.title('Time Series Generated in C++')\n",
        "plt.xlabel('Time')\n",
        "plt.ylabel('Amplitude')\n",
        "plt.show()"
      ],
      "outputs": [],
      "execution_count": null,
      "metadata": {
        "noteable": {
          "cell_type": "code"
        }
      },
      "id": "a9f8c2c5-2af7-4a97-a6ac-ee824ce417e9"
    },
    {
      "cell_type": "markdown",
      "source": [
        "### C++ Code (For Reference)\n",
        "```cpp\n",
        "#include <boost/python.hpp>\n",
        "\n",
        "double square(double x) {\n",
        "    return x * x;\n",
        "}\n",
        "\n",
        "BOOST_PYTHON_MODULE(my_module) {\n",
        "    boost::python::def(\"square\", square);\n",
        "}\n",
        "```\n",
        "In the above C++ code, we define a function `square` that returns the square of a number. We then expose this function to Python using Boost.Python.\n",
        "\n",
        "Now, let's move on to the Python code where we'll call this function and plot the result."
      ],
      "metadata": {
        "noteable": {
          "cell_type": "markdown"
        }
      },
      "id": "330d1cf4-a123-4a10-80f7-7368b8faeea8"
    },
    {
      "cell_type": "code",
      "source": [
        "import matplotlib.pyplot as plt\n",
        "\n",
        "# Simulating the C++ function in Python\n",
        "def square(x):\n",
        "    return x * x\n",
        "\n",
        "# Call the square function\n",
        "value = 5\n",
        "squared_value = square(value)\n",
        "\n",
        "# Plot the squared value using matplotlib\n",
        "plt.figure(figsize=(6, 6))\n",
        "plt.bar(['Original', 'Squared'], [value, squared_value], color=['blue', 'green'])\n",
        "plt.title('Squaring a Number')\n",
        "plt.ylabel('Value')\n",
        "plt.show()"
      ],
      "outputs": [],
      "execution_count": null,
      "metadata": {
        "noteable": {
          "cell_type": "code"
        }
      },
      "id": "78218a52-84ad-4aaf-8671-59e97938cdc7"
    }
  ],
  "metadata": {
    "noteable-chatgpt": {
      "create_notebook": {
        "openai_conversation_id": "8ed51f29-b975-52dd-b7a4-ba922cc53d11",
        "openai_ephemeral_user_id": "f333693f-3861-5f29-bed6-e1d607a5c1bb",
        "openai_subdivision1_iso_code": "CA-ON"
      }
    },
    "kernel_info": {
      "name": "python3"
    },
    "noteable": {
      "last_transaction_id": "a78897dc-5486-41bc-8aab-adb075b48ec7",
      "last_delta_id": "528c25d6-1590-45c8-ba80-1ede2431dc4d"
    },
    "kernelspec": {
      "display_name": "Python 3.9",
      "language": "python",
      "name": "python3"
    },
    "selected_hardware_size": "small",
    "nteract": {
      "version": "noteable@2.9.0"
    }
  },
  "nbformat": 4,
  "nbformat_minor": 5
}