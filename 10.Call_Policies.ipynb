{
  "cells": [
    {
      "cell_type": "markdown",
      "source": [
        "# Boost.Python Call Policies\n",
        "\n",
        "Boost.Python is a C++ library that enables seamless interoperability between C++ and the Python programming language. It allows you to quickly and easily export C++ to Python such that the Python code is almost indistinguishable from Python written in a Python .py file.\n",
        "\n",
        "One of the key features of Boost.Python is its support for \"call policies\". Call policies are a way to control the behavior of C++ functions and methods when they are called from Python. They can be used to manage the lifetime of objects, handle exceptions, and more.\n",
        "\n",
        "In this notebook, we will explore the concept of call policies in Boost.Python, and provide examples of how they can be used.\n",
        "\n",
        "## Table of Contents\n",
        "\n",
        "1. [What are Call Policies?](#section1)\n",
        "2. [Types of Call Policies](#section2)\n",
        "3. [Using Call Policies](#section3)\n",
        "4. [Custom Call Policies](#section4)\n",
        "\n",
        "## 1. What are Call Policies? <a id='section1'></a>\n",
        "\n",
        "In Boost.Python, a call policy is a strategy for handling the return value of a function or method. It is a way to specify what should happen to the return value after the function or method is called.\n",
        "\n",
        "Call policies are used when you are wrapping C++ functions or methods that return pointers or references. They allow you to control the lifetime of the objects that are returned, and to specify what should happen if an exception is thrown.\n",
        "\n",
        "## 2. Types of Call Policies <a id='section2'></a>\n",
        "\n",
        "Boost.Python provides several built-in call policies:\n",
        "\n",
        "- `return_value_policy`: This is the most basic call policy. It simply returns the value of the function or method.\n",
        "\n",
        "- `return_by_value`: This policy makes a copy of the returned object and returns the copy.\n",
        "\n",
        "- `return_by_reference`: This policy returns a reference to the object. The object must not be destroyed while the reference is still in use.\n",
        "\n",
        "- `return_internal_reference`: This policy returns a reference to an internal object. The object's lifetime is managed by the Python interpreter.\n",
        "\n",
        "- `with_custodian_and_ward`: This policy is used when the lifetime of one object is dependent on the lifetime of another. The \"custodian\" is the object that controls the lifetime, and the \"ward\" is the object whose lifetime is controlled.\n",
        "\n",
        "- `manage_new_object`: This policy is used when the function or method returns a pointer to a newly allocated object. The Python interpreter takes ownership of the object and is responsible for deleting it.\n",
        "\n",
        "- `return_opaque_pointer`: This policy is used when the function or method returns a pointer to an object, but the Python code should not be able to access the object directly.\n",
        "\n",
        "## 3. Using Call Policies <a id='section3'></a>\n",
        "\n",
        "To use a call policy, you pass it as a second argument to the `def` function when you are defining the function or method. Here is an example:\n",
        "\n",
        "```cpp\n",
        "#include <boost/python.hpp>\n",
        "\n",
        "class MyClass {\n",
        "public:\n",
        "    MyClass* clone() const { return new MyClass(*this); }\n",
        "};\n",
        "\n",
        "BOOST_PYTHON_MODULE(my_module) {\n",
        "    using namespace boost::python;\n",
        "    class_<MyClass>(\"MyClass\")\n",
        "        .def(\"clone\", &MyClass::clone, return_value_policy<manage_new_object>());\n",
        "}\n",
        "```\n",
        "\n",
        "In this example, the `clone` method returns a pointer to a newly allocated `MyClass` object. The `manage_new_object` call policy is used to tell the Python interpreter to take ownership of the object.\n",
        "\n",
        "## 4. Custom Call Policies <a id='section4'></a>\n",
        "\n",
        "In addition to the built-in call policies, Boost.Python also allows you to define your own custom call policies. A custom call policy is a class that defines two methods:\n",
        "\n",
        "- `precall`: This method is called before the function or method is called. It can be used to set up any necessary state.\n",
        "\n",
        "- `postcall`: This method is called after the function or method is called. It can be used to clean up any state that was set up by `precall`, and to handle the return value.\n",
        "\n",
        "Here is an example of a custom call policy:\n",
        "\n",
        "```cpp\n",
        "#include <boost/python.hpp>\n",
        "\n",
        "class MyCallPolicy {\n",
        "public:\n",
        "    static PyObject* precall(PyObject* callable) {\n",
        "        // Set up state here\n",
        "        return callable;\n",
        "    }\n",
        "\n",
        "    static PyObject* postcall(PyObject* result) {\n",
        "        // Clean up state and handle return value here\n",
        "        return result;\n",
        "    }\n",
        "};\n",
        "\n",
        "BOOST_PYTHON_MODULE(my_module) {\n",
        "    using namespace boost::python;\n",
        "    class_<MyClass>(\"MyClass\")\n",
        "        .def(\"my_method\", &MyClass::myMethod, MyCallPolicy());\n",
        "}\n",
        "```\n",
        "\n",
        "In this example, the `MyCallPolicy` class defines a custom call policy. The `precall` method is called before `myMethod` is called, and the `postcall` method is called after `myMethod` is called."
      ],
      "metadata": {
        "noteable": {
          "cell_type": "markdown"
        }
      },
      "id": "a44da1cf-b9c0-4f30-9922-e196872e0829"
    }
  ],
  "metadata": {
    "noteable-chatgpt": {
      "create_notebook": {
        "openai_conversation_id": "4b1b1ced-56d7-5791-9cf6-a856cbdae0d9",
        "openai_ephemeral_user_id": "0f2e250c-4a64-5faf-9ab2-f87c3c045206",
        "openai_subdivision1_iso_code": "CA-ON"
      }
    },
    "kernel_info": {
      "name": "python3"
    },
    "noteable": {
      "last_transaction_id": "19780b1b-0ace-49d3-9bc4-1ea8308a7513",
      "last_delta_id": "c49552f2-de8c-43c4-b3a2-b91c815ca68e"
    },
    "kernelspec": {
      "display_name": "Python 3.9",
      "language": "python",
      "name": "python3"
    },
    "selected_hardware_size": "small",
    "nteract": {
      "version": "noteable@2.9.0"
    }
  },
  "nbformat": 4,
  "nbformat_minor": 5
}