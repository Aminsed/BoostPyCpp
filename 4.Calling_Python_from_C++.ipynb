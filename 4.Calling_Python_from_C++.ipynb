{
  "cells": [
    {
      "cell_type": "markdown",
      "source": [
        "# Boost.Python Guide\n",
        "\n",
        "Boost.Python is a C++ library used for interfacing Python and C++. It allows you to quickly and seamlessly expose C++ classes, functions, and objects to Python, and vice-versa. This guide will walk you through the process of using Boost.Python to call Python from C++.\n",
        "\n",
        "## Prerequisites\n",
        "\n",
        "Before we start, make sure you have the following installed on your system:\n",
        "\n",
        "- Python (3.x recommended)\n",
        "- C++ Compiler (GCC, Clang, MSVC or similar)\n",
        "- Boost Libraries\n",
        "\n",
        "You can download the Boost libraries from [here](https://www.boost.org/users/download/). Follow the instructions provided on the website to install them."
      ],
      "metadata": {
        "noteable": {
          "cell_type": "markdown"
        }
      },
      "id": "5411f6b4-4fb5-40c2-8a03-91459094c797"
    },
    {
      "cell_type": "markdown",
      "source": [
        "## Step 1: Writing a Simple Python Script\n",
        "\n",
        "Let's start by writing a simple Python script that we will call from our C++ code. Create a new Python file `hello.py` and add the following code:\n",
        "\n",
        "```python\n",
        "def greet():\n",
        "    return \"Hello from Python!\"\n",
        "```\n",
        "\n",
        "This script defines a function `greet` that returns a greeting string."
      ],
      "metadata": {
        "noteable": {
          "cell_type": "markdown"
        }
      },
      "id": "1fe99623-b595-4286-9cc8-5cc142cf572d"
    },
    {
      "cell_type": "markdown",
      "source": [
        "## Step 2: Writing the C++ Code\n",
        "\n",
        "Next, we will write the C++ code that calls the Python function. Create a new C++ file `main.cpp` and add the following code:\n",
        "\n",
        "```cpp\n",
        "#include <boost/python.hpp>\n",
        "\n",
        "int main() {\n",
        "    Py_Initialize();\n",
        "\n",
        "    boost::python::object main_module = boost::python::import(\"__main__\");\n",
        "    boost::python::object main_namespace = main_module.attr(\"__dict__\");\n",
        "\n",
        "    boost::python::exec_file(\"hello.py\", main_namespace, main_namespace);\n",
        "\n",
        "    boost::python::object greet_func = main_namespace[\"greet\"];\n",
        "    boost::python::object result = greet_func();\n",
        "\n",
        "    std::cout << boost::python::extract<std::string>(result) << std::endl;\n",
        "\n",
        "    Py_Finalize();\n",
        "\n",
        "    return 0;\n",
        "}\n",
        "```\n",
        "\n",
        "This C++ code does the following:\n",
        "\n",
        "- Initializes the Python interpreter with `Py_Initialize()`.\n",
        "- Imports the main Python module and gets its namespace.\n",
        "- Executes the `hello.py` script in the main namespace.\n",
        "- Retrieves the `greet` function from the namespace and calls it.\n",
        "- Extracts the result of the function call as a string and prints it.\n",
        "- Finalizes the Python interpreter with `Py_Finalize()`."
      ],
      "metadata": {
        "noteable": {
          "cell_type": "markdown"
        }
      },
      "id": "7494664a-fb54-478e-905a-547ae26d0c5e"
    },
    {
      "cell_type": "markdown",
      "source": [
        "## Step 3: Compiling and Running the C++ Code\n",
        "\n",
        "Finally, we need to compile and run our C++ code. The exact command to do this will depend on your C++ compiler and the location of your Boost and Python installations. Here is an example using g++:\n",
        "\n",
        "```bash\n",
        "g++ -I /path/to/boost -I /path/to/python main.cpp -lboost_python -lpython3.x -o main\n",
        "```\n",
        "\n",
        "Replace `/path/to/boost` and `/path/to/python` with the paths to your Boost and Python installations, respectively. Replace `python3.x` with your Python version (e.g., `python3.8`).\n",
        "\n",
        "This will create an executable `main`. You can run it with:\n",
        "\n",
        "```bash\n",
        "./main\n",
        "```\n",
        "\n",
        "If everything is set up correctly, you should see the message \"Hello from Python!\" printed to the console."
      ],
      "metadata": {
        "noteable": {
          "cell_type": "markdown"
        }
      },
      "id": "1ff0890f-e813-41cb-aa37-18fbdafa8cd2"
    },
    {
      "cell_type": "markdown",
      "source": [
        "## Conclusion\n",
        "\n",
        "This guide walked you through the process of using Boost.Python to call Python from C++. You learned how to write a simple Python script, how to write C++ code that calls a function from the Python script, and how to compile and run the C++ code.\n",
        "\n",
        "Boost.Python is a powerful tool for interfacing Python and C++, and it can do much more than what was shown in this guide. You can expose C++ classes and objects to Python, call C++ functions from Python, and even handle Python exceptions in C++. For more information, check out the [Boost.Python documentation](https://www.boost.org/doc/libs/1_77_0/libs/python/doc/html/index.html)."
      ],
      "metadata": {
        "noteable": {
          "cell_type": "markdown"
        }
      },
      "id": "d240fc8e-731f-4571-ac5b-44dd2c647d69"
    }
  ],
  "metadata": {
    "noteable-chatgpt": {
      "create_notebook": {
        "openai_conversation_id": "94f378b5-3447-558f-aa42-cfd8d5e06d10",
        "openai_ephemeral_user_id": "5664ea6b-c533-51b6-acaa-189f84bef9e9",
        "openai_subdivision1_iso_code": "CA-ON"
      }
    },
    "kernel_info": {
      "name": "python3"
    },
    "noteable": {
      "last_transaction_id": "d210192a-ab6a-4150-b1ca-33eb733c8fbd",
      "last_delta_id": "81829973-a41f-41d2-8e51-5b84e84ecf29"
    },
    "kernelspec": {
      "display_name": "Python 3.9",
      "language": "python",
      "name": "python3"
    },
    "selected_hardware_size": "small",
    "nteract": {
      "version": "noteable@2.9.0"
    }
  },
  "nbformat": 4,
  "nbformat_minor": 5
}