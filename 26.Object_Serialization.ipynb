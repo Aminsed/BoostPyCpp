{
  "cells": [
    {
      "cell_type": "markdown",
      "source": [
        "# Object Serialization with Boost.Python\n",
        "\n",
        "Object Serialization is a process that involves converting the state of an object into a byte stream, and the reverse operation of creating an object from a byte stream. It's a fundamental concept used in various applications such as remote procedure calls, distributed computing, and data storage.\n",
        "\n",
        "In the context of Boost.Python, serialization plays a vital role in bridging the gap between C++ and Python. Boost.Python is a library used to enable seamless interoperability between C++ and Python. Object Serialization helps in passing complex data structures between these two languages, preserving the state and behavior of the objects.\n",
        "\n",
        "In this notebook, we will explore the following topics:\n",
        "\n",
        "1. Basics of Object Serialization\n",
        "2. Serialization with Boost.Python\n",
        "3. Examples and Use Cases\n",
        "4. Best Practices and Considerations\n",
        "\n",
        "Let's dive into the basics of Object Serialization first."
      ],
      "metadata": {
        "aminsedaghat": {
          "cell_type": "markdown"
        }
      },
      "id": "ce0993d6-f667-48c9-8656-4fe1459d704b"
    },
    {
      "cell_type": "markdown",
      "source": [
        "## Basics of Object Serialization\n",
        "\n",
        "### What is Object Serialization?\n",
        "Object Serialization is the process of converting an object's state into a byte stream. This byte stream can be stored, transmitted, and later reconstructed to create an identical copy of the original object. The reverse process, known as deserialization, takes a byte stream and reconstructs the original object from it.\n",
        "\n",
        "### Why is Serialization Important?\n",
        "Serialization is essential for several reasons:\n",
        "- **Persistence:** It allows objects to be saved to disk or other storage media, enabling long-term persistence of data.\n",
        "- **Remote Communication:** It enables objects to be sent across a network, facilitating communication between different systems.\n",
        "- **Interoperability:** It allows objects to be exchanged between different programming languages or platforms.\n",
        "\n",
        "### Common Methods of Serialization\n",
        "Serialization can be performed using various methods, including:\n",
        "- **Binary Serialization:** Converts the object into a compact binary format. It's efficient but not human-readable.\n",
        "- **XML Serialization:** Converts the object into an XML format. It's human-readable but less efficient than binary serialization.\n",
        "- **JSON Serialization:** Converts the object into a JSON format, providing a balance between human readability and efficiency.\n",
        "\n",
        "Next, we will explore how serialization is implemented and used in the context of Boost.Python."
      ],
      "metadata": {
        "aminsedaghat": {
          "cell_type": "markdown"
        }
      },
      "id": "617916ea-1f40-46e6-93ee-9bc526e5c172"
    },
    {
      "cell_type": "markdown",
      "source": [
        "## Serialization with Boost.Python\n",
        "\n",
        "Boost.Python is a C++ library that enables seamless interoperability between C++ and Python. It allows C++ classes to be exposed to Python and vice versa. Serialization plays a crucial role in this interaction, especially when dealing with complex data structures.\n",
        "\n",
        "### How Boost.Python Uses Serialization\n",
        "Boost.Python leverages the Boost.Serialization library to handle object serialization. Here's how it works:\n",
        "- **Serialization of C++ Objects:** C++ objects can be serialized into a byte stream using Boost.Serialization. This stream can be sent to Python, where it can be deserialized back into an object.\n",
        "- **Serialization of Python Objects:** Similarly, Python objects can be serialized and sent to C++ for processing. The Boost.Python library handles the conversion between Python objects and C++ representations.\n",
        "\n",
        "### Advantages of Using Boost.Python for Serialization\n",
        "Using Boost.Python for serialization offers several benefits:\n",
        "- **Ease of Use:** It simplifies the process of serializing and deserializing objects between C++ and Python.\n",
        "- **Flexibility:** It supports various serialization formats, including binary, XML, and text.\n",
        "- **Performance:** It offers efficient serialization and deserialization, minimizing overhead.\n",
        "\n",
        "In the next section, we will look at examples and use cases to understand how serialization with Boost.Python is implemented in practice."
      ],
      "metadata": {
        "aminsedaghat": {
          "cell_type": "markdown"
        }
      },
      "id": "d9ecc5ef-8046-426d-bdbe-47dc7de9f820"
    },
    {
      "cell_type": "markdown",
      "source": [
        "## Examples and Use Cases\n",
        "\n",
        "In this section, we will explore examples and use cases that demonstrate how serialization is implemented with Boost.Python. We'll cover the following scenarios:\n",
        "\n",
        "1. **Serializing a Simple C++ Object:** How to serialize a basic C++ object and send it to Python.\n",
        "2. **Deserializing a Python Object in C++:** How to receive a serialized Python object in C++ and deserialize it.\n",
        "3. **Complex Object Serialization:** How to handle serialization of complex objects with nested structures.\n",
        "\n",
        "### Example 1: Serializing a Simple C++ Object\n",
        "Let's start with a basic example where we'll serialize a simple C++ class and send it to Python for processing. Here's the code snippet for this example:"
      ],
      "metadata": {
        "aminsedaghat": {
          "cell_type": "markdown"
        }
      },
      "id": "d9cfc866-43bd-44e9-8f18-962388531ad9"
    },
    {
      "cell_type": "code",
      "source": [
        "```cpp\n",
        "#include <boost/python.hpp>\n",
        "#include <boost/serialization/serialization.hpp>\n",
        "#include <sstream>\n",
        "\n",
        "class SimpleClass {\n",
        "public:\n",
        "  int value;\n",
        "  SimpleClass(int v) : value(v) {}\n",
        "\n",
        "  template<class Archive>\n",
        "  void serialize(Archive & ar, const unsigned int version) {\n",
        "    ar & value;\n",
        "  }\n",
        "};\n",
        "\n",
        "std::string serializeObject(const SimpleClass& obj) {\n",
        "  std::ostringstream oss;\n",
        "  boost::archive::text_oarchive oa(oss);\n",
        "  oa << obj;\n",
        "  return oss.str();\n",
        "}\n",
        "\n",
        "BOOST_PYTHON_MODULE(example) {\n",
        "  using namespace boost::python;\n",
        "  def(\"serializeObject\", serializeObject);\n",
        "}\n",
        "```\n",
        "\n",
        "In this example, we define a simple C++ class `SimpleClass` with a serialization function. We then create a function `serializeObject` that takes an object of this class and serializes it into a string using Boost's text archive. Finally, we expose this function to Python using Boost.Python."
      ],
      "outputs": [
        {
          "output_type": "error",
          "ename": "SyntaxError",
          "evalue": "invalid syntax (1902348092.py, line 1)",
          "traceback": [
            "\u001b[0;36m  Cell \u001b[0;32mIn[1], line 1\u001b[0;36m\u001b[0m\n\u001b[0;31m    ```cpp\u001b[0m\n\u001b[0m    ^\u001b[0m\n\u001b[0;31mSyntaxError\u001b[0m\u001b[0;31m:\u001b[0m invalid syntax\n"
          ]
        }
      ],
      "execution_count": null,
      "metadata": {
        "aminsedaghat": {
          "cell_type": "code"
        },
        "ExecuteTime": {
          "start_time": "2023-08-03T20:08:05.507471+00:00",
          "end_time": "2023-08-03T20:08:05.669681+00:00"
        },
        "jupyter": {
          "source_hidden": true
        }
      },
      "id": "e9dc90b4-57be-4dee-b60c-46abf7a24243"
    },
    {
      "cell_type": "markdown",
      "source": [
        "### Example 2: Deserializing a Python Object in C++\n",
        "In this example, we'll explore how to receive a serialized Python object in C++ and deserialize it using Boost.Python. This process allows us to work with Python objects in C++ seamlessly. Here's the code snippet for this example:"
      ],
      "metadata": {
        "aminsedaghat": {
          "cell_type": "markdown"
        }
      },
      "id": "7ec65d1c-5d3c-4679-8dce-0b9cd2d521dc"
    },
    {
      "cell_type": "code",
      "source": [
        "```cpp\n",
        "#include <boost/python.hpp>\n",
        "#include <boost/serialization/serialization.hpp>\n",
        "#include <sstream>\n",
        "\n",
        "class PythonObjectWrapper {\n",
        "public:\n",
        "  // ... Class definition to wrap a Python object ...\n",
        "\n",
        "  template<class Archive>\n",
        "  void serialize(Archive & ar, const unsigned int version) {\n",
        "    // Serialization logic for the Python object\n",
        "  }\n",
        "};\n",
        "\n",
        "PythonObjectWrapper deserializeObject(const std::string& serialized_data) {\n",
        "  std::istringstream iss(serialized_data);\n",
        "  boost::archive::text_iarchive ia(iss);\n",
        "  PythonObjectWrapper obj;\n",
        "  ia >> obj;\n",
        "  return obj;\n",
        "}\n",
        "\n",
        "BOOST_PYTHON_MODULE(example) {\n",
        "  using namespace boost::python;\n",
        "  def(\"deserializeObject\", deserializeObject);\n",
        "}\n",
        "```\n",
        "\n",
        "In this example, we define a C++ class `PythonObjectWrapper` that wraps a Python object and includes serialization logic. We then create a function `deserializeObject` that takes a serialized string and deserializes it into a `PythonObjectWrapper` object using Boost's text archive. Finally, we expose this function to Python using Boost.Python."
      ],
      "outputs": [],
      "execution_count": null,
      "metadata": {
        "aminsedaghat": {
          "cell_type": "code"
        }
      },
      "id": "dd552400-5461-4b29-b1d7-6425b17fa5a0"
    },
    {
      "cell_type": "markdown",
      "source": [
        "### Example 3: Complex Object Serialization\n",
        "In this example, we'll explore how to handle the serialization of complex objects with nested structures using Boost.Python. This scenario is common when working with intricate data models that need to be transferred between C++ and Python. Here's the code snippet for this example:"
      ],
      "metadata": {
        "aminsedaghat": {
          "cell_type": "markdown"
        }
      },
      "id": "245b2c6a-11f1-43fd-b881-3812187c397e"
    },
    {
      "cell_type": "code",
      "source": [
        "```cpp\n",
        "#include <boost/python.hpp>\n",
        "#include <boost/serialization/serialization.hpp>\n",
        "#include <sstream>\n",
        "\n",
        "class NestedClass {\n",
        "public:\n",
        "  int nestedValue;\n",
        "  // ... Other members ...\n",
        "\n",
        "  template<class Archive>\n",
        "  void serialize(Archive & ar, const unsigned int version) {\n",
        "    ar & nestedValue;\n",
        "  }\n",
        "};\n",
        "\n",
        "class ComplexClass {\n",
        "public:\n",
        "  int value;\n",
        "  NestedClass nestedObject;\n",
        "  // ... Other members ...\n",
        "\n",
        "  template<class Archive>\n",
        "  void serialize(Archive & ar, const unsigned int version) {\n",
        "    ar & value & nestedObject;\n",
        "  }\n",
        "};\n",
        "\n",
        "std::string serializeComplexObject(const ComplexClass& obj) {\n",
        "  std::ostringstream oss;\n",
        "  boost::archive::text_oarchive oa(oss);\n",
        "  oa << obj;\n",
        "  return oss.str();\n",
        "}\n",
        "\n",
        "BOOST_PYTHON_MODULE(example) {\n",
        "  using namespace boost::python;\n",
        "  def(\"serializeComplexObject\", serializeComplexObject);\n",
        "}\n",
        "```\n",
        "\n",
        "In this example, we define two C++ classes, `NestedClass` and `ComplexClass`, with serialization functions. The `ComplexClass` contains a nested object of type `NestedClass`. We then create a function `serializeComplexObject` that takes an object of `ComplexClass` and serializes it into a string using Boost's text archive. Finally, we expose this function to Python using Boost.Python."
      ],
      "outputs": [],
      "execution_count": null,
      "metadata": {
        "aminsedaghat": {
          "cell_type": "code"
        }
      },
      "id": "2fe3e2be-a5c1-4a01-8e2b-1a635cf59436"
    },
    {
      "cell_type": "code",
      "source": [
        "```cpp\n",
        "#include <boost/python.hpp>\n",
        "#include <boost/serialization/serialization.hpp>\n",
        "#include <sstream>\n",
        "\n",
        "class ComplexClassCpp {\n",
        "public:\n",
        "  int value;\n",
        "  std::vector<int> values;\n",
        "\n",
        "  ComplexClassCpp(int v, const std::vector<int>& vals) : value(v), values(vals) {}\n",
        "\n",
        "  template<class Archive>\n",
        "  void serialize(Archive & ar, const unsigned int version) {\n",
        "    ar & value & values;\n",
        "  }\n",
        "};\n",
        "\n",
        "std::string serializeComplexObjectCpp(const ComplexClassCpp& obj) {\n",
        "  std::ostringstream oss;\n",
        "  boost::archive::text_oarchive oa(oss);\n",
        "  oa << obj;\n",
        "  return oss.str();\n",
        "}\n",
        "\n",
        "BOOST_PYTHON_MODULE(example) {\n",
        "  using namespace boost::python;\n",
        "  def(\"serializeComplexObjectCpp\", serializeComplexObjectCpp);\n",
        "}\n",
        "```\n",
        "\n",
        "This C++ code defines a class `ComplexClassCpp` with an integer value and a vector of integers. We then create a function `serializeComplexObjectCpp` that serializes an object of this class into a string using Boost's text archive. Finally, we expose this function to Python using Boost.Python."
      ],
      "outputs": [],
      "execution_count": null,
      "metadata": {
        "aminsedaghat": {
          "cell_type": "code"
        }
      },
      "id": "f041abda-1792-473f-b1e4-0077bd23ac20"
    },
    {
      "cell_type": "code",
      "source": [
        "```python\n",
        "import example # Importing the Boost.Python module\n",
        "\n",
        "class ComplexClassPython:\n",
        "    def __init__(self, serialized_data):\n",
        "        # Deserialization logic to convert serialized_data into a Python object\n",
        "        # ...\n",
        "\n",
        "serialized_data_cpp = example.serializeComplexObjectCpp(some_cpp_object)\n",
        "complex_object_python = ComplexClassPython(serialized_data_cpp)\n",
        "```\n",
        "\n",
        "In this Python code, we import the Boost.Python module that contains the `serializeComplexObjectCpp` function. We then define a Python class `ComplexClassPython` that takes the serialized data from C++ and deserializes it into a Python object. This demonstrates how complex objects can be transferred between C++ and Python using serialization and deserialization."
      ],
      "outputs": [],
      "execution_count": null,
      "metadata": {
        "aminsedaghat": {
          "cell_type": "code"
        }
      },
      "id": "e9c74139-3c41-46a2-b673-5dfcdd77b8df"
    },
    {
      "cell_type": "code",
      "source": [
        "```cpp\n",
        "#include <boost/python.hpp>\n",
        "#include <boost/serialization/serialization.hpp>\n",
        "#include <boost/serialization/version.hpp>\n",
        "#include <sstream>\n",
        "\n",
        "class VersionedClass {\n",
        "public:\n",
        "  int value;\n",
        "  int new_feature; // Added in a later version\n",
        "\n",
        "  template<class Archive>\n",
        "  void serialize(Archive & ar, const unsigned int version) {\n",
        "    ar & value;\n",
        "    if(version > 0) {\n",
        "      ar & new_feature; // Only serialize if version is greater than 0\n",
        "    }\n",
        "  }\n",
        "};\n",
        "\n",
        "BOOST_CLASS_VERSION(VersionedClass, 1) // Setting the class version to 1\n",
        "\n",
        "std::string serializeVersionedObject(const VersionedClass& obj) {\n",
        "  try {\n",
        "    std::ostringstream oss;\n",
        "    boost::archive::text_oarchive oa(oss);\n",
        "    oa << obj;\n",
        "    return oss.str();\n",
        "  } catch (const boost::archive::archive_exception& e) {\n",
        "    // Handle serialization error\n",
        "    // ...\n",
        "    return \"\";\n",
        "  }\n",
        "}\n",
        "\n",
        "BOOST_PYTHON_MODULE(example) {\n",
        "  using namespace boost::python;\n",
        "  def(\"serializeVersionedObject\", serializeVersionedObject);\n",
        "}\n",
        "```\n",
        "\n",
        "This C++ code demonstrates how to handle serialization errors using a try-catch block. It also includes versioning for the `VersionedClass`, allowing for backward compatibility with older serialized data. The `BOOST_CLASS_VERSION` macro is used to set the class version, and conditional serialization logic is implemented based on the version number."
      ],
      "outputs": [],
      "execution_count": null,
      "metadata": {
        "aminsedaghat": {
          "cell_type": "code"
        }
      },
      "id": "21c32d78-6ab1-46b8-af4e-1c0a4b1e4a97"
    },
    {
      "cell_type": "code",
      "source": [
        "```cpp\n",
        "#include <boost/python.hpp>\n",
        "#include <boost/serialization/serialization.hpp>\n",
        "#include <boost/serialization/vector.hpp>\n",
        "#include <boost/serialization/map.hpp>\n",
        "#include <sstream>\n",
        "\n",
        "class CustomDataStructure {\n",
        "public:\n",
        "  int id;\n",
        "  std::string name;\n",
        "  std::vector<double> values;\n",
        "  std::map<std::string, int> attributes;\n",
        "\n",
        "  template<class Archive>\n",
        "  void serialize(Archive & ar, const unsigned int version) {\n",
        "    ar & id & name & values & attributes;\n",
        "  }\n",
        "};\n",
        "\n",
        "std::string serializeCustomData(const CustomDataStructure& obj) {\n",
        "  std::ostringstream oss;\n",
        "  boost::archive::text_oarchive oa(oss);\n",
        "  oa << obj;\n",
        "  return oss.str();\n",
        "}\n",
        "\n",
        "CustomDataStructure deserializeCustomData(const std::string& serialized_data) {\n",
        "  std::istringstream iss(serialized_data);\n",
        "  boost::archive::text_iarchive ia(iss);\n",
        "  CustomDataStructure obj;\n",
        "  ia >> obj;\n",
        "  return obj;\n",
        "}\n",
        "\n",
        "BOOST_PYTHON_MODULE(example) {\n",
        "  using namespace boost::python;\n",
        "  def(\"serializeCustomData\", serializeCustomData);\n",
        "  def(\"deserializeCustomData\", deserializeCustomData);\n",
        "}\n",
        "```\n",
        "\n",
        "This C++ code defines a class `CustomDataStructure` that includes various types of data. The `serialize` function handles the serialization of all these data types. We then create functions `serializeCustomData` and `deserializeCustomData` to serialize and deserialize objects of this class, respectively. These functions are exposed to Python using Boost.Python."
      ],
      "outputs": [],
      "execution_count": null,
      "metadata": {
        "aminsedaghat": {
          "cell_type": "code"
        }
      },
      "id": "706cd9e4-0bfb-4067-a7b9-12a0296ca9e1"
    },
    {
      "cell_type": "code",
      "source": [
        "```cpp\n",
        "#include <boost/python.hpp>\n",
        "#include <boost/serialization/serialization.hpp>\n",
        "#include <boost/serialization/base_object.hpp>\n",
        "#include <boost/serialization/export.hpp>\n",
        "#include <sstream>\n",
        "\n",
        "class BaseClass {\n",
        "public:\n",
        "  virtual ~BaseClass() {}\n",
        "  virtual std::string getType() const { return \"Base\"; }\n",
        "\n",
        "  template<class Archive>\n",
        "  void serialize(Archive & ar, const unsigned int version) {\n",
        "    // Base class serialization logic\n",
        "  }\n",
        "};\n",
        "\n",
        "class DerivedClassA : public BaseClass {\n",
        "public:\n",
        "  virtual std::string getType() const override { return \"DerivedA\"; }\n",
        "\n",
        "  template<class Archive>\n",
        "  void serialize(Archive & ar, const unsigned int version) {\n",
        "    ar & boost::serialization::base_object<BaseClass>(*this);\n",
        "    // Derived class A serialization logic\n",
        "  }\n",
        "};\n",
        "\n",
        "class DerivedClassB : public BaseClass {\n",
        "public:\n",
        "  virtual std::string getType() const override { return \"DerivedB\"; }\n",
        "\n",
        "  template<class Archive>\n",
        "  void serialize(Archive & ar, const unsigned int version) {\n",
        "    ar & boost::serialization::base_object<BaseClass>(*this);\n",
        "    // Derived class B serialization logic\n",
        "  }\n",
        "};\n",
        "\n",
        "BOOST_CLASS_EXPORT(DerivedClassA)\n",
        "BOOST_CLASS_EXPORT(DerivedClassB)\n",
        "\n",
        "std::string serializePolymorphicObject(const BaseClass* obj) {\n",
        "  std::ostringstream oss;\n",
        "  boost::archive::text_oarchive oa(oss);\n",
        "  oa << obj;\n",
        "  return oss.str();\n",
        "}\n",
        "\n",
        "BaseClass* deserializePolymorphicObject(const std::string& serialized_data) {\n",
        "  std::istringstream iss(serialized_data);\n",
        "  boost::archive::text_iarchive ia(iss);\n",
        "  BaseClass* obj;\n",
        "  ia >> obj;\n",
        "  return obj;\n",
        "}\n",
        "\n",
        "BOOST_PYTHON_MODULE(example) {\n",
        "  using namespace boost::python;\n",
        "  def(\"serializePolymorphicObject\", serializePolymorphicObject);\n",
        "  def(\"deserializePolymorphicObject\", deserializePolymorphicObject);\n",
        "}\n",
        "```\n",
        "\n",
        "This C++ code demonstrates how to handle serialization with polymorphism. We define a base class `BaseClass` and two derived classes `DerivedClassA` and `DerivedClassB`. The serialization functions in the derived classes include the base class's serialization logic using `boost::serialization::base_object`. We also use `BOOST_CLASS_EXPORT` to handle the polymorphic serialization. The functions `serializePolymorphicObject` and `deserializePolymorphicObject` handle the serialization and deserialization of these polymorphic objects, and they are exposed to Python using Boost.Python."
      ],
      "outputs": [],
      "execution_count": null,
      "metadata": {
        "aminsedaghat": {
          "cell_type": "code"
        }
      },
      "id": "83b3562a-dd48-4b09-b177-59040165ccfb"
    },
    {
      "cell_type": "code",
      "source": [
        "```cpp\n",
        "#include <boost/python.hpp>\n",
        "#include <boost/serialization/serialization.hpp>\n",
        "#include <boost/serialization/shared_ptr.hpp>\n",
        "#include <sstream>\n",
        "#include <memory>\n",
        "\n",
        "class SharedClass {\n",
        "public:\n",
        "  int value;\n",
        "\n",
        "  SharedClass(int v) : value(v) {}\n",
        "\n",
        "  template<class Archive>\n",
        "  void serialize(Archive & ar, const unsigned int version) {\n",
        "    ar & value;\n",
        "  }\n",
        "};\n",
        "\n",
        "std::string serializeSharedPtr(const std::shared_ptr<SharedClass>& obj) {\n",
        "  std::ostringstream oss;\n",
        "  boost::archive::text_oarchive oa(oss);\n",
        "  oa << obj;\n",
        "  return oss.str();\n",
        "}\n",
        "\n",
        "std::shared_ptr<SharedClass> deserializeSharedPtr(const std::string& serialized_data) {\n",
        "  std::istringstream iss(serialized_data);\n",
        "  boost::archive::text_iarchive ia(iss);\n",
        "  std::shared_ptr<SharedClass> obj;\n",
        "  ia >> obj;\n",
        "  return obj;\n",
        "}\n",
        "\n",
        "BOOST_PYTHON_MODULE(example) {\n",
        "  using namespace boost::python;\n",
        "  def(\"serializeSharedPtr\", serializeSharedPtr);\n",
        "  def(\"deserializeSharedPtr\", deserializeSharedPtr);\n",
        "}\n",
        "```\n",
        "\n",
        "This C++ code demonstrates how to handle serialization with shared pointers. We define a class `SharedClass` and create functions `serializeSharedPtr` and `deserializeSharedPtr` to serialize and deserialize shared pointers to objects of this class. These functions are exposed to Python using Boost.Python. The `boost::serialization::shared_ptr` header is included to enable the serialization of shared pointers."
      ],
      "outputs": [],
      "execution_count": null,
      "metadata": {
        "aminsedaghat": {
          "cell_type": "code"
        }
      },
      "id": "d78cfeea-f736-43fe-ab8c-8bbf41a968d9"
    }
  ],
  "metadata": {
    "aminsedaghat-notebook": {
      "create_notebook": {
        "jupyter_notebook_conversation_id": "30417689-a6c8-566c-a00a-53e97f29f913",
        "jupyter_notebook_ephemeral_user_id": "20e142f4-69cc-5922-8ed2-bc87ba5b68ad",
        "jupyter_notebook_subdivision1_iso_code": "CA-ON"
      }
    },
    "kernel_info": {
      "name": "python3"
    },
    "aminsedaghat": {
      "last_transaction_id": "c45be1ad-8332-4edb-967a-c69625e093bb",
      "last_delta_id": "fe8577d3-8fb8-4110-94d3-27ec4cbbd47b"
    },
    "kernelspec": {
      "display_name": "Python 3.9",
      "language": "python",
      "name": "python3"
    },
    "selected_hardware_size": "small",
    "nteract": {
      "version": "aminsedaghat@2.9.0"
    }
  },
  "nbformat": 4,
  "nbformat_minor": 5
}