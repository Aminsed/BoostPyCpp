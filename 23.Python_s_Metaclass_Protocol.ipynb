{
  "cells": [
    {
      "cell_type": "markdown",
      "source": [
        "# Python's Metaclass Protocol\n",
        "\n",
        "Before we dive into the specifics of Python's Metaclass Protocol in the context of Boost.Python, let's first understand what metaclasses are and how they work in Python.\n",
        "\n",
        "In Python, everything is an object, and all objects are instances of a class. Classes are also objects, and they are instances of a metaclass. In simpler terms, a metaclass is the class of a class. A class defines how an instance of the class (i.e., an object) behaves, while a metaclass defines how a class behaves. A class is an instance of a metaclass.\n",
        "\n",
        "While in Python you can use arbitrary callables for metaclasses, the more useful approach is to make it an actual class itself. `type` is the usual metaclass in Python. But by defining your own metaclass you can tweak the way the class is defined in subtle ways that can be both incredibly powerful and tremendously confusing.\n",
        "\n",
        "Here's a simple example of a metaclass:"
      ],
      "metadata": {
        "aminsedaghat": {
          "cell_type": "markdown"
        }
      },
      "id": "a5434986-e0a8-422d-a74b-1af960b50a04"
    },
    {
      "cell_type": "code",
      "source": [
        "# Define a metaclass\n",
        "class Meta(type):\n",
        "    def __new__(cls, name, bases, attrs):\n",
        "        print('Creating class:', name)\n",
        "        return super().__new__(cls, name, bases, attrs)\n",
        "\n",
        "# Use the metaclass\n",
        "class MyClass(metaclass=Meta):\n",
        "    pass"
      ],
      "outputs": [
        {
          "output_type": "stream",
          "name": "stdout",
          "text": [
            "Creating class: MyClass\n"
          ]
        }
      ],
      "execution_count": null,
      "metadata": {
        "aminsedaghat": {
          "cell_type": "code"
        },
        "ExecuteTime": {
          "end_time": "2023-08-01T01:02:51.992774+00:00",
          "start_time": "2023-08-01T01:02:51.833144+00:00"
        }
      },
      "id": "6c35049c-25b6-4efc-a182-c6db8664bfad"
    },
    {
      "cell_type": "markdown",
      "source": [
        "# Metaclass Protocol in Boost.Python\n",
        "\n",
        "Boost.Python is a C++ library which enables seamless interoperability between C++ and the Python programming language. The library includes support for:\n",
        "\n",
        "- Calling Python functions and methods from C++ code.\n",
        "- Calling C++ functions and methods from Python code.\n",
        "- Creating Python modules with C++ functions and classes.\n",
        "- Exception translation between C++ and Python.\n",
        "- Automatic conversion between C++ and Python data types.\n",
        "\n",
        "In the context of Boost.Python, the Metaclass Protocol is used to handle the Python object model from C++. It allows C++ code to create Python classes, modify them, and interact with them in other ways. This is a more advanced topic, and it requires a good understanding of both Python and C++. Let's dive into it."
      ],
      "metadata": {
        "aminsedaghat": {
          "cell_type": "markdown"
        }
      },
      "id": "1f2b15a0-4c12-4c9f-8bf9-ae907afc8339"
    },
    {
      "cell_type": "markdown",
      "source": [
        "## More on Python Metaclasses\n",
        "\n",
        "Let's dive deeper into Python metaclasses with more examples. We'll start by creating a metaclass that adds a special method to the classes it creates."
      ],
      "metadata": {
        "aminsedaghat": {
          "cell_type": "markdown"
        }
      },
      "id": "fe545377-7eea-4630-9490-50df73e11638"
    },
    {
      "cell_type": "code",
      "source": [
        "# Define a metaclass that adds a special method to the classes it creates\n",
        "class SpecialMethodMeta(type):\n",
        "    def __new__(cls, name, bases, attrs):\n",
        "        # Add a special method to the class\n",
        "        attrs['special_method'] = lambda self: f'I am {self.__class__.__name__}'\n",
        "        return super().__new__(cls, name, bases, attrs)\n",
        "\n",
        "# Use the metaclass\n",
        "class MyClass(metaclass=SpecialMethodMeta):\n",
        "    pass\n",
        "\n",
        "# Create an instance of the class\n",
        "my_instance = MyClass()\n",
        "\n",
        "# Call the special method\n",
        "print(my_instance.special_method())"
      ],
      "outputs": [
        {
          "output_type": "stream",
          "name": "stdout",
          "text": [
            "I am MyClass\n"
          ]
        }
      ],
      "execution_count": null,
      "metadata": {
        "aminsedaghat": {
          "cell_type": "code"
        },
        "ExecuteTime": {
          "end_time": "2023-08-01T01:04:44.697657+00:00",
          "start_time": "2023-08-01T01:04:44.538496+00:00"
        }
      },
      "id": "76370b55-91c6-40e4-b50f-384b05d68bd4"
    },
    {
      "cell_type": "markdown",
      "source": [
        "## Enforcing Conditions with Metaclasses\n",
        "\n",
        "We can use a metaclass to enforce certain conditions on the classes it creates. For example, we can create a metaclass that ensures all classes have a certain attribute or method. Let's create a metaclass that ensures all classes have a `hello` method."
      ],
      "metadata": {
        "aminsedaghat": {
          "cell_type": "markdown"
        }
      },
      "id": "40c439ba-eff3-48ad-8f07-533af82968c2"
    },
    {
      "cell_type": "code",
      "source": [
        "# Define a metaclass that ensures all classes have a `hello` method\n",
        "class HelloMeta(type):\n",
        "    def __new__(cls, name, bases, attrs):\n",
        "        if 'hello' not in attrs:\n",
        "            raise TypeError('Missing hello method')\n",
        "        return super().__new__(cls, name, bases, attrs)\n",
        "\n",
        "# Try to use the metaclass without a `hello` method\n",
        "try:\n",
        "    class MyClass(metaclass=HelloMeta):\n",
        "        pass\n",
        "except TypeError as e:\n",
        "    print(e)\n",
        "\n",
        "# Use the metaclass with a `hello` method\n",
        "class MyClass(metaclass=HelloMeta):\n",
        "    def hello(self):\n",
        "        return 'Hello, world!'\n",
        "\n",
        "# Create an instance of the class\n",
        "my_instance = MyClass()\n",
        "\n",
        "# Call the `hello` method\n",
        "print(my_instance.hello())"
      ],
      "outputs": [
        {
          "output_type": "stream",
          "name": "stdout",
          "text": [
            "Missing hello method\n",
            "Hello, world!\n"
          ]
        }
      ],
      "execution_count": null,
      "metadata": {
        "aminsedaghat": {
          "cell_type": "code"
        },
        "ExecuteTime": {
          "end_time": "2023-08-01T01:05:34.972197+00:00",
          "start_time": "2023-08-01T01:05:34.810966+00:00"
        }
      },
      "id": "fb245272-02f1-46dc-bd65-fab3f6a36d86"
    },
    {
      "cell_type": "markdown",
      "source": [
        "## The Metaclass Protocol in Python\n",
        "\n",
        "The Metaclass Protocol is the process that Python follows when creating a new class. It involves several steps and methods, including `__prepare__`, `__new__`, and `__init__`. Let's dive into it."
      ],
      "metadata": {
        "aminsedaghat": {
          "cell_type": "markdown"
        }
      },
      "id": "6093a44b-bce2-4e91-ba55-28178f853630"
    },
    {
      "cell_type": "markdown",
      "source": [
        "When a new class is created in Python, the Metaclass Protocol is followed. This protocol involves three main steps:\n",
        "\n",
        "1. **Preparation:** The metaclass's `__prepare__` method is called. This method takes the class name and base classes as arguments, and it returns a dictionary-like object that is used as the local namespace when the class body is executed. The default implementation returns a new, empty dictionary.\n",
        "\n",
        "2. **Creation:** The metaclass's `__new__` method is called. This method takes the class name, base classes, and the dictionary returned by `__prepare__` as arguments, and it returns the new class object. The default implementation creates and returns a new class object.\n",
        "\n",
        "3. **Initialization:** The new class's `__init__` method is called. This method takes the same arguments as `__new__`, and its default implementation does nothing.\n",
        "\n",
        "Let's create a metaclass that overrides these methods to see when they are called."
      ],
      "metadata": {
        "aminsedaghat": {
          "cell_type": "markdown"
        }
      },
      "id": "fe54526d-f447-4bb4-8a47-66b3d856cce8"
    },
    {
      "cell_type": "code",
      "source": [
        "# Define a metaclass that overrides __prepare__, __new__, and __init__\n",
        "class MetaProtocol(type):\n",
        "    def __prepare__(name, bases):\n",
        "        print('Prepare:', name)\n",
        "        return super().__prepare__(name, bases)\n",
        "\n",
        "    def __new__(cls, name, bases, attrs):\n",
        "        print('New:', name)\n",
        "        return super().__new__(cls, name, bases, attrs)\n",
        "\n",
        "    def __init__(self, name, bases, attrs):\n",
        "        print('Init:', name)\n",
        "        super().__init__(name, bases, attrs)\n",
        "\n",
        "# Use the metaclass\n",
        "class MyClass(metaclass=MetaProtocol):\n",
        "    pass"
      ],
      "outputs": [
        {
          "output_type": "stream",
          "name": "stdout",
          "text": [
            "Prepare: MyClass\n"
          ]
        },
        {
          "output_type": "error",
          "ename": "TypeError",
          "evalue": "super(type, obj): obj must be an instance or subtype of type",
          "traceback": [
            "\u001b[0;31m---------------------------------------------------------------------------\u001b[0m",
            "\u001b[0;31mTypeError\u001b[0m                                 Traceback (most recent call last)",
            "Cell \u001b[0;32mIn[4], line 16\u001b[0m\n\u001b[1;32m     13\u001b[0m         \u001b[38;5;28msuper\u001b[39m()\u001b[38;5;241m.\u001b[39m\u001b[38;5;21m__init__\u001b[39m(name, bases, attrs)\n\u001b[1;32m     15\u001b[0m \u001b[38;5;66;03m# Use the metaclass\u001b[39;00m\n\u001b[0;32m---> 16\u001b[0m \u001b[38;5;28;01mclass\u001b[39;00m \u001b[38;5;21;01mMyClass\u001b[39;00m(metaclass\u001b[38;5;241m=\u001b[39mMetaProtocol):\n\u001b[1;32m     17\u001b[0m     \u001b[38;5;28;01mpass\u001b[39;00m\n",
            "Cell \u001b[0;32mIn[4], line 5\u001b[0m, in \u001b[0;36mMetaProtocol.__prepare__\u001b[0;34m(name, bases)\u001b[0m\n\u001b[1;32m      3\u001b[0m \u001b[38;5;28;01mdef\u001b[39;00m \u001b[38;5;21m__prepare__\u001b[39m(name, bases):\n\u001b[1;32m      4\u001b[0m     \u001b[38;5;28mprint\u001b[39m(\u001b[38;5;124m'\u001b[39m\u001b[38;5;124mPrepare:\u001b[39m\u001b[38;5;124m'\u001b[39m, name)\n\u001b[0;32m----> 5\u001b[0m     \u001b[38;5;28;01mreturn\u001b[39;00m \u001b[38;5;28;43msuper\u001b[39;49m\u001b[43m(\u001b[49m\u001b[43m)\u001b[49m\u001b[38;5;241m.\u001b[39m\u001b[38;5;21m__prepare__\u001b[39m(name, bases)\n",
            "\u001b[0;31mTypeError\u001b[0m: super(type, obj): obj must be an instance or subtype of type"
          ]
        }
      ],
      "execution_count": null,
      "metadata": {
        "aminsedaghat": {
          "cell_type": "code"
        },
        "ExecuteTime": {
          "end_time": "2023-08-01T01:06:46.901289+00:00",
          "start_time": "2023-08-01T01:06:46.269237+00:00"
        }
      },
      "id": "beb248a2-fc74-4ce6-931c-ff6261d30c36"
    },
    {
      "cell_type": "code",
      "source": [
        "# Define a metaclass that overrides __prepare__, __new__, and __init__\n",
        "class MetaProtocol(type):\n",
        "    def __prepare__(name, bases):\n",
        "        print('Prepare:', name)\n",
        "        return {}\n",
        "\n",
        "    def __new__(cls, name, bases, attrs):\n",
        "        print('New:', name)\n",
        "        return super().__new__(cls, name, bases, attrs)\n",
        "\n",
        "    def __init__(self, name, bases, attrs):\n",
        "        print('Init:', name)\n",
        "        super().__init__(name, bases, attrs)\n",
        "\n",
        "# Use the metaclass\n",
        "class MyClass(metaclass=MetaProtocol):\n",
        "    pass"
      ],
      "outputs": [
        {
          "output_type": "stream",
          "name": "stdout",
          "text": [
            "Prepare: MyClass\n",
            "New: MyClass\n",
            "Init: MyClass\n"
          ]
        }
      ],
      "execution_count": null,
      "metadata": {
        "aminsedaghat": {
          "cell_type": "code"
        },
        "ExecuteTime": {
          "end_time": "2023-08-01T01:07:21.625529+00:00",
          "start_time": "2023-08-01T01:07:21.466775+00:00"
        }
      },
      "id": "1596504b-2f64-4980-bec7-5dd6dac507ca"
    },
    {
      "cell_type": "markdown",
      "source": [
        "## Metaclasses in Boost.Python\n",
        "\n",
        "Boost.Python is a C++ library that enables seamless interoperability between C++ and Python. It allows you to write Python classes in C++, expose C++ classes and functions to Python, and more. Metaclasses in Boost.Python are used to control the creation of Python classes from C++.\n",
        "\n",
        "Unfortunately, we can't demonstrate Boost.Python directly in this notebook because it requires a C++ compiler and the Boost.Python library, which are not available in this environment. However, we can discuss how it works.\n",
        "\n",
        "In Boost.Python, you can define a Python class in C++ using the `class_` template. The `class_` template takes two template parameters: the C++ type to expose to Python, and the metaclass to use. If you don't specify a metaclass, Boost.Python uses `type` by default, which is the default metaclass in Python.\n",
        "\n",
        "Here is an example of how you might define a Python class in C++ with Boost.Python:\n",
        "\n",
        "```cpp\n",
        "#include <boost/python.hpp>\n",
        "\n",
        "struct MyClass {\n",
        "    MyClass(std::string name): name(name) {}\n",
        "    std::string name;\n",
        "};\n",
        "\n",
        "BOOST_PYTHON_MODULE(my_module) {\n",
        "    boost::python::class_<MyClass>(\"MyClass\", boost::python::init<std::string>())\n",
        "        .def_readwrite(\"name\", &MyClass::name);\n",
        "}\n",
        "```\n",
        "\n",
        "In this code, `MyClass` is a C++ struct with a single member `name`. The `BOOST_PYTHON_MODULE` macro defines a Python module. Inside this module, the `class_` template is used to define a Python class `MyClass` that corresponds to the C++ struct `MyClass`. The `def_readwrite` function is used to expose the `name` member to Python.\n",
        "\n",
        "If you wanted to use a custom metaclass, you could pass it as the second template parameter to `class_`. However, this requires the metaclass to be defined in C++ and exposed to Python with Boost.Python, which is beyond the scope of this notebook.\n",
        "\n",
        "In general, metaclasses in Boost.Python work the same way as in Python. They control the creation of classes, and they can modify or wrap the classes they create. However, they are defined in C++ and need to be exposed to Python with Boost.Python."
      ],
      "metadata": {
        "aminsedaghat": {
          "cell_type": "markdown"
        }
      },
      "id": "bd306001-6fe1-48f6-88af-0c1522ffed08"
    },
    {
      "cell_type": "markdown",
      "source": [
        "## Metaclass Use Cases\n",
        "\n",
        "Metaclasses are a powerful tool in Python, but they are also complex and can make code harder to understand. Therefore, they should be used sparingly and only when necessary. Here are some use cases where metaclasses can be useful:\n",
        "\n",
        "1. **Enforcing Coding Conventions:** As we saw earlier, a metaclass can enforce certain conditions on the classes it creates. For example, it can ensure that all classes have a certain method or attribute, follow certain naming conventions, etc. This can be useful in large codebases to enforce coding conventions and prevent bugs.\n",
        "\n",
        "2. **Code Generation:** Metaclasses can generate or modify code dynamically. For example, they can add methods or attributes to a class, modify existing methods, etc. This can be useful for code generation, where you want to generate complex code structures with minimal manual coding.\n",
        "\n",
        "3. **Singleton Pattern:** The singleton pattern is a design pattern that restricts the instantiation of a class to a single instance. This can be implemented with a metaclass by overriding the `__call__` method to always return the same instance.\n",
        "\n",
        "4. **Object-Relational Mapping (ORM):** ORMs like SQLAlchemy use metaclasses to map Python classes to database tables. The metaclass translates the class definition into SQL code that creates a corresponding database table.\n",
        "\n",
        "5. **In Boost.Python:** As we discussed earlier, Boost.Python uses metaclasses to control the creation of Python classes from C++. This allows you to write Python classes in C++, expose C++ classes and functions to Python, and more."
      ],
      "metadata": {
        "aminsedaghat": {
          "cell_type": "markdown"
        }
      },
      "id": "d81121d5-f3c6-4391-bc4c-5ece74566144"
    }
  ],
  "metadata": {
    "aminsedaghat-notebook": {
      "create_notebook": {
        "jupyter_notebook_conversation_id": "30417689-a6c8-566c-a00a-53e97f29f913",
        "jupyter_notebook_ephemeral_user_id": "9a2db01a-0e55-5148-a065-9c71f38a72bf",
        "jupyter_notebook_subdivision1_iso_code": "CA-ON"
      }
    },
    "kernel_info": {
      "name": "python3"
    },
    "aminsedaghat": {
      "last_transaction_id": "da118681-ff84-4be3-a409-f571a1cf408e",
      "last_delta_id": "bbeea58d-5c78-40f7-8754-00d0e17a9b16"
    },
    "kernelspec": {
      "display_name": "Python 3.9",
      "language": "python",
      "name": "python3"
    },
    "selected_hardware_size": "small",
    "nteract": {
      "version": "aminsedaghat@2.9.0"
    }
  },
  "nbformat": 4,
  "nbformat_minor": 5
}