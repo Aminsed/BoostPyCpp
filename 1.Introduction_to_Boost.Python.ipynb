{
  "cells": [
    {
      "cell_type": "markdown",
      "source": [
        "# Introduction to Boost.Python\n",
        "\n",
        "Boost.Python is a C++ library used for interfacing Python and C++. It's a part of the larger boost C++ libraries. The main purpose of Boost.Python is to enable seamless interoperability between C++ and Python. This means you can write Python classes in C++, and similarly, use C++ classes and functions in Python.\n",
        "\n",
        "This capability is particularly useful in scenarios where you have performance-critical code written in C++ that you want to use in a Python program. Python, being an interpreted language, is generally slower than compiled languages like C++. By using Boost.Python, you can get the best of both worlds: the performance of C++ and the simplicity and expressiveness of Python.\n",
        "\n",
        "In this notebook, we will explore the capabilities of Boost.Python, including:\n",
        "\n",
        "- Exposing C++ classes and functions to Python\n",
        "- Calling Python functions from C++\n",
        "- Exception translation between C++ and Python\n",
        "- Manipulating Python objects in C++\n",
        "- Automatic conversions between C++ and Python data types\n",
        "\n",
        "Before we dive into the details, it's important to note that this notebook assumes you have a basic understanding of both Python and C++."
      ],
      "metadata": {
        "noteable": {
          "cell_type": "markdown"
        }
      },
      "id": "81cd74e6-0509-4f80-ad7f-af2f7126fe1c"
    },
    {
      "cell_type": "markdown",
      "source": [
        "## Installation\n",
        "\n",
        "Before we can use Boost.Python, we need to install it. The installation process involves two steps:\n",
        "\n",
        "1. Installing the Boost C++ libraries\n",
        "2. Building the Boost.Python library\n",
        "\n",
        "The Boost C++ libraries can be installed on Ubuntu using the following command:\n",
        "\n",
        "```bash\n",
        "sudo apt-get install libboost-all-dev\n",
        "```\n",
        "\n",
        "On macOS, you can use Homebrew:\n",
        "\n",
        "```bash\n",
        "brew install boost\n",
        "```\n",
        "\n",
        "After installing the Boost C++ libraries, you can build the Boost.Python library. This requires the Python development headers. On Ubuntu, you can install them using the following command:\n",
        "\n",
        "```bash\n",
        "sudo apt-get install python-dev\n",
        "```\n",
        "\n",
        "On macOS, the Python development headers are included with the Python installation.\n",
        "\n",
        "With the Python development headers installed, you can build Boost.Python using the following commands:\n",
        "\n",
        "```bash\n",
        "cd /path/to/boost_1_XX_0\n",
        "sudo ./bootstrap.sh --with-libraries=python\n",
        "sudo ./b2\n",
        "```\n",
        "\n",
        "Replace `/path/to/boost_1_XX_0` with the path to the Boost C++ libraries on your system.\n",
        "\n",
        "After running these commands, Boost.Python should be installed on your system."
      ],
      "metadata": {
        "noteable": {
          "cell_type": "markdown"
        }
      },
      "id": "78a54fcc-5775-4fda-a651-549a12c230ac"
    },
    {
      "cell_type": "markdown",
      "source": [
        "## Exposing C++ Classes and Functions to Python\n",
        "\n",
        "One of the main features of Boost.Python is the ability to expose C++ classes and functions to Python. This is done using the `BOOST_PYTHON_MODULE` macro, which creates a Python module that can be imported in Python code.\n",
        "\n",
        "Here's an example of how to expose a C++ class to Python using Boost.Python:\n",
        "\n",
        "```cpp\n",
        "#include <boost/python.hpp>\n",
        "\n",
        "class MyClass {\n",
        "public:\n",
        "    MyClass(int x) : x_(x) {}\n",
        "    void set(int x) { x_ = x; }\n",
        "    int get() const { return x_; }\n",
        "private:\n",
        "    int x_;\n",
        "};\n",
        "\n",
        "BOOST_PYTHON_MODULE(my_module) {\n",
        "    boost::python::class_<MyClass>(\"MyClass\", boost::python::init<int>())\n",
        "        .def(\"set\", &MyClass::set)\n",
        "        .def(\"get\", &MyClass::get);\n",
        "}\n",
        "```\n",
        "\n",
        "In this example, we define a C++ class `MyClass` with a constructor, a setter method `set`, and a getter method `get`. We then use the `BOOST_PYTHON_MODULE` macro to create a Python module `my_module`. Inside this module, we expose the `MyClass` class and its methods to Python.\n",
        "\n",
        "After compiling this code into a shared library, we can import the `my_module` module in Python and use the `MyClass` class as if it were a Python class:\n",
        "\n",
        "```python\n",
        "import my_module\n",
        "\n",
        "obj = my_module.MyClass(42)\n",
        "print(obj.get())  # prints: 42\n",
        "obj.set(23)\n",
        "print(obj.get())  # prints: 23\n",
        "```\n",
        "\n",
        "Similarly, we can expose C++ functions to Python. Here's an example:\n",
        "\n",
        "```cpp\n",
        "#include <boost/python.hpp>\n",
        "\n",
        "int add(int x, int y) {\n",
        "    return x + y;\n",
        "}\n",
        "\n",
        "BOOST_PYTHON_MODULE(my_module) {\n",
        "    boost::python::def(\"add\", add);\n",
        "}\n",
        "```\n",
        "\n",
        "In this example, we define a C++ function `add` that adds two integers. We then use the `BOOST_PYTHON_MODULE` macro to create a Python module `my_module`. Inside this module, we expose the `add` function to Python.\n",
        "\n",
        "After compiling this code into a shared library, we can import the `my_module` module in Python and use the `add` function as if it were a Python function:\n",
        "\n",
        "```python\n",
        "import my_module\n",
        "\n",
        "print(my_module.add(2, 3))  # prints: 5\n",
        "```"
      ],
      "metadata": {
        "noteable": {
          "cell_type": "markdown"
        }
      },
      "id": "ac6c93c8-782a-494c-b681-52384bce0dd2"
    },
    {
      "cell_type": "markdown",
      "source": [
        "## Calling Python Functions from C++\n",
        "\n",
        "In addition to exposing C++ classes and functions to Python, Boost.Python also allows you to call Python functions from C++. This is done using the `boost::python::call_function` function.\n",
        "\n",
        "Here's an example of how to call a Python function from C++ using Boost.Python:\n",
        "\n",
        "```cpp\n",
        "#include <boost/python.hpp>\n",
        "\n",
        "int main() {\n",
        "    Py_Initialize();\n",
        "\n",
        "    boost::python::object main_module = boost::python::import(\"__main__\");\n",
        "    boost::python::object main_namespace = main_module.attr(\"__dict__\");\n",
        "\n",
        "    boost::python::exec(\"def add(x, y): return x + y\", main_namespace);\n",
        "\n",
        "    boost::python::object add_func = main_namespace[\"add\"];\n",
        "    int result = boost::python::call<int>(add_func.ptr(), 2, 3);\n",
        "\n",
        "    std::cout << result << std::endl;  // prints: 5\n",
        "\n",
        "    Py_Finalize();\n",
        "\n",
        "    return 0;\n",
        "}\n",
        "```\n",
        "\n",
        "In this example, we first initialize the Python interpreter with `Py_Initialize`. We then get the main Python module and its namespace. We define a Python function `add` using `boost::python::exec`. We then get a reference to the `add` function and call it using `boost::python::call_function`, passing the function pointer and the arguments to the function. The result of the function call is stored in the `result` variable. Finally, we finalize the Python interpreter with `Py_Finalize`."
      ],
      "metadata": {
        "noteable": {
          "cell_type": "markdown"
        }
      },
      "id": "089a8182-cb75-4b4a-9f6b-79f84171dfee"
    },
    {
      "cell_type": "markdown",
      "source": [
        "## Exception Translation Between C++ and Python\n",
        "\n",
        "Boost.Python provides a mechanism for translating C++ exceptions into Python exceptions. This allows you to handle exceptions thrown by C++ code in Python.\n",
        "\n",
        "Here's an example of how to translate a C++ exception into a Python exception using Boost.Python:\n",
        "\n",
        "```cpp\n",
        "#include <boost/python.hpp>\n",
        "\n",
        "void translate(const MyException& e) {\n",
        "    PyErr_SetString(PyExc_RuntimeError, e.what());\n",
        "}\n",
        "\n",
        "BOOST_PYTHON_MODULE(my_module) {\n",
        "    boost::python::register_exception_translator<MyException>(translate);\n",
        "\n",
        "    // ... expose classes and functions ...\n",
        "}\n",
        "```\n",
        "\n",
        "In this example, we define a function `translate` that translates a C++ exception of type `MyException` into a Python `RuntimeError` exception. We then register this translator function with Boost.Python using `boost::python::register_exception_translator`.\n",
        "\n",
        "Now, if a C++ function exposed to Python throws a `MyException`, it will be caught and translated into a `RuntimeError` in Python."
      ],
      "metadata": {
        "noteable": {
          "cell_type": "markdown"
        }
      },
      "id": "3c888143-37e1-4cc2-940e-e206008caf14"
    },
    {
      "cell_type": "markdown",
      "source": [
        "## Manipulating Python Objects in C++\n",
        "\n",
        "Boost.Python provides a way to manipulate Python objects in C++. This is done using the `boost::python::object` class, which is a wrapper around a Python object.\n",
        "\n",
        "Here's an example of how to manipulate a Python list in C++ using Boost.Python:\n",
        "\n",
        "```cpp\n",
        "#include <boost/python.hpp>\n",
        "\n",
        "int main() {\n",
        "    Py_Initialize();\n",
        "\n",
        "    boost::python::list py_list;\n",
        "    py_list.append(42);\n",
        "    py_list.append(23);\n",
        "\n",
        "    for (int i = 0; i < len(py_list); ++i) {\n",
        "        int x = boost::python::extract<int>(py_list[i]);\n",
        "        std::cout << x << std::endl;\n",
        "    }\n",
        "\n",
        "    Py_Finalize();\n",
        "\n",
        "    return 0;\n",
        "}\n",
        "```\n",
        "\n",
        "In this example, we first initialize the Python interpreter with `Py_Initialize`. We then create a Python list `py_list` using `boost::python::list`. We append two integers to the list using the `append` method. We then iterate over the list and extract each integer using `boost::python::extract`. Finally, we finalize the Python interpreter with `Py_Finalize`."
      ],
      "metadata": {
        "noteable": {
          "cell_type": "markdown"
        }
      },
      "id": "4e147e39-6c96-4675-8d3b-9a4a04b9e69b"
    },
    {
      "cell_type": "markdown",
      "source": [
        "## Automatic Conversions Between C++ and Python Data Types\n",
        "\n",
        "Boost.Python automatically converts between C++ and Python data types. This means you can pass C++ data types to Python functions and return Python data types from C++ functions without having to manually convert them.\n",
        "\n",
        "Here's an example of how to pass a C++ string to a Python function and return a Python string from a C++ function using Boost.Python:\n",
        "\n",
        "```cpp\n",
        "#include <boost/python.hpp>\n",
        "\n",
        "std::string greet(const std::string& name) {\n",
        "    return \"Hello, \" + name + \"!\";\n",
        "}\n",
        "\n",
        "BOOST_PYTHON_MODULE(my_module) {\n",
        "    boost::python::def(\"greet\", greet);\n",
        "}\n",
        "```\n",
        "\n",
        "In this example, we define a C++ function `greet` that takes a C++ string and returns a C++ string. We then expose this function to Python using `boost::python::def`.\n",
        "\n",
        "After compiling this code into a shared library, we can import the `my_module` module in Python and call the `greet` function with a Python string. The Python string will be automatically converted to a C++ string, and the C++ string returned by the `greet` function will be automatically converted to a Python string:\n",
        "\n",
        "```python\n",
        "import my_module\n",
        "\n",
        "print(my_module.greet(\"World\"))  # prints: Hello, World!\n",
        "```"
      ],
      "metadata": {
        "noteable": {
          "cell_type": "markdown"
        }
      },
      "id": "6ad19cd7-a3d7-4144-aed1-89840a673c2b"
    }
  ],
  "metadata": {
    "noteable-chatgpt": {
      "create_notebook": {
        "openai_conversation_id": "94f378b5-3447-558f-aa42-cfd8d5e06d10",
        "openai_ephemeral_user_id": "5664ea6b-c533-51b6-acaa-189f84bef9e9",
        "openai_subdivision1_iso_code": "CA-ON"
      }
    },
    "kernel_info": {
      "name": "python3"
    },
    "noteable": {
      "last_transaction_id": "a5a48e4f-0e76-46f7-97dc-983f17675e92",
      "last_delta_id": "139f0a11-c00f-4272-ba87-fec9aae805ad"
    },
    "kernelspec": {
      "display_name": "Python 3.9",
      "language": "python",
      "name": "python3"
    },
    "selected_hardware_size": "small",
    "nteract": {
      "version": "noteable@2.9.0"
    }
  },
  "nbformat": 4,
  "nbformat_minor": 5
}