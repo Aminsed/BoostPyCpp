{
  "cells": [
    {
      "cell_type": "markdown",
      "source": [
        "# Embedding Python with Boost.Python\n",
        "\n",
        "Boost.Python is a C++ library used for interfacing Python and C++. It allows you to quickly and seamlessly expose C++ classes, functions, and objects to Python, and vice-versa, using no special tools, just your C++ compiler. It is designed to wrap C++ interfaces to Python in a very thin layer.\n",
        "\n",
        "In this notebook, we will explore how to embed Python into a C++ application using Boost.Python. This process involves running Python scripts and code from within a C++ program. We will go through several examples to illustrate the concepts and techniques involved.\n",
        "\n",
        "## Prerequisites\n",
        "\n",
        "Before we start, make sure you have the following installed:\n",
        "\n",
        "- Python (version 3.x is recommended)\n",
        "- Boost.Python library\n",
        "- A C++ compiler (like g++)\n",
        "\n",
        "You can install Boost.Python library using the package manager for your system. For example, on Ubuntu, you can use the following command:\n",
        "\n",
        "```bash\n",
        "sudo apt-get install libboost-python-dev\n",
        "```\n",
        "\n",
        "On Windows, you can download precompiled binaries from the [Boost website](https://www.boost.org/)."
      ],
      "metadata": {
        "noteable": {
          "cell_type": "markdown"
        }
      },
      "id": "f5196133-c606-4d4b-8c76-dc6d68f3e48a"
    },
    {
      "cell_type": "markdown",
      "source": [
        "## Basic Embedding\n",
        "\n",
        "The first step in embedding Python is to initialize the Python interpreter. This is done using the `Py_Initialize` function. After this, you can execute Python code using the `PyRun_SimpleString` function.\n",
        "\n",
        "Here is a simple example of a C++ program that embeds Python:\n",
        "\n",
        "```cpp\n",
        "#include <Python.h>\n",
        "\n",
        "int main(int argc, char *argv[])\n",
        "{\n",
        "    Py_Initialize();\n",
        "    PyRun_SimpleString(\"from time import time,ctime\\n\"\n",
        "                       \"print('Today is', ctime(time()))\\n\");\n",
        "    Py_Finalize();\n",
        "    return 0;\n",
        "}\n",
        "```\n",
        "\n",
        "In this example, `Py_Initialize` is called to start the Python interpreter, then `PyRun_SimpleString` is used to execute some Python code. Finally, `Py_Finalize` is called to stop the Python interpreter.\n",
        "\n",
        "This program will print the current date and time, using Python's time module, when run."
      ],
      "metadata": {
        "noteable": {
          "cell_type": "markdown"
        }
      },
      "id": "911048cf-98ed-464c-b2f5-8b1d70893187"
    },
    {
      "cell_type": "markdown",
      "source": [
        "## Embedding with Boost.Python\n",
        "\n",
        "While the Python C API provides a low-level interface for embedding Python, Boost.Python provides a higher-level interface that is easier to work with. The Boost.Python library allows you to interface Python and C++ and to embed Python code in your C++ application.\n",
        "\n",
        "Here is an example of how to use Boost.Python to embed Python in a C++ application:\n",
        "\n",
        "```cpp\n",
        "#include <boost/python.hpp>\n",
        "\n",
        "int main()\n",
        "{\n",
        "    Py_Initialize();\n",
        "    boost::python::exec(\"print('Hello, World!')\");\n",
        "    Py_Finalize();\n",
        "    return 0;\n",
        "}\n",
        "```\n",
        "\n",
        "In this example, `boost::python::exec` is used instead of `PyRun_SimpleString`. The `boost::python::exec` function is part of the Boost.Python library and provides a more convenient and type-safe interface than the Python C API."
      ],
      "metadata": {
        "noteable": {
          "cell_type": "markdown"
        }
      },
      "id": "288e3e56-8784-441a-9db0-3106c836c24e"
    },
    {
      "cell_type": "markdown",
      "source": [
        "## Calling Python Functions from C++\n",
        "\n",
        "You can also call Python functions from your C++ code using Boost.Python. Here is an example:\n",
        "\n",
        "```cpp\n",
        "#include <boost/python.hpp>\n",
        "\n",
        "int main()\n",
        "{\n",
        "    Py_Initialize();\n",
        "    boost::python::object main_module = boost::python::import(\"__main__\");\n",
        "    boost::python::object main_namespace = main_module.attr(\"__dict__\");\n",
        "    boost::python::exec(\"def hello():\\n\"\n",
        "                        \"    print('Hello, World!')\\n\",\n",
        "                        main_namespace);\n",
        "    boost::python::object hello_func = main_namespace[\"hello\"];\n",
        "    hello_func();\n",
        "    Py_Finalize();\n",
        "    return 0;\n",
        "}\n",
        "```\n",
        "\n",
        "In this example, a Python function `hello` is defined using `boost::python::exec`. This function is then retrieved from the Python namespace and called as a C++ function."
      ],
      "metadata": {
        "noteable": {
          "cell_type": "markdown"
        }
      },
      "id": "2b0bb2ee-1395-4de7-b148-25b05c56e5c4"
    },
    {
      "cell_type": "markdown",
      "source": [
        "## Exposing C++ Classes to Python\n",
        "\n",
        "Boost.Python also allows you to expose C++ classes to Python. This means you can create instances of these classes, call their methods, and access their data members from Python.\n",
        "\n",
        "Here is an example of how to expose a C++ class to Python using Boost.Python:\n",
        "\n",
        "```cpp\n",
        "#include <boost/python.hpp>\n",
        "\n",
        "class HelloWorld\n",
        "{\n",
        "public:\n",
        "    void say_hello() { std::cout << \"Hello, World!\" << std::endl; }\n",
        "};\n",
        "\n",
        "BOOST_PYTHON_MODULE(hello_module)\n",
        "{\n",
        "    boost::python::class_<HelloWorld>(\"HelloWorld\")\n",
        "        .def(\"say_hello\", &HelloWorld::say_hello);\n",
        "}\n",
        "```\n",
        "\n",
        "In this example, a C++ class `HelloWorld` is defined with a method `say_hello`. This class is then exposed to Python using the `BOOST_PYTHON_MODULE` macro and the `boost::python::class_` template. The `def` function is used to expose the `say_hello` method to Python."
      ],
      "metadata": {
        "noteable": {
          "cell_type": "markdown"
        }
      },
      "id": "b260f3e5-06ea-47b0-9ad8-cb3ef1db5890"
    },
    {
      "cell_type": "markdown",
      "source": [
        "## Conclusion\n",
        "\n",
        "Embedding Python in a C++ application allows you to leverage the power and flexibility of Python from within your C++ code. This can be particularly useful for tasks such as scripting, configuration, and rapid prototyping.\n",
        "\n",
        "Boost.Python provides a convenient and powerful interface for embedding Python in C++, allowing you to execute Python code, call Python functions, and even expose C++ classes to Python. However, it's important to remember that while Boost.Python simplifies many aspects of embedding Python, it doesn't abstract away all of the complexities of working with Python's C API, and a good understanding of Python's C API is still necessary for more advanced uses."
      ],
      "metadata": {
        "noteable": {
          "cell_type": "markdown"
        }
      },
      "id": "6dd1d9b7-17d3-42ea-a98a-9f9e4c3ca4cf"
    }
  ],
  "metadata": {
    "noteable-chatgpt": {
      "create_notebook": {
        "openai_conversation_id": "94f378b5-3447-558f-aa42-cfd8d5e06d10",
        "openai_ephemeral_user_id": "5664ea6b-c533-51b6-acaa-189f84bef9e9",
        "openai_subdivision1_iso_code": "CA-ON"
      }
    },
    "kernel_info": {
      "name": "python3"
    },
    "noteable": {
      "last_transaction_id": "4b454f24-8b1c-4761-abbf-e4e5d645de43",
      "last_delta_id": "e4e5df29-506b-4215-a46a-d1c53fbf66bc"
    },
    "kernelspec": {
      "display_name": "Python 3.9",
      "language": "python",
      "name": "python3"
    },
    "selected_hardware_size": "small",
    "nteract": {
      "version": "noteable@2.9.0"
    }
  },
  "nbformat": 4,
  "nbformat_minor": 5
}