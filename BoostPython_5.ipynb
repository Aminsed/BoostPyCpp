{
  "cells": [
    {
      "cell_type": "markdown",
      "source": [
        "# Python Callbacks in Boost.Python\n",
        "\n",
        "Boost.Python is a C++ library used for interfacing Python and C++. It allows you to quickly and seamlessly expose C++ classes, functions, and objects to Python, and vice-versa, using no special tools, just your C++ compiler. It is designed to be minimally intrusive on your C++ design. In other words, you should not have to change the C++ design because of limitations imposed by the library.\n",
        "\n",
        "Python callbacks refer to the ability to have Python functions called from C++ code. This can be useful in a variety of situations, such as when you want to provide a Python function as a callback to a C++ library.\n",
        "\n",
        "In this notebook, we will explore the concept of Python Callbacks in Boost.Python, how to use them, and their functionality. We will also provide multiple examples to illustrate their usage."
      ],
      "metadata": {
        "noteable": {
          "cell_type": "markdown"
        }
      },
      "id": "53877faa-74a7-404b-836c-ac151a662dba"
    },
    {
      "cell_type": "markdown",
      "source": [
        "## Setting up Boost.Python\n",
        "\n",
        "Before we dive into the concept of Python Callbacks in Boost.Python, let's first set up Boost.Python on our system. Boost.Python is a part of the larger boost C++ libraries. So, we first need to install the boost libraries.\n",
        "\n",
        "Please note that the following instructions are for a Unix-like OS. If you are using a different OS, please refer to the official Boost.Python documentation for setup instructions.\n",
        "\n",
        "1. Download the latest version of boost from https://www.boost.org/users/download/.\n",
        "2. Extract the downloaded file.\n",
        "3. Navigate to the extracted directory in the terminal.\n",
        "4. Run the following commands:\n",
        "\n",
        "```bash\n",
        "./bootstrap.sh --with-libraries=python\n",
        "./b2\n",
        "sudo ./b2 install\n",
        "```\n",
        "\n",
        "This will build and install the boost libraries on your system.\n",
        "\n",
        "Now, you should be able to include Boost.Python in your C++ code like this:\n",
        "\n",
        "```cpp\n",
        "#include <boost/python.hpp>\n",
        "```\n",
        "\n",
        "Please note that working with Boost.Python involves writing C++ code, compiling it, and then running it with Python. Therefore, it cannot be demonstrated directly in this Python notebook. However, we will provide the C++ code snippets and explain them here."
      ],
      "metadata": {
        "noteable": {
          "cell_type": "markdown"
        }
      },
      "id": "513ad713-6d4a-4790-8532-f3bee704d1d8"
    },
    {
      "cell_type": "markdown",
      "source": [
        "## Basic Python Callbacks in Boost.Python\n",
        "\n",
        "Let's start with a simple example of a Python callback in Boost.Python. We will create a C++ function that takes a Python function as an argument and calls it.\n",
        "\n",
        "Here is the C++ code:\n",
        "\n",
        "```cpp\n",
        "#include <boost/python.hpp>\n",
        "\n",
        "void call_python_function(boost::python::object func) {\n",
        "    func(\"Hello from C++\");\n",
        "}\n",
        "\n",
        "BOOST_PYTHON_MODULE(callback_example) {\n",
        "    boost::python::def(\"call_python_function\", call_python_function);\n",
        "}\n",
        "```\n",
        "\n",
        "In this code, we first include the Boost.Python header. Then we define a function `call_python_function` that takes a `boost::python::object` as an argument. This object is expected to be a Python function. Inside `call_python_function`, we call the Python function with a string argument.\n",
        "\n",
        "Then we define a Python module `callback_example` using the `BOOST_PYTHON_MODULE` macro. Inside this module, we expose the `call_python_function` to Python using the `boost::python::def` function.\n",
        "\n",
        "To compile this code, you can use the following command:\n",
        "\n",
        "```bash\n",
        "g++ -shared -o callback_example.so callback_example.cpp -lboost_python -lpython2.7\n",
        "```\n",
        "\n",
        "This will create a shared library `callback_example.so` that can be imported in Python.\n",
        "\n",
        "Now, you can use the `call_python_function` from Python like this:\n",
        "\n",
        "```python\n",
        "import callback_example\n",
        "\n",
        "def my_function(message):\n",
        "    print(message)\n",
        "\n",
        "callback_example.call_python_function(my_function)\n",
        "```\n",
        "\n",
        "When you run this Python code, it will print `Hello from C++`."
      ],
      "metadata": {
        "noteable": {
          "cell_type": "markdown"
        }
      },
      "id": "444660a6-9eae-4ae2-a1a3-9c97315ef8c0"
    },
    {
      "cell_type": "markdown",
      "source": [
        "## Python Callbacks with Arguments and Return Values\n",
        "\n",
        "Python callbacks in Boost.Python can also take arguments and return values. Here is an example where a C++ function takes a Python function as an argument, calls it with an integer argument, and returns the result.\n",
        "\n",
        "Here is the C++ code:\n",
        "\n",
        "```cpp\n",
        "#include <boost/python.hpp>\n",
        "\n",
        "int call_python_function(boost::python::object func) {\n",
        "    return boost::python::extract<int>(func(42));\n",
        "}\n",
        "\n",
        "BOOST_PYTHON_MODULE(callback_example) {\n",
        "    boost::python::def(\"call_python_function\", call_python_function);\n",
        "}\n",
        "```\n",
        "\n",
        "In this code, `call_python_function` calls the Python function with an integer argument and expects it to return an integer. The return value is extracted from the `boost::python::object` using the `boost::python::extract` function.\n",
        "\n",
        "You can use this function from Python like this:\n",
        "\n",
        "```python\n",
        "import callback_example\n",
        "\n",
        "def my_function(x):\n",
        "    return x * 2\n",
        "\n",
        "result = callback_example.call_python_function(my_function)\n",
        "print(result)  # prints 84\n",
        "```\n",
        "\n",
        "In this Python code, `my_function` takes an integer argument and returns it multiplied by 2. When you call `callback_example.call_python_function(my_function)`, it prints `84`."
      ],
      "metadata": {
        "noteable": {
          "cell_type": "markdown"
        }
      },
      "id": "3c98c284-5177-4c5e-ba3b-37a1118332c6"
    },
    {
      "cell_type": "markdown",
      "source": [
        "## Python Callbacks for Class Methods\n",
        "\n",
        "Python callbacks in Boost.Python can also be used for Python class methods. Here is an example where a C++ function takes a Python object and a method name as arguments, and calls the method on the object.\n",
        "\n",
        "Here is the C++ code:\n",
        "\n",
        "```cpp\n",
        "#include <boost/python.hpp>\n",
        "\n",
        "void call_python_method(boost::python::object obj, std::string method_name) {\n",
        "    obj.attr(method_name.c_str())();\n",
        "}\n",
        "\n",
        "BOOST_PYTHON_MODULE(callback_example) {\n",
        "    boost::python::def(\"call_python_method\", call_python_method);\n",
        "}\n",
        "```\n",
        "\n",
        "In this code, `call_python_method` takes a `boost::python::object` and a method name as arguments. It calls the method on the object using the `attr` function to access the method by name.\n",
        "\n",
        "You can use this function from Python like this:\n",
        "\n",
        "```python\n",
        "import callback_example\n",
        "\n",
        "class MyClass:\n",
        "    def my_method(self):\n",
        "        print(\"Hello from Python\")\n",
        "\n",
        "obj = MyClass()\n",
        "callback_example.call_python_method(obj, \"my_method\")  # prints \"Hello from Python\"\n",
        "```\n",
        "\n",
        "In this Python code, `MyClass` has a method `my_method` that prints a message. When you call `callback_example.call_python_method(obj, \"my_method\")`, it prints `Hello from Python`."
      ],
      "metadata": {
        "noteable": {
          "cell_type": "markdown"
        }
      },
      "id": "49f6e0f2-6636-4543-a2a0-489c801ad595"
    },
    {
      "cell_type": "markdown",
      "source": [
        "## Conclusion\n",
        "\n",
        "In this notebook, we have explored the concept of Python Callbacks in Boost.Python. We have seen how to call Python functions from C++, how to pass arguments to them and use their return values, and how to call Python class methods from C++.\n",
        "\n",
        "Python callbacks in Boost.Python can be a powerful tool to integrate Python and C++ code. They allow you to use Python functions as callbacks in C++ code, which can be useful in a variety of situations, such as when you want to provide a Python function as a callback to a C++ library.\n",
        "\n",
        "However, please note that working with Boost.Python involves writing C++ code, compiling it, and then running it with Python. Therefore, it requires knowledge of both Python and C++, and it requires a C++ compiler setup on your system."
      ],
      "metadata": {
        "noteable": {
          "cell_type": "markdown"
        }
      },
      "id": "b2a00e11-e242-4393-89fe-f665d70ba344"
    }
  ],
  "metadata": {
    "noteable-chatgpt": {
      "create_notebook": {
        "openai_conversation_id": "94f378b5-3447-558f-aa42-cfd8d5e06d10",
        "openai_ephemeral_user_id": "5664ea6b-c533-51b6-acaa-189f84bef9e9",
        "openai_subdivision1_iso_code": "CA-ON"
      }
    },
    "kernel_info": {
      "name": "python3"
    },
    "noteable": {
      "last_transaction_id": "10869b0a-c485-4f30-9a11-c7cf3af608b6",
      "last_delta_id": "78b906ab-fdf8-4f77-9b61-8d2e4510922b"
    },
    "kernelspec": {
      "display_name": "Python 3.9",
      "language": "python",
      "name": "python3"
    },
    "selected_hardware_size": "small",
    "nteract": {
      "version": "noteable@2.9.0"
    }
  },
  "nbformat": 4,
  "nbformat_minor": 5
}