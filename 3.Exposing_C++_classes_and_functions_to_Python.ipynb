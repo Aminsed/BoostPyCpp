{
  "cells": [
    {
      "cell_type": "markdown",
      "source": [
        "# Boost.Python Tutorial\n",
        "\n",
        "Boost.Python is a C++ library used for interfacing Python and C++. It allows you to quickly and seamlessly expose C++ classes, functions, and objects to Python, and vice-versa. This tutorial will guide you through the process of exposing your C++ classes and functions to Python using Boost.Python.\n",
        "\n",
        "## Prerequisites\n",
        "\n",
        "Before we start, make sure you have the following installed on your system:\n",
        "\n",
        "- Python (version 3.x is recommended)\n",
        "- C++ Compiler (GCC, Clang, MSVC or similar)\n",
        "- Boost Libraries (including Boost.Python)\n",
        "\n",
        "You can download the Boost libraries from [here](https://www.boost.org/users/download/). Follow the instructions provided on the Boost website to install the libraries.\n",
        "\n",
        "## Step 1: Creating a C++ Class\n",
        "\n",
        "Let's start by creating a simple C++ class that we will expose to Python. For this tutorial, we will create a class named `Greeting` that has a single method `sayHello` which prints a greeting message.\n",
        "\n",
        "Here is the code for our `Greeting` class:\n",
        "\n",
        "```cpp\n",
        "// Greeting.h\n",
        "\n",
        "class Greeting {\n",
        "public:\n",
        "    void sayHello() const {\n",
        "        std::cout << \"Hello from C++!\" << std::endl;\n",
        "    }\n",
        "};\n",
        "```\n",
        "\n",
        "## Step 2: Exposing the C++ Class to Python\n",
        "\n",
        "To expose our `Greeting` class to Python, we need to create a Boost.Python wrapper. The wrapper is a C++ file that includes the Boost.Python header, our `Greeting` class, and uses Boost.Python to expose the class.\n",
        "\n",
        "Here is the code for the wrapper:\n",
        "\n",
        "```cpp\n",
        "// GreetingWrapper.cpp\n",
        "\n",
        "#include <boost/python.hpp>\n",
        "#include \"Greeting.h\"\n",
        "\n",
        "BOOST_PYTHON_MODULE(GreetingModule) {\n",
        "    boost::python::class_<Greeting>(\"Greeting\")\n",
        "        .def(\"sayHello\", &Greeting::sayHello)\n",
        "    ;\n",
        "}\n",
        "```\n",
        "\n",
        "In the code above, `BOOST_PYTHON_MODULE(GreetingModule)` creates a Python module named `GreetingModule`. Inside this module, we define our `Greeting` class with `boost::python::class_<Greeting>(\"Greeting\")`. We then expose the `sayHello` method with `.def(\"sayHello\", &Greeting::sayHello)`.\n",
        "\n",
        "## Step 3: Compiling the C++ Code\n",
        "\n",
        "The next step is to compile our C++ code into a shared library that Python can import. The exact command to do this will depend on your system and C++ compiler, but here is an example using g++:\n",
        "\n",
        "```bash\n",
        "g++ -shared -o GreetingModule.so GreetingWrapper.cpp -lboost_python -lpython3.8\n",
        "```\n",
        "\n",
        "In the command above, `-shared -o GreetingModule.so` tells g++ to output a shared library named `GreetingModule.so`. `-lboost_python -lpython3.8` links the Boost.Python and Python libraries.\n",
        "\n",
        "## Step 4: Using the C++ Class in Python\n",
        "\n",
        "Once the shared library is compiled, we can import it in Python just like any other Python module. Here is how to create an instance of the `Greeting` class and call the `sayHello` method:\n",
        "\n",
        "```python\n",
        "import GreetingModule\n",
        "\n",
        "g = GreetingModule.Greeting()\n",
        "g.sayHello()\n",
        "```\n",
        "\n",
        "When you run the Python code above, you should see the message \"Hello from C++!\" printed to the console.\n",
        "\n",
        "That's it! You have successfully exposed a C++ class to Python using Boost.Python. You can use the same process to expose more complex classes and functions. Just remember to include them in your Boost.Python wrapper and recompile the shared library."
      ],
      "metadata": {
        "aminsedaghat": {
          "cell_type": "markdown"
        }
      },
      "id": "605fb25e-e22c-4b1c-abb0-abe47c66e8e8"
    }
  ],
  "metadata": {
    "aminsedaghat-notebook": {
      "create_notebook": {
        "jupyter_notebook_conversation_id": "94f378b5-3447-558f-aa42-cfd8d5e06d10",
        "jupyter_notebook_ephemeral_user_id": "5664ea6b-c533-51b6-acaa-189f84bef9e9",
        "jupyter_notebook_subdivision1_iso_code": "CA-ON"
      }
    },
    "kernel_info": {
      "name": "python3"
    },
    "aminsedaghat": {
      "last_transaction_id": "10ff1f69-22fc-460f-b2cb-245b279105ab",
      "last_delta_id": "02c5d071-fed3-42aa-95aa-92d14d94f02a"
    },
    "kernelspec": {
      "display_name": "Python 3.9",
      "language": "python",
      "name": "python3"
    },
    "selected_hardware_size": "small",
    "nteract": {
      "version": "aminsedaghat@2.9.0"
    }
  },
  "nbformat": 4,
  "nbformat_minor": 5
}