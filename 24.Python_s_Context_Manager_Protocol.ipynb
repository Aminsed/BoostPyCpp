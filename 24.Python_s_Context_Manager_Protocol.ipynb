{
  "cells": [
    {
      "cell_type": "markdown",
      "source": [
        "## Context Manager Protocol in Python\n",
        "\n",
        "The Context Manager Protocol in Python is a mechanism that allows you to manage resources efficiently, such as opening and closing files, acquiring and releasing locks, connecting and disconnecting from a database, etc. It's commonly used with the `with` statement.\n",
        "\n",
        "A class that implements the Context Manager Protocol must define two methods:\n",
        "\n",
        "1. `__enter__(self)`: This method is executed when the block inside the `with` statement is entered. It can return an object that will be used inside the `with` block.\n",
        "\n",
        "2. `__exit__(self, exc_type, exc_value, traceback)`: This method is executed when the block inside the `with` statement is exited, whether it was exited normally or via an exception. It can suppress exceptions if it returns `True`.\n",
        "\n",
        "Let's start with a simple example in pure Python to understand how it works."
      ],
      "metadata": {
        "aminsedaghat": {
          "cell_type": "markdown"
        }
      },
      "id": "4b6a140a-d8bb-4dc3-9a3a-2f1cc07c8364"
    },
    {
      "cell_type": "code",
      "source": [
        "class SimpleContextManager:\n",
        "    def __enter__(self):\n",
        "        print('Entering the context')\n",
        "        return 'Inside Context'\n",
        "\n",
        "    def __exit__(self, exc_type, exc_value, traceback):\n",
        "        print('Exiting the context')\n",
        "        return False\n",
        "\n",
        "with SimpleContextManager() as value:\n",
        "    print(value)"
      ],
      "outputs": [],
      "execution_count": null,
      "metadata": {
        "aminsedaghat": {
          "cell_type": "code"
        }
      },
      "id": "8b2d1c03-a44c-480e-a5b9-4c145fc090f4"
    },
    {
      "cell_type": "markdown",
      "source": [
        "## Integrating Context Manager Protocol with Boost.Python\n",
        "\n",
        "Boost.Python is a powerful library that enables seamless interoperability between C++ and Python. By integrating the Context Manager Protocol with Boost.Python, you can create C++ classes that can be used as context managers in Python.\n",
        "\n",
        "This integration is particularly useful when you need to manage C++ resources within Python code, such as opening and closing C++ file streams, acquiring and releasing C++ locks, etc.\n",
        "\n",
        "To demonstrate this integration, we'll need to write some C++ code and compile it as a Python extension module. Unfortunately, the current environment does not support C++ compilation, so we'll provide the code and explain how it works."
      ],
      "metadata": {
        "aminsedaghat": {
          "cell_type": "markdown"
        }
      },
      "id": "2eecd87e-346a-4675-8a65-ebd08788bd9c"
    },
    {
      "cell_type": "markdown",
      "source": [
        "### Example: Managing a C++ File Stream with Boost.Python Context Manager\n",
        "\n",
        "In this example, we'll create a C++ class that manages a file stream. The class will open a file when entering the context and close the file when exiting the context. This demonstrates how you can use the Context Manager Protocol with Boost.Python to manage C++ resources in a Pythonic way.\n",
        "\n",
        "Here's the code, followed by a detailed explanation:"
      ],
      "metadata": {
        "aminsedaghat": {
          "cell_type": "markdown"
        }
      },
      "id": "6ded5ca1-93ce-44e0-a4aa-f20f54ac07d7"
    },
    {
      "cell_type": "markdown",
      "source": [
        "```cpp\n",
        "#include <boost/python.hpp>\n",
        "#include <fstream>\n",
        "#include <string>\n",
        "\n",
        "class FileStreamContextManager {\n",
        "private:\n",
        "    std::ofstream file;\n",
        "\n",
        "public:\n",
        "    FileStreamContextManager(const std::string& filename) : file(filename) {}\n",
        "\n",
        "    void enter() {\n",
        "        // Open the file\n",
        "        file.open();\n",
        "    }\n",
        "\n",
        "    void write(const std::string& content) {\n",
        "        // Write content to the file\n",
        "        file << content;\n",
        "    }\n",
        "\n",
        "    void exit(boost::python::object exc_type, boost::python::object exc_value, boost::python::object traceback) {\n",
        "        // Close the file\n",
        "        file.close();\n",
        "    }\n",
        "};\n",
        "\n",
        "BOOST_PYTHON_MODULE(file_stream_context) {\n",
        "    using namespace boost::python;\n",
        "    class_<FileStreamContextManager>(\"FileStreamContextManager\", init<std::string>())\n",
        "        .def(\"__enter__\", &FileStreamContextManager::enter)\n",
        "        .def(\"write\", &FileStreamContextManager::write)\n",
        "        .def(\"__exit__\", &FileStreamContextManager::exit);\n",
        "}\n",
        "```"
      ],
      "metadata": {
        "aminsedaghat": {
          "cell_type": "markdown"
        }
      },
      "id": "c0d88484-6980-485d-9a1e-35076db609e6"
    },
    {
      "cell_type": "markdown",
      "source": [
        "### Example: Managing a C++ Database Connection with Boost.Python Context Manager\n",
        "\n",
        "In this more complex example, we'll create a C++ class that manages a hypothetical database connection. The class will connect to the database when entering the context and disconnect when exiting the context. Additionally, it will provide methods to execute queries and handle transactions.\n",
        "\n",
        "This example illustrates how you can use the Context Manager Protocol with Boost.Python to create a sophisticated resource management system that integrates C++ and Python.\n",
        "\n",
        "Here's the code, followed by an in-depth explanation:"
      ],
      "metadata": {
        "aminsedaghat": {
          "cell_type": "markdown"
        }
      },
      "id": "66383220-850f-4c48-838b-b0d912aaece5"
    },
    {
      "cell_type": "markdown",
      "source": [
        "```cpp\n",
        "#include <boost/python.hpp>\n",
        "#include <string>\n",
        "#include <iostream>\n",
        "\n",
        "class DatabaseConnectionContextManager {\n",
        "private:\n",
        "    std::string connection_string;\n",
        "    bool connected;\n",
        "\n",
        "public:\n",
        "    DatabaseConnectionContextManager(const std::string& conn_str) : connection_string(conn_str), connected(false) {}\n",
        "\n",
        "    void enter() {\n",
        "        // Connect to the database\n",
        "        std::cout << \"Connecting to database with connection string: \" << connection_string << '\\n';\n",
        "        connected = true;\n",
        "    }\n",
        "\n",
        "    void execute_query(const std::string& query) {\n",
        "        if (connected) {\n",
        "            // Execute the query\n",
        "            std::cout << \"Executing query: \" << query << '\\n';\n",
        "        } else {\n",
        "            std::cout << \"Not connected to the database\" << '\\n';\n",
        "        }\n",
        "    }\n",
        "\n",
        "    void begin_transaction() {\n",
        "        if (connected) {\n",
        "            // Begin a transaction\n",
        "            std::cout << \"Beginning transaction\" << '\\n';\n",
        "        } else {\n",
        "            std::cout << \"Not connected to the database\" << '\\n';\n",
        "        }\n",
        "    }\n",
        "\n",
        "    void commit_transaction() {\n",
        "        if (connected) {\n",
        "            // Commit the transaction\n",
        "            std::cout << \"Committing transaction\" << '\\n';\n",
        "        } else {\n",
        "            std::cout << \"Not connected to the database\" << '\\n';\n",
        "        }\n",
        "    }\n",
        "\n",
        "    void exit(boost::python::object exc_type, boost::python::object exc_value, boost::python::object traceback) {\n",
        "        // Disconnect from the database\n",
        "        std::cout << \"Disconnecting from database\" << '\\n';\n",
        "        connected = false;\n",
        "    }\n",
        "};\n",
        "\n",
        "BOOST_PYTHON_MODULE(database_context) {\n",
        "    using namespace boost::python;\n",
        "    class_<DatabaseConnectionContextManager>(\"DatabaseConnectionContextManager\", init<std::string>())\n",
        "        .def(\"__enter__\", &DatabaseConnectionContextManager::enter)\n",
        "        .def(\"execute_query\", &DatabaseConnectionContextManager::execute_query)\n",
        "        .def(\"begin_transaction\", &DatabaseConnectionContextManager::begin_transaction)\n",
        "        .def(\"commit_transaction\", &DatabaseConnectionContextManager::commit_transaction)\n",
        "        .def(\"__exit__\", &DatabaseConnectionContextManager::exit);\n",
        "}\n",
        "```"
      ],
      "metadata": {
        "aminsedaghat": {
          "cell_type": "markdown"
        }
      },
      "id": "67992918-c0a3-4399-9a0a-25b2181d5936"
    }
  ],
  "metadata": {
    "aminsedaghat-notebook": {
      "create_notebook": {
        "jupyter_notebook_conversation_id": "30417689-a6c8-566c-a00a-53e97f29f913",
        "jupyter_notebook_ephemeral_user_id": "479d4cae-93ed-5206-9ac3-b4ed32db0521",
        "jupyter_notebook_subdivision1_iso_code": "CA-ON"
      }
    },
    "kernel_info": {
      "name": "python3"
    },
    "aminsedaghat": {
      "last_transaction_id": "572d2539-248a-4487-a970-002544170332",
      "last_delta_id": "730e7062-dde8-4ed6-b394-a8ddc6eaaccc"
    },
    "kernelspec": {
      "display_name": "Python 3.9",
      "language": "python",
      "name": "python3"
    },
    "selected_hardware_size": "small",
    "nteract": {
      "version": "aminsedaghat@2.9.0"
    }
  },
  "nbformat": 4,
  "nbformat_minor": 5
}