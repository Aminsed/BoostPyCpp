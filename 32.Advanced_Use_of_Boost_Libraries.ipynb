{
  "cells": [
    {
      "cell_type": "markdown",
      "source": [
        "# Advanced Use of Boost Libraries: \n",
        "## Exception Translation, Overloaded Functions, Exposing STL Containers and Custom Object Lifecycle Management."
      ],
      "metadata": {
        "noteable": {
          "cell_type": "markdown"
        }
      },
      "id": "ddd1b403-af24-4119-a49a-76cb38db0194"
    },
    {
      "cell_type": "markdown",
      "source": [
        "## Exception Translation in Boost.Python\n",
        "When integrating C++ with Python using Boost.Python, one of the challenges is handling exceptions. In C++, exceptions are a primary error-handling mechanism. However, when a C++ exception is thrown across the C++/Python boundary, it's crucial to translate it into a Python exception so that the Python interpreter can understand and handle it appropriately.\n",
        "Boost.Python provides a mechanism for translating C++ exceptions into Python exceptions. This ensures that when a C++ function or method raises an exception, the Python code calling it receives a meaningful error message.\n",
        "In this notebook, we'll explore how to set up exception translation in Boost.Python, with comprehensive code examples and explanations."
      ],
      "metadata": {
        "noteable": {
          "cell_type": "markdown"
        }
      },
      "id": "c2c48389-64e3-46c4-b398-988879f344bd"
    },
    {
      "cell_type": "markdown",
      "source": [
        "## Default Behavior of Boost.Python for C++ Exceptions\n",
        "By default, when a C++ exception is thrown and not caught within a Boost.Python-wrapped function or method, Boost.Python will catch the exception and translate it into a Python `RuntimeError` with a message `unidentifiable C++ exception`.\n",
        "This behavior is not very informative for the Python side, as the specific nature of the C++ exception is lost. Therefore, it's often desirable to set up custom exception translation to provide more meaningful Python exceptions."
      ],
      "metadata": {
        "noteable": {
          "cell_type": "markdown"
        }
      },
      "id": "3e8d01bc-b177-40f1-af85-ddd0a28e90b6"
    },
    {
      "cell_type": "markdown",
      "source": [
        "## Setting Up Custom Exception Translation in Boost.Python\n",
        "To provide a more informative Python exception when a specific C++ exception is thrown, we can set up custom exception translation. The steps involved are:\n",
        "1. **Define the C++ Exception**: This is the exception that will be thrown from the C++ code.\n",
        "2. **Define a Translation Function**: This function will be responsible for catching the C++ exception and translating it into a Python exception. The translation function should have the signature `void(std::exception const& e)`.\n",
        "3. **Register the Translation Function with Boost.Python**: This is done using the `boost::python::register_exception_translator<>` function.\n",
        "Let's look at a code example to understand this process better."
      ],
      "metadata": {
        "noteable": {
          "cell_type": "markdown"
        }
      },
      "id": "87655afe-82f0-4b87-b173-3c859e008d7a"
    },
    {
      "cell_type": "markdown",
      "source": [
        "### Code Example: Custom Exception Translation\n",
        "```cpp\n",
        "#include <boost/python.hpp>\n",
        "// 1. Define the C++ Exception\n",
        "struct MyCustomException : public std::exception {\n",
        "   const char* what() const noexcept override {\n",
        "       return \"This is a custom C++ exception\";\n",
        "   }\n",
        "};\n",
        "// 2. Define a Translation Function\n",
        "void translateMyCustomException(const MyCustomException& e) {\n",
        "   PyErr_SetString(PyExc_ValueError, e.what());\n",
        "}\n",
        "BOOST_PYTHON_MODULE(my_module) {\n",
        "   // 3. Register the Translation Function with Boost.Python\n",
        "   boost::python::register_exception_translator<MyCustomException>(translateMyCustomException);\n",
        "}\n",
        "```\n",
        "In the above code:\n",
        "- We first define a custom C++ exception `MyCustomException`.\n",
        "- Next, we define a translation function `translateMyCustomException` that catches this exception and translates it into a Python `ValueError` exception using the `PyErr_SetString` function.\n",
        "- Finally, within the Boost.Python module definition, we register our translation function using `boost::python::register_exception_translator<>`."
      ],
      "metadata": {
        "noteable": {
          "cell_type": "markdown"
        }
      },
      "id": "37279116-82b6-43ee-9489-d2172f7f1589"
    },
    {
      "cell_type": "markdown",
      "source": [
        "### Code Example: Translating Division by Zero Exception\n",
        "```cpp\n",
        "#include <boost/python.hpp>\n",
        "// 1. Define the C++ Exception for Division by Zero\n",
        "struct DivisionByZeroException : public std::exception {\n",
        "   const char* what() const noexcept override {\n",
        "       return \"Division by zero is not allowed\";\n",
        "   }\n",
        "};\n",
        "// Function that performs division and throws our custom exception if denominator is zero\n",
        "double divide(double numerator, double denominator) {\n",
        "   if(denominator == 0.0) {\n",
        "       throw DivisionByZeroException();\n",
        "   }\n",
        "   return numerator / denominator;\n",
        "}\n",
        "// 2. Define a Translation Function for Division by Zero\n",
        "void translateDivisionByZero(const DivisionByZeroException& e) {\n",
        "   PyErr_SetString(PyExc_ZeroDivisionError, e.what());\n",
        "}\n",
        "BOOST_PYTHON_MODULE(division_module) {\n",
        "   // 3. Register the Translation Function with Boost.Python\n",
        "   boost::python::register_exception_translator<DivisionByZeroException>(translateDivisionByZero);\n",
        "   boost::python::def(\"divide\", divide);\n",
        "}\n",
        "```\n",
        "In this code:\n",
        "- We define a custom C++ exception `DivisionByZeroException` for handling division by zero scenarios.\n",
        "- We have a function `divide` that throws this custom exception if the denominator is zero.\n",
        "- We then define a translation function `translateDivisionByZero` that translates our custom exception into Python's `ZeroDivisionError`.\n",
        "- Finally, within the Boost.Python module definition, we register our translation function and expose the `divide` function to Python."
      ],
      "metadata": {
        "noteable": {
          "cell_type": "markdown"
        }
      },
      "id": "07103489-8583-4702-a16f-efe99e97b1cf"
    },
    {
      "cell_type": "markdown",
      "source": [
        "# Overloaded Functions in Boost.Python\n",
        "Function overloading is a feature in C++ that allows multiple functions of the same name to be defined, as long as these functions have different sets of parameters (different type, number, or both). This is particularly useful when we want to perform similar operations but with different input types or numbers of inputs.\n",
        "However, when exposing these overloaded functions to Python using Boost.Python, we encounter a challenge. Python does not support function overloading in the same way C++ does. In Python, if we define multiple functions with the same name, the last one defined will overwrite the previous ones.\n",
        "Boost.Python provides mechanisms to handle overloaded C++ functions and expose them to Python in a way that Python can understand and use. In this section, we'll explore how to expose overloaded C++ functions to Python using Boost.Python, with comprehensive code examples and explanations."
      ],
      "metadata": {
        "noteable": {
          "cell_type": "markdown"
        }
      },
      "id": "6737ddf4-baa8-40cc-8bf1-335dd06a3c29"
    },
    {
      "cell_type": "markdown",
      "source": [
        "## Handling Overloaded Functions with `BOOST_PYTHON_FUNCTION_OVERLOADS`\n",
        "Boost.Python provides the `BOOST_PYTHON_FUNCTION_OVERLOADS` macro to help expose overloaded functions to Python. This macro generates a set of wrapper functions for the overloaded C++ functions, allowing them to be called from Python with different sets of arguments.\n",
        "The `BOOST_PYTHON_FUNCTION_OVERLOADS` macro takes three arguments:\n",
        "1. Name of the generated wrapper.\n",
        "2. Name of the overloaded C++ function.\n",
        "3. Minimum number of arguments.\n",
        "4. Maximum number of arguments.\n",
        "Let's look at a code example to understand how to use this macro and expose overloaded functions to Python."
      ],
      "metadata": {
        "noteable": {
          "cell_type": "markdown"
        }
      },
      "id": "1d1c9403-d029-4702-b214-8af3aae39f3b"
    },
    {
      "cell_type": "markdown",
      "source": [
        "### Code Example: Exposing Overloaded Functions\n",
        "```cpp\n",
        "#include <boost/python.hpp>\n",
        "// Overloaded C++ functions\n",
        "void printMessage(const std::string& message) {\n",
        "   std::cout << message << std::endl;\n",
        "}\n",
        "void printMessage(const std::string& message, int times) {\n",
        "   for(int i = 0; i < times; ++i) {\n",
        "       std::cout << message << std::endl;\n",
        "   }\n",
        "}\n",
        "// Use BOOST_PYTHON_FUNCTION_OVERLOADS to generate wrapper\n",
        "BOOST_PYTHON_FUNCTION_OVERLOADS(printMessage_overloads, printMessage, 1, 2)\n",
        "BOOST_PYTHON_MODULE(overload_module) {\n",
        "   boost::python::def(\"printMessage\", printMessage, printMessage_overloads());\n",
        "}\n",
        "```\n",
        "In this code:\n",
        "- We first define two overloaded versions of the `printMessage` function. One takes a single string argument, and the other takes both a string and an integer.\n",
        "- We then use the `BOOST_PYTHON_FUNCTION_OVERLOADS` macro to generate a wrapper for these overloaded functions. The wrapper is named `printMessage_overloads`.\n",
        "- Finally, within the Boost.Python module definition, we expose the `printMessage` function to Python using the generated wrapper."
      ],
      "metadata": {
        "noteable": {
          "cell_type": "markdown"
        }
      },
      "id": "ff036922-52e2-4e91-ad27-035a86fb03d6"
    },
    {
      "cell_type": "markdown",
      "source": [
        "# Exposing STL Containers in Boost.Python\n",
        "The Standard Template Library (STL) is a fundamental part of C++, offering a rich set of container classes such as `vector`, `list`, `map`, and many others. These containers are widely used in C++ programs for storing and managing data.\n",
        "When integrating C++ code with Python using Boost.Python, it's often desirable to expose these STL containers to Python, allowing Python code to interact with the data stored in these containers seamlessly.\n",
        "Boost.Python provides mechanisms to expose various STL containers to Python, making them appear as native Python types. This allows for intuitive interaction between Python and C++ data structures.\n",
        "In this section, we'll explore how to expose some of the most commonly used STL containers to Python using Boost.Python, with comprehensive code examples and explanations."
      ],
      "metadata": {
        "noteable": {
          "cell_type": "markdown"
        }
      },
      "id": "c497ead5-bc47-402f-8b5f-48e85d64bd83"
    },
    {
      "cell_type": "markdown",
      "source": [
        "## Exposing `std::vector` to Python\n",
        "The `std::vector` is a dynamic array in C++ and is one of the most widely used STL containers. Exposing `std::vector` to Python allows Python code to interact with dynamic arrays from C++ in a Pythonic manner.\n",
        "Boost.Python provides the `boost::python::vector_indexing_suite` to help expose `std::vector` to Python. This suite provides a set of functionalities that make the `std::vector` behave like a Python list when accessed from Python.\n",
        "Let's look at a code example to understand how to expose a `std::vector<int>` to Python using Boost.Python."
      ],
      "metadata": {
        "noteable": {
          "cell_type": "markdown"
        }
      },
      "id": "1b16b0f4-122c-4f6d-aebd-db3273fb2fa8"
    },
    {
      "cell_type": "markdown",
      "source": [
        "### Code Example: Exposing `std::vector<int>`\n",
        "```cpp\n",
        "#include <boost/python.hpp>\n",
        "#include <boost/python/suite/indexing/vector_indexing_suite.hpp>\n",
        "#include <vector>\n",
        "BOOST_PYTHON_MODULE(vector_module) {\n",
        "   boost::python::class_<std::vector<int>>(\"IntVector\")\n",
        "       .def(boost::python::vector_indexing_suite<std::vector<int>>())\n",
        "       .def(\"append\", &std::vector<int>::push_back)\n",
        "       .def(\"clear\", &std::vector<int>::clear);\n",
        "}\n",
        "```\n",
        "In this code:\n",
        "- We include the necessary headers for Boost.Python and `std::vector`.\n",
        "- Within the Boost.Python module definition, we define a Python class `IntVector` that wraps the `std::vector<int>`.\n",
        "- We use the `boost::python::vector_indexing_suite` to make the `std::vector` behave like a Python list. This allows for operations like indexing, slicing, and iteration.\n",
        "- Additionally, we expose the `push_back` method of `std::vector` as `append` in Python and also expose the `clear` method."
      ],
      "metadata": {
        "noteable": {
          "cell_type": "markdown"
        }
      },
      "id": "b2f77f72-83ec-46c4-a85d-00c162f6fd77"
    },
    {
      "cell_type": "markdown",
      "source": [
        "## Exposing `std::list` to Python\n",
        "The `std::list` is a doubly-linked list container in C++. It provides fast insertions and deletions at both the beginning and end. Exposing `std::list` to Python allows Python code to interact with linked lists from C++ in a Pythonic manner.\n",
        "Boost.Python provides the `boost::python::list` type and the `boost::python::iterator` utility to help expose `std::list` to Python. This makes the `std::list` behave like a Python list when accessed from Python.\n",
        "Let's look at a code example to understand how to expose a `std::list<int>` to Python using Boost.Python."
      ],
      "metadata": {
        "noteable": {
          "cell_type": "markdown"
        }
      },
      "id": "7e0b2257-a7ee-437c-9b8b-8fef49885374"
    },
    {
      "cell_type": "markdown",
      "source": [
        "### Code Example: Exposing `std::list<int>`\n",
        "```cpp\n",
        "#include <boost/python.hpp>\n",
        "#include <list>\n",
        "BOOST_PYTHON_MODULE(list_module) {\n",
        "   boost::python::class_<std::list<int>>(\"IntList\")\n",
        "       .def(boost::python::list(\"list\"))\n",
        "       .def(\"append\", &std::list<int>::push_back)\n",
        "       .def(\"extend\", &std::list<int>::splice)\n",
        "       .def(\"__iter__\", boost::python::iterator<std::list<int>>());\n",
        "}\n",
        "```\n",
        "In this code:\n",
        "- We include the necessary headers for Boost.Python and `std::list`.\n",
        "- Within the Boost.Python module definition, we define a Python class `IntList` that wraps the `std::list<int>`.\n",
        "- We use the `boost::python::list` type to make the `std::list` behave like a Python list. This allows for operations like appending and extending.\n",
        "- We expose the `push_back` method of `std::list` as `append` in Python.\n",
        "- We expose the `splice` method of `std::list` as `extend` in Python, allowing for extending the list with another list.\n",
        "- We also expose the iterator of `std::list` using `boost::python::iterator`, enabling Pythonic iteration over the list."
      ],
      "metadata": {
        "noteable": {
          "cell_type": "markdown"
        }
      },
      "id": "0b31a5cf-5870-42f8-aa7b-720342d9944b"
    },
    {
      "cell_type": "markdown",
      "source": [
        "## Exposing `std::map` to Python\n",
        "The `std::map` is an associative container that contains key-value pairs. It allows for fast lookups based on keys. Exposing `std::map` to Python allows Python code to interact with key-value pairs from C++ in a Pythonic manner, similar to Python dictionaries.\n",
        "Boost.Python provides the `boost::python::dict` type and the `boost::python::map_indexing_suite` to help expose `std::map` to Python. This makes the `std::map` behave like a Python dictionary when accessed from Python.\n",
        "Let's look at a code example to understand how to expose a `std::map<std::string, int>` (mapping strings to integers) to Python using Boost.Python."
      ],
      "metadata": {
        "noteable": {
          "cell_type": "markdown"
        }
      },
      "id": "dd47831c-9e76-461b-8e44-03eee21f61c9"
    },
    {
      "cell_type": "markdown",
      "source": [
        "### Code Example: Exposing `std::map<std::string, int>`\n",
        "```cpp\n",
        "#include <boost/python.hpp>\n",
        "#include <boost/python/suite/indexing/map_indexing_suite.hpp>\n",
        "#include <map>\n",
        "BOOST_PYTHON_MODULE(map_module) {\n",
        "   boost::python::class_<std::map<std::string, int>>(\"StringIntMap\")\n",
        "       .def(boost::python::map_indexing_suite<std::map<std::string, int>>());\n",
        "}\n",
        "```\n",
        "In this code:\n",
        "- We include the necessary headers for Boost.Python, `std::map`, and the `map_indexing_suite`.\n",
        "- Within the Boost.Python module definition, we define a Python class `StringIntMap` that wraps the `std::map<std::string, int>`.\n",
        "- We use the `boost::python::map_indexing_suite` to make the `std::map` behave like a Python dictionary. This allows for operations like item assignment, retrieval, and iteration."
      ],
      "metadata": {
        "noteable": {
          "cell_type": "markdown"
        }
      },
      "id": "70daae14-a70d-4098-a22d-be725d9a403b"
    },
    {
      "cell_type": "markdown",
      "source": [
        "## Exposing `std::set` to Python\n",
        "The `std::set` is a container that contains a sorted set of unique objects. It provides fast lookups and is commonly used to represent collections of unique elements. Exposing `std::set` to Python allows Python code to interact with sets from C++ in a Pythonic manner, similar to Python sets.\n",
        "Boost.Python provides utilities to help expose `std::set` to Python, making it behave like a Python set when accessed from Python.\n",
        "Let's look at a code example to understand how to expose a `std::set<int>` to Python using Boost.Python."
      ],
      "metadata": {
        "noteable": {
          "cell_type": "markdown"
        }
      },
      "id": "022d1188-df86-4b4e-a6a5-e3080a5e3ebf"
    },
    {
      "cell_type": "markdown",
      "source": [
        "### Code Example: Exposing `std::set<int>`\n",
        "```cpp\n",
        "#include <boost/python.hpp>\n",
        "#include <boost/python/suite/indexing/set_indexing_suite.hpp>\n",
        "#include <set>\n",
        "BOOST_PYTHON_MODULE(set_module) {\n",
        "   boost::python::class_<std::set<int>>(\"IntSet\")\n",
        "       .def(boost::python::set_indexing_suite<std::set<int>>());\n",
        "}\n",
        "```\n",
        "In this code:\n",
        "- We include the necessary headers for Boost.Python, `std::set`, and the `set_indexing_suite`.\n",
        "- Within the Boost.Python module definition, we define a Python class `IntSet` that wraps the `std::set<int>`.\n",
        "- We use the `boost::python::set_indexing_suite` to make the `std::set` behave like a Python set. This allows for operations like adding elements, checking membership, and iteration."
      ],
      "metadata": {
        "noteable": {
          "cell_type": "markdown"
        }
      },
      "id": "d1517294-d4f0-407b-8c84-7581aeda537d"
    },
    {
      "cell_type": "markdown",
      "source": [
        "## Exposing `std::pair` to Python\n",
        "The `std::pair` is a simple container that consists of two data elements or objects. It's often used in C++ to represent key-value pairs, especially in associative containers like `std::map`.\n",
        "Exposing `std::pair` to Python allows Python code to interact with pairs from C++ in a Pythonic manner, similar to Python tuples with two elements.\n",
        "Let's look at a code example to understand how to expose a `std::pair<std::string, int>` (a pair of a string and an integer) to Python using Boost.Python."
      ],
      "metadata": {
        "noteable": {
          "cell_type": "markdown"
        }
      },
      "id": "266f2c4f-1ed5-4a75-93b1-4be043a7b28a"
    },
    {
      "cell_type": "markdown",
      "source": [
        "### Code Example: Exposing `std::pair<std::string, int>`\n",
        "```cpp\n",
        "#include <boost/python.hpp>\n",
        "#include <utility>\n",
        "BOOST_PYTHON_MODULE(pair_module) {\n",
        "   boost::python::class_<std::pair<std::string, int>>(\"StringIntPair\")\n",
        "       .def_readwrite(\"first\", &std::pair<std::string, int>::first)\n",
        "       .def_readwrite(\"second\", &std::pair<std::string, int>::second);\n",
        "}\n",
        "```\n",
        "In this code:\n",
        "- We include the necessary headers for Boost.Python and `std::pair`.\n",
        "- Within the Boost.Python module definition, we define a Python class `StringIntPair` that wraps the `std::pair<std::string, int>`.\n",
        "- We expose the `first` and `second` members of `std::pair` using `def_readwrite`, allowing Python code to access and modify these members directly."
      ],
      "metadata": {
        "noteable": {
          "cell_type": "markdown"
        }
      },
      "id": "9829e6a0-bbab-430a-a2ae-6f54b6cfca25"
    },
    {
      "cell_type": "markdown",
      "source": [
        "## Exposing `std::deque` to Python\n",
        "The `std::deque` (pronounced 'deck') stands for double-ended queue. It is similar to `std::vector`, but it allows for fast insertions and deletions at both the beginning and end of the container. This makes it suitable for use cases where elements need to be frequently added or removed from both ends.\n",
        "Exposing `std::deque` to Python allows Python code to interact with double-ended queues from C++ in a Pythonic manner.\n",
        "Let's look at a code example to understand how to expose a `std::deque<int>` to Python using Boost.Python."
      ],
      "metadata": {
        "noteable": {
          "cell_type": "markdown"
        }
      },
      "id": "21e130f2-93b3-42db-b0df-f327d6dae54c"
    },
    {
      "cell_type": "markdown",
      "source": [
        "### Code Example: Exposing `std::deque<int>`\n",
        "```cpp\n",
        "#include <boost/python.hpp>\n",
        "#include <boost/python/suite/indexing/deque_indexing_suite.hpp>\n",
        "#include <deque>\n",
        "BOOST_PYTHON_MODULE(deque_module) {\n",
        "   boost::python::class_<std::deque<int>>(\"IntDeque\")\n",
        "       .def(boost::python::deque_indexing_suite<std::deque<int>>())\n",
        "       .def(\"push_front\", &std::deque<int>::push_front)\n",
        "       .def(\"push_back\", &std::deque<int>::push_back)\n",
        "       .def(\"pop_front\", &std::deque<int>::pop_front)\n",
        "       .def(\"pop_back\", &std::deque<int>::pop_back);\n",
        "}\n",
        "```\n",
        "In this code:\n",
        "- We include the necessary headers for Boost.Python, `std::deque`, and the `deque_indexing_suite`.\n",
        "- Within the Boost.Python module definition, we define a Python class `IntDeque` that wraps the `std::deque<int>`.\n",
        "- We use the `boost::python::deque_indexing_suite` to make the `std::deque` behave like a Python deque. This allows for operations like indexing and iteration.\n",
        "- We expose methods like `push_front`, `push_back`, `pop_front`, and `pop_back` to allow for operations at both ends of the deque."
      ],
      "metadata": {
        "noteable": {
          "cell_type": "markdown"
        }
      },
      "id": "5c2eedb7-ba74-4c13-ac46-e6ec6d8d6d0b"
    },
    {
      "cell_type": "markdown",
      "source": [
        "## Exposing `std::stack` to Python\n",
        "The `std::stack` is a container adapter that provides a Last-In-First-Out (LIFO) data structure. It is built on top of other STL containers like `std::deque` or `std::list`. The primary operations on a stack are `push` (to add an element to the top) and `pop` (to remove the top element).\n",
        "Exposing `std::stack` to Python allows Python code to interact with stacks from C++ in a Pythonic manner.\n",
        "Let's look at a code example to understand how to expose a `std::stack<int>` to Python using Boost.Python."
      ],
      "metadata": {
        "noteable": {
          "cell_type": "markdown"
        }
      },
      "id": "9218540f-1776-42be-b922-92c0f73a4106"
    },
    {
      "cell_type": "markdown",
      "source": [
        "### Code Example: Exposing `std::stack<int>`\n",
        "```cpp\n",
        "#include <boost/python.hpp>\n",
        "#include <stack>\n",
        "BOOST_PYTHON_MODULE(stack_module) {\n",
        "   boost::python::class_<std::stack<int>>(\"IntStack\")\n",
        "       .def(\"push\", &std::stack<int>::push)\n",
        "       .def(\"pop\", &std::stack<int>::pop)\n",
        "       .def(\"top\", &std::stack<int>::top)\n",
        "       .def(\"empty\", &std::stack<int>::empty);\n",
        "}\n",
        "```\n",
        "In this code:\n",
        "- We include the necessary headers for Boost.Python and `std::stack`.\n",
        "- Within the Boost.Python module definition, we define a Python class `IntStack` that wraps the `std::stack<int>`.\n",
        "- We expose methods like `push`, `pop`, `top`, and `empty` to allow for standard stack operations."
      ],
      "metadata": {
        "noteable": {
          "cell_type": "markdown"
        }
      },
      "id": "900d7133-55d9-40db-91d6-0f9b3a8e0585"
    },
    {
      "cell_type": "markdown",
      "source": [
        "## Exposing `std::queue` to Python\n",
        "The `std::queue` is a container adapter that provides a First-In-First-Out (FIFO) data structure. Like `std::stack`, it is built on top of other STL containers such as `std::deque` or `std::list`. The primary operations on a queue are `push` (to add an element to the back) and `pop` (to remove the front element).\n",
        "Exposing `std::queue` to Python allows Python code to interact with queues from C++ in a Pythonic manner.\n",
        "Let's look at a code example to understand how to expose a `std::queue<int>` to Python using Boost.Python."
      ],
      "metadata": {
        "noteable": {
          "cell_type": "markdown"
        }
      },
      "id": "b1793f31-b5b5-4785-a968-9b532f2e07b3"
    },
    {
      "cell_type": "markdown",
      "source": [
        "### Code Example: Exposing `std::queue<int>`\n",
        "```cpp\n",
        "#include <boost/python.hpp>\n",
        "#include <queue>\n",
        "BOOST_PYTHON_MODULE(queue_module) {\n",
        "   boost::python::class_<std::queue<int>>(\"IntQueue\")\n",
        "       .def(\"push\", &std::queue<int>::push)\n",
        "       .def(\"pop\", &std::queue<int>::pop)\n",
        "       .def(\"front\", &std::queue<int>::front)\n",
        "       .def(\"empty\", &std::queue<int>::empty);\n",
        "}\n",
        "```\n",
        "In this code:\n",
        "- We include the necessary headers for Boost.Python and `std::queue`.\n",
        "- Within the Boost.Python module definition, we define a Python class `IntQueue` that wraps the `std::queue<int>`.\n",
        "- We expose methods like `push`, `pop`, `front`, and `empty` to allow for standard queue operations."
      ],
      "metadata": {
        "noteable": {
          "cell_type": "markdown"
        }
      },
      "id": "e8b3160e-5a3d-4833-9c86-1e668b36fd29"
    },
    {
      "cell_type": "markdown",
      "source": [
        "## Custom Object Lifecycle Management in Boost.Python\n",
        "When exposing C++ classes to Python using Boost.Python, one of the critical aspects to consider is the lifecycle management of the objects. This involves understanding how objects are created, used, and destroyed, both in the C++ and Python realms. Proper lifecycle management ensures that resources are used efficiently and that there are no memory leaks or unexpected behaviors.\n",
        "Boost.Python provides tools and mechanisms to manage the lifecycle of objects, allowing developers to specify how C++ objects should be handled when they are used in Python. This includes defining custom constructors, destructors, and memory management strategies.\n",
        "In this section, we'll explore the following topics related to custom object lifecycle management in Boost.Python:\n",
        "1. **Custom Constructors and Initializers**\n",
        "2. **Managing Object Ownership**\n",
        "3. **Custom Memory Management**\n",
        "Let's start by understanding how to define custom constructors and initializers for C++ classes exposed to Python."
      ],
      "metadata": {
        "noteable": {
          "cell_type": "markdown"
        }
      },
      "id": "b9072ebb-aea7-4d04-9d7c-438bb1931d49"
    },
    {
      "cell_type": "markdown",
      "source": [
        "### Code Example: Custom Constructors for `Person` Class\n",
        "```cpp\n",
        "#include <boost/python.hpp>\n",
        "#include <string>\n",
        "class Person {\n",
        "public:\n",
        "    Person(const std::string& name, int age) : name(name), age(age) {}\n",
        "    std::string getName() const { return name; }\n",
        "    int getAge() const { return age; }\n",
        "private:\n",
        "    std::string name;\n",
        "    int age;\n",
        "};\n",
        "Person* createPersonFromTuple(boost::python::tuple t) {\n",
        "    return new Person(boost::python::extract<std::string>(t[0]), boost::python::extract<int>(t[1]));\n",
        "}\n",
        "BOOST_PYTHON_MODULE(person_module) {\n",
        "    boost::python::class_<Person>(\"Person\")\n",
        "        .def(\"__init__\", boost::python::make_constructor(createPersonFromTuple))\n",
        "        .def(\"getName\", &Person::getName)\n",
        "        .def(\"getAge\", &Person::getAge);\n",
        "}\n",
        "```\n",
        "In this code:\n",
        "- We define a `Person` class with a constructor that takes a name and age.\n",
        "- We create a custom constructor function `createPersonFromTuple` that takes a Python tuple and extracts the name and age to create a `Person` object.\n",
        "- Within the Boost.Python module definition, we expose the `Person` class and use `boost::python::make_constructor` to specify the custom constructor."
      ],
      "metadata": {
        "noteable": {
          "cell_type": "markdown"
        }
      },
      "id": "d525629f-d819-4ca0-9cd8-a2222a615683"
    },
    {
      "cell_type": "markdown",
      "source": [
        "## Managing Object Ownership\n",
        "When C++ objects are exposed to Python, it's essential to manage their ownership correctly. This ensures that objects are not prematurely destroyed or leaked, leading to unexpected behaviors or memory issues.\n",
        "Boost.Python provides mechanisms to specify the ownership of objects, determining whether the C++ side or the Python side is responsible for destroying an object. The primary tool for this is the `boost::python::return_value_policy`.\n",
        "There are several policies available:\n",
        "- **`boost::python::reference_existing_object`**: Indicates that the returned object is a reference to an existing object, and Python should not take ownership.\n",
        "- **`boost::python::copy_const_reference`**: Makes a copy of the returned object and gives Python ownership of the copy.\n",
        "- **`boost::python::return_by_value`**: Similar to `copy_const_reference`, but used when the function returns by value.\n",
        "- **`boost::python::return_opaque_pointer`**: Returns a raw pointer without transferring ownership to Python.\n",
        "- **`boost::python::manage_new_object`**: Indicates that Python should take ownership of the object and is responsible for its destruction.\n",
        "Let's look at a code example to understand how to manage object ownership using `boost::python::return_value_policy`."
      ],
      "metadata": {
        "noteable": {
          "cell_type": "markdown"
        }
      },
      "id": "956a7b72-ac6e-4f19-bfce-22a8c156bb4f"
    },
    {
      "cell_type": "markdown",
      "source": [
        "### Code Example: Managing Object Ownership with `CarFactory` and `Car`\n",
        "```cpp\n",
        "#include <boost/python.hpp>\n",
        "#include <string>\n",
        "class Car {\n",
        "public:\n",
        "    Car(const std::string& model) : model(model) {}\n",
        "    std::string getModel() const { return model; }\n",
        "private:\n",
        "    std::string model;\n",
        "};\n",
        "class CarFactory {\n",
        "public:\n",
        "    Car* produceCar(const std::string& model) {\n",
        "        return new Car(model);\n",
        "    }\n",
        "};\n",
        "BOOST_PYTHON_MODULE(car_module) {\n",
        "    boost::python::class_<Car>(\"Car\")\n",
        "        .def(\"getModel\", &Car::getModel);\n",
        "    boost::python::class_<CarFactory>(\"CarFactory\")\n",
        "        .def(\"produceCar\", &CarFactory::produceCar, boost::python::return_value_policy<boost::python::manage_new_object>());\n",
        "}\n",
        "```\n",
        "In this code:\n",
        "- We define a `Car` class with a constructor that takes a model name.\n",
        "- We have a `CarFactory` class that has a method `produceCar` to produce a new `Car` object.\n",
        "- Within the Boost.Python module definition, we expose both the `Car` and `CarFactory` classes.\n",
        "- For the `produceCar` method of `CarFactory`, we specify the `boost::python::manage_new_object` policy. This indicates that Python should take ownership of the `Car` object produced by the factory and is responsible for its destruction."
      ],
      "metadata": {
        "noteable": {
          "cell_type": "markdown"
        }
      },
      "id": "4902728d-9146-43bd-a052-892ade84ceb4"
    },
    {
      "cell_type": "markdown",
      "source": [
        "## Custom Memory Management\n",
        "In some scenarios, you might want to have more control over how memory is allocated and deallocated for C++ objects exposed to Python. This could be due to specific performance requirements, the use of custom allocators, or other specialized needs.\n",
        "Boost.Python allows for custom memory management by letting developers provide their own allocation and deallocation strategies. This is achieved by overriding the `new` and `delete` operators for the exposed C++ classes.\n",
        "Let's look at a code example where we define a `Vector` class with custom memory management. In this example, we'll use a hypothetical custom allocator `CustomAllocator` to allocate and deallocate memory for the `Vector` objects."
      ],
      "metadata": {
        "noteable": {
          "cell_type": "markdown"
        }
      },
      "id": "c3dd2521-55b1-4f86-b8a2-8e8340fb7f15"
    },
    {
      "cell_type": "markdown",
      "source": [
        "### Code Example: Custom Memory Management for `Vector` Class\n",
        "```cpp\n",
        "#include <boost/python.hpp>\n",
        "#include <vector>\n",
        "// Hypothetical custom allocator\n",
        "class CustomAllocator {\n",
        "public:\n",
        "    static void* allocate(size_t size) {\n",
        "        // Custom allocation logic\n",
        "        return ::operator new(size);\n",
        "    }\n",
        "    static void deallocate(void* ptr) {\n",
        "        // Custom deallocation logic\n",
        "        ::operator delete(ptr);\n",
        "    }\n",
        "};\n",
        "template<typename T>\n",
        "class Vector {\n",
        "public:\n",
        "    // ... other methods ...\n",
        "    // Overriding new and delete operators\n",
        "    void* operator new(size_t size) {\n",
        "        return CustomAllocator::allocate(size);\n",
        "    }\n",
        "    void operator delete(void* ptr) {\n",
        "        CustomAllocator::deallocate(ptr);\n",
        "    }\n",
        "};\n",
        "BOOST_PYTHON_MODULE(vector_module) {\n",
        "    boost::python::class_<Vector<int>>(\"Vector\")\n",
        "        // ... expose other methods ...\n",
        "        ;\n",
        "}\n",
        "```\n",
        "In this code:\n",
        "- We define a hypothetical `CustomAllocator` class with custom allocation and deallocation logic.\n",
        "- We create a `Vector` class template and override the `new` and `delete` operators to use the `CustomAllocator`.\n",
        "- Within the Boost.Python module definition, we expose the `Vector<int>` class to Python.\n",
        "By overriding the memory management operators, we ensure that the `Vector` objects use our custom allocation and deallocation strategies when they are created and destroyed."
      ],
      "metadata": {
        "noteable": {
          "cell_type": "markdown"
        }
      },
      "id": "1c9fd275-c7ac-4af1-ae83-c577187e0a71"
    }
  ],
  "metadata": {
    "noteable-chatgpt": {
      "create_notebook": {
        "openai_conversation_id": "daef34b2-c544-5a92-9917-82079523d407",
        "openai_ephemeral_user_id": "d997f8e8-8cb8-5534-b650-4921f02b83cc",
        "openai_subdivision1_iso_code": "CA-ON"
      }
    },
    "kernel_info": {
      "name": "python3"
    },
    "noteable": {
      "last_transaction_id": "c57b3dc6-2609-4ca3-9e5c-ce91715ad4e3",
      "last_delta_id": "b032f63b-d6d4-4ed6-9929-dff5398217d7"
    },
    "kernelspec": {
      "display_name": "Python 3.9",
      "language": "python",
      "name": "python3"
    },
    "selected_hardware_size": "small",
    "nteract": {
      "version": "noteable@2.9.0"
    }
  },
  "nbformat": 4,
  "nbformat_minor": 5
}