{
  "cells": [
    {
      "cell_type": "markdown",
      "source": [
        "# Python's Dynamic Attribute Protocol\n",
        "\n",
        "Python's dynamic attribute protocol is a mechanism that allows Python objects to have attributes added, modified, or deleted at runtime. This is a key feature of Python's dynamic typing system and is a significant part of what makes Python a flexible and powerful language.\n",
        "\n",
        "The dynamic attribute protocol is implemented through a set of special methods that Python objects can define. These methods include:\n",
        "\n",
        "- `__getattr__(self, name)`: This method is called when the attribute `name` is accessed and it does not exist. It should return the value of the attribute or raise an `AttributeError` if the attribute does not exist.\n",
        "- `__setattr__(self, name, value)`: This method is called when the attribute `name` is set to `value`. It does not return a value.\n",
        "- `__delattr__(self, name)`: This method is called when the attribute `name` is deleted. It does not return a value.\n",
        "\n",
        "These methods allow Python objects to control how their attributes are accessed, modified, and deleted, providing a high degree of flexibility and control.\n",
        "\n",
        "# Boost.Python and the Dynamic Attribute Protocol\n",
        "\n",
        "Boost.Python is a C++ library that is used to interface Python and C++. It allows Python code to call C++ functions and methods, instantiate C++ classes and objects, and manipulate C++ data structures. It also allows C++ code to call Python functions and methods, instantiate Python classes and objects, and manipulate Python data structures.\n",
        "\n",
        "Boost.Python supports Python's dynamic attribute protocol through its `add_property` function. This function allows C++ classes to define properties that are accessible from Python. These properties can have get and set functions, which are called when the property is accessed or modified from Python. This allows C++ classes to have attributes that are dynamically accessed and modified, similar to Python's dynamic attribute protocol.\n",
        "\n",
        "In the following sections, we will explore the dynamic attribute protocol and Boost.Python in more detail, and provide some practical examples of their use."
      ],
      "metadata": {
        "aminsedaghat": {
          "cell_type": "markdown"
        }
      },
      "id": "e0b31b10-7c6b-40eb-b132-845a3c85f219"
    },
    {
      "cell_type": "code",
      "source": [
        "class DynamicAttributes:\n",
        "    def __init__(self):\n",
        "        self._attributes = {}\n",
        "\n",
        "    def __getattr__(self, name):\n",
        "        try:\n",
        "            return self._attributes[name]\n",
        "        except KeyError:\n",
        "            raise AttributeError(f\"Attribute '{name}' does not exist.\")\n",
        "\n",
        "    def __setattr__(self, name, value):\n",
        "        if name == '_attributes':\n",
        "            super().__setattr__(name, value)\n",
        "        else:\n",
        "            self._attributes[name] = value\n",
        "\n",
        "    def __delattr__(self, name):\n",
        "        try:\n",
        "            del self._attributes[name]\n",
        "        except KeyError:\n",
        "            raise AttributeError(f\"Attribute '{name}' does not exist.\")\n",
        "\n",
        "# Create an instance of the class\n",
        "dyn_attr = DynamicAttributes()\n",
        "\n",
        "# Add a dynamic attribute\n",
        "dyn_attr.new_attr = 'Hello, World!'\n",
        "print(dyn_attr.new_attr)\n",
        "\n",
        "# Modify the dynamic attribute\n",
        "dyn_attr.new_attr = 'Hello, Python!'\n",
        "print(dyn_attr.new_attr)\n",
        "\n",
        "# Delete the dynamic attribute\n",
        "del dyn_attr.new_attr\n",
        "# This will raise an AttributeError because the attribute does not exist\n",
        "print(dyn_attr.new_attr)"
      ],
      "outputs": [],
      "execution_count": null,
      "metadata": {
        "aminsedaghat": {
          "cell_type": "code"
        }
      },
      "id": "e86ddd16-ef59-4ecb-b4b0-da4165b1cd65"
    },
    {
      "cell_type": "markdown",
      "source": [
        "# Boost.Python and Dynamic Attributes\n",
        "\n",
        "Boost.Python allows C++ classes to define properties that are accessible from Python. These properties can have get and set functions, which are called when the property is accessed or modified from Python. This allows C++ classes to have attributes that are dynamically accessed and modified, similar to Python's dynamic attribute protocol.\n",
        "\n",
        "Here is an example of how to use Boost.Python's `add_property` function to implement dynamic attributes in a C++ class:\n",
        "\n",
        "```cpp\n",
        "#include <boost/python.hpp>\n",
        "\n",
        "class MyClass {\n",
        "public:\n",
        "    MyClass() : my_attr(\"Hello, World!\") {}\n",
        "\n",
        "    std::string get_my_attr() const {\n",
        "        return my_attr;\n",
        "    }\n",
        "\n",
        "    void set_my_attr(const std::string& value) {\n",
        "        my_attr = value;\n",
        "    }\n",
        "\n",
        "private:\n",
        "    std::string my_attr;\n",
        "};\n",
        "\n",
        "BOOST_PYTHON_MODULE(my_module) {\n",
        "    boost::python::class_<MyClass>(\"MyClass\")\n",
        "        .add_property(\"my_attr\", &MyClass::get_my_attr, &MyClass::set_my_attr);\n",
        "}\n",
        "```\n",
        "\n",
        "In this example, the `MyClass` class has a `my_attr` attribute that can be accessed and modified from Python. The `get_my_attr` and `set_my_attr` methods are used to get and set the value of the attribute, respectively.\n",
        "\n",
        "You can compile this code into a Python module using Boost.Python, and then import the module and use the `MyClass` class from Python like this:\n",
        "\n",
        "```python\n",
        "import my_module\n",
        "\n",
        "obj = my_module.MyClass()\n",
        "print(obj.my_attr)  # Prints: Hello, World!\n",
        "\n",
        "obj.my_attr = 'Hello, Python!'\n",
        "print(obj.my_attr)  # Prints: Hello, Python!\n",
        "```\n",
        "\n",
        "This demonstrates how Boost.Python can be used to implement Python's dynamic attribute protocol in C++ classes."
      ],
      "metadata": {
        "aminsedaghat": {
          "cell_type": "markdown"
        }
      },
      "id": "67dc3084-1f81-46ee-8a46-cbf15a940f07"
    },
    {
      "cell_type": "code",
      "source": [
        "class DynamicDict:\n",
        "    def __init__(self):\n",
        "        self._dict = {}\n",
        "\n",
        "    def __getattr__(self, name):\n",
        "        try:\n",
        "            return self._dict[name]\n",
        "        except KeyError:\n",
        "            raise AttributeError(f\"Attribute '{name}' does not exist.\")\n",
        "\n",
        "    def __setattr__(self, name, value):\n",
        "        if name == '_dict':\n",
        "            super().__setattr__(name, value)\n",
        "        else:\n",
        "            self._dict[name] = value\n",
        "\n",
        "    def __delattr__(self, name):\n",
        "        try:\n",
        "            del self._dict[name]\n",
        "        except KeyError:\n",
        "            raise AttributeError(f\"Attribute '{name}' does not exist.\")\n",
        "\n",
        "# Create an instance of the class\n",
        "dyn_dict = DynamicDict()\n",
        "\n",
        "# Add a dynamic attribute\n",
        "dyn_dict.new_attr = {'key': 'value'}\n",
        "print(dyn_dict.new_attr)\n",
        "\n",
        "# Modify the dynamic attribute\n",
        "dyn_dict.new_attr['key'] = 'new value'\n",
        "print(dyn_dict.new_attr)\n",
        "\n",
        "# Delete the dynamic attribute\n",
        "del dyn_dict.new_attr\n",
        "# This will raise an AttributeError because the attribute does not exist\n",
        "print(dyn_dict.new_attr)"
      ],
      "outputs": [],
      "execution_count": null,
      "metadata": {
        "aminsedaghat": {
          "cell_type": "code"
        }
      },
      "id": "f274d482-a4f8-4812-a8c8-e799e2906624"
    },
    {
      "cell_type": "markdown",
      "source": [
        "# Another Example of Python's Dynamic Attribute Protocol\n",
        "\n",
        "Let's create another Python class that uses the dynamic attribute protocol to implement a simple logging system. Every time an attribute is set, the class will log the attribute name and its new value."
      ],
      "metadata": {
        "aminsedaghat": {
          "cell_type": "markdown"
        }
      },
      "id": "fe0b4022-cdfa-4d74-8329-39971db544cd"
    },
    {
      "cell_type": "code",
      "source": [
        "class LoggingAttributes:\n",
        "    def __init__(self):\n",
        "        self._attributes = {}\n",
        "\n",
        "    def __getattr__(self, name):\n",
        "        try:\n",
        "            return self._attributes[name]\n",
        "        except KeyError:\n",
        "            raise AttributeError(f\"Attribute '{name}' does not exist.\")\n",
        "\n",
        "    def __setattr__(self, name, value):\n",
        "        if name == '_attributes':\n",
        "            super().__setattr__(name, value)\n",
        "        else:\n",
        "            print(f'Setting attribute {name} to {value}')\n",
        "            self._attributes[name] = value\n",
        "\n",
        "    def __delattr__(self, name):\n",
        "        try:\n",
        "            print(f'Deleting attribute {name}')\n",
        "            del self._attributes[name]\n",
        "        except KeyError:\n",
        "            raise AttributeError(f\"Attribute '{name}' does not exist.\")\n",
        "\n",
        "# Create an instance of the class\n",
        "log_attr = LoggingAttributes()\n",
        "\n",
        "# Add a dynamic attribute\n",
        "log_attr.new_attr = 'Hello, World!'\n",
        "\n",
        "# Modify the dynamic attribute\n",
        "log_attr.new_attr = 'Hello, Python!'\n",
        "\n",
        "# Delete the dynamic attribute\n",
        "del log_attr.new_attr\n",
        "# This will raise an AttributeError because the attribute does not exist\n",
        "print(log_attr.new_attr)"
      ],
      "outputs": [],
      "execution_count": null,
      "metadata": {
        "aminsedaghat": {
          "cell_type": "code"
        }
      },
      "id": "1280a54d-eb42-42ce-b99b-f21ddbc3a326"
    },
    {
      "cell_type": "markdown",
      "source": [
        "# Explanation of the LoggingAttributes Example\n",
        "\n",
        "In the `LoggingAttributes` class, we have overridden the `__getattr__`, `__setattr__`, and `__delattr__` methods to add logging functionality.\n",
        "\n",
        "- The `__getattr__` method is called when an attribute is accessed. It returns the attribute value if it exists, otherwise it raises an `AttributeError`.\n",
        "\n",
        "- The `__setattr__` method is called when an attribute is set. If the attribute being set is `_attributes`, it calls the superclass's `__setattr__` method to avoid recursion. Otherwise, it logs the attribute name and its new value, and sets the attribute value.\n",
        "\n",
        "- The `__delattr__` method is called when an attribute is deleted. It logs the attribute name and deletes the attribute if it exists, otherwise it raises an `AttributeError`.\n",
        "\n",
        "When we create an instance of the `LoggingAttributes` class and add, modify, or delete an attribute, the corresponding method is called and the action is logged. If we try to access or delete an attribute that does not exist, an `AttributeError` is raised."
      ],
      "metadata": {
        "aminsedaghat": {
          "cell_type": "markdown"
        }
      },
      "id": "b13b89b6-dac8-45ed-a516-1f3b78b73166"
    }
  ],
  "metadata": {
    "aminsedaghat-notebook": {
      "create_notebook": {
        "jupyter_notebook_conversation_id": "30417689-a6c8-566c-a00a-53e97f29f913",
        "jupyter_notebook_ephemeral_user_id": "9a2db01a-0e55-5148-a065-9c71f38a72bf",
        "jupyter_notebook_subdivision1_iso_code": "CA-ON"
      }
    },
    "kernel_info": {
      "name": "python3"
    },
    "aminsedaghat": {
      "last_transaction_id": "947e2a1d-c1eb-46aa-931f-03616fd723ea",
      "last_delta_id": "9e35028a-1f78-4738-9246-cb1755bcb01d"
    },
    "kernelspec": {
      "display_name": "Python 3.9",
      "language": "python",
      "name": "python3"
    },
    "selected_hardware_size": "small",
    "nteract": {
      "version": "aminsedaghat@2.9.0"
    }
  },
  "nbformat": 4,
  "nbformat_minor": 5
}