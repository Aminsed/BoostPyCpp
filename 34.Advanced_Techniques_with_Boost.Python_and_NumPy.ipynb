{
  "cells": [
    {
      "cell_type": "markdown",
      "source": [
        "# Advanced Techniques with Boost.Python and NumPy\n",
        "In this notebook, we will delve deep into the advanced techniques involving the integration of Boost.Python and NumPy. The notebook is structured as follows:\n",
        "## 1. Integrating NumPy with Boost.Python\n",
        "- Techniques for efficiently passing NumPy arrays to C++ and vice versa.\n",
        "- Clear explanations, code examples, and details on how to achieve seamless integration between NumPy and Boost.Python.\n",
        "## 2. Performance Considerations\n",
        "- Tips and tricks to ensure optimal performance when utilizing Boost.Python and NumPy together.\n",
        "- Comprehensive explanations, code snippets, and detailed insights on how to enhance the performance of Boost.Python and NumPy integration.\n",
        "## 3. Advanced Use Cases\n",
        "- Exploration of complex scenarios where Boost.Python and NumPy can be effectively utilized together.\n",
        "- In-depth explanations, code samples, and detailed analysis of advanced use cases that showcase the power and versatility of combining Boost.Python and NumPy."
      ],
      "metadata": {
        "noteable": {
          "cell_type": "markdown"
        }
      },
      "id": "19df1733-5182-4753-9c57-c5b2b883c36a"
    },
    {
      "cell_type": "markdown",
      "source": [
        "## Integrating NumPy with Boost.Python\n",
        "Boost.Python is a powerful library that facilitates the integration of C++ and Python. One of its key features is the ability to seamlessly work with NumPy arrays. This section will explore techniques to efficiently pass NumPy arrays to C++ and vice versa.\n",
        "### Passing NumPy arrays to C++\n",
        "To pass a NumPy array to C++, we need to ensure that the Boost.Python interface is aware of the NumPy array's data structure. This involves:\n",
        "1. Initializing the NumPy C API.\n",
        "2. Using the `numpy_boost` library, which provides a convenient interface between NumPy arrays and Boost.Python.\n",
        "3. Defining a C++ function that accepts a `numpy_boost` array as an argument.\n",
        "Let's look at a code example to demonstrate this process."
      ],
      "metadata": {
        "noteable": {
          "cell_type": "markdown"
        }
      },
      "id": "acf99af5-edb5-42b8-ba34-9d50e27dc425"
    },
    {
      "cell_type": "code",
      "source": [
        "```cpp\n",
        "#include <boost/python.hpp>\n",
        "#include <numpy_boost.hpp>\n",
        "\n",
        "namespace bp = boost::python;\n",
        "\n",
        "void process_numpy_array(numpy_boost<double, 2> array) {\n",
        "    // Accessing the NumPy array data in C++\n",
        "    double value = array[0][0];\n",
        "    // ... further processing ...\n",
        "}\n",
        "\n",
        "BOOST_PYTHON_MODULE(my_module) {\n",
        "    Py_Initialize();\n",
        "    import_array();  // Initialize the NumPy C API\n",
        "    bp::def(\"process_numpy_array\", process_numpy_array);\n",
        "}\n",
        "```\n",
        "\n",
        "In the above code, we define a C++ function `process_numpy_array` that accepts a 2D NumPy array of type `double`. The `numpy_boost` library provides a convenient interface to access the array data in C++. The `BOOST_PYTHON_MODULE` macro is used to expose the C++ function to Python."
      ],
      "outputs": [],
      "execution_count": null,
      "metadata": {
        "noteable": {
          "cell_type": "code"
        }
      },
      "id": "79efcc7b-2360-4313-99c2-3e36d3755d41"
    },
    {
      "cell_type": "markdown",
      "source": [
        "## Performance Considerations\n",
        "When integrating Boost.Python with NumPy, performance is a crucial aspect to consider. The seamless integration between Python and C++ can sometimes come at the cost of performance, especially when dealing with large NumPy arrays or frequent data exchanges between the two languages. Here are some tips and tricks to ensure optimal performance:\n",
        "### 1. Minimize Data Copying\n",
        "Whenever possible, avoid copying data between Python and C++. Instead, try to work with references or pointers. The `numpy_boost` library provides a zero-copy interface, meaning that the data is not duplicated when passed between Python and C++.\n",
        "### 2. Optimize C++ Code\n",
        "Since one of the primary reasons to use C++ with Python is performance, ensure that the C++ code is optimized. This includes using efficient algorithms, leveraging compiler optimizations, and avoiding unnecessary computations.\n",
        "### 3. Use Contiguous Memory\n",
        "Ensure that the NumPy arrays passed to C++ are contiguous in memory. Non-contiguous arrays can lead to performance issues due to cache misses. If an array is not contiguous, consider copying it to a contiguous array before passing it to C++.\n",
        "### 4. Reduce Overhead of Function Calls\n",
        "Frequent calls between Python and C++ can introduce overhead. Try to minimize the number of cross-language function calls. For example, instead of calling a C++ function inside a Python loop, consider moving the entire loop to C++.\n",
        "### 5. Profile and Benchmark\n",
        "Regularly profile and benchmark the code to identify performance bottlenecks. Tools like `gprof` for C++ and `cProfile` for Python can be invaluable in this regard.\n",
        "By following these guidelines, you can achieve a balance between the flexibility of Python and the performance of C++."
      ],
      "metadata": {
        "noteable": {
          "cell_type": "markdown"
        }
      },
      "id": "788d6742-66f6-46ac-9269-0f6d635e17a7"
    },
    {
      "cell_type": "markdown",
      "source": [
        "## Advanced Use Cases\n",
        "Boost.Python and NumPy can be combined in various ways to tackle complex problems that require both the expressiveness of Python and the performance of C++. In this section, we'll explore some advanced scenarios where these two libraries shine when used together.\n",
        "### 1. Image Processing\n",
        "NumPy arrays can represent images, and C++ has a plethora of libraries for image processing. By passing image data as NumPy arrays to C++, we can leverage high-performance image processing libraries in C++ while managing and displaying results in Python.\n",
        "### 2. Scientific Simulations\n",
        "For simulations that require heavy computations, C++ can be used to perform the calculations, while Python can handle data preparation, analysis, and visualization using NumPy and other libraries like Matplotlib.\n",
        "### 3. Machine Learning\n",
        "While Python has become the de facto language for machine learning, certain operations, especially custom layers or operations in neural networks, can be implemented in C++ for performance reasons and integrated into Python frameworks using Boost.Python.\n",
        "### 4. Custom Data Structures\n",
        "If a specific algorithm requires a custom data structure not available in Python, it can be implemented in C++ and interfaced with Python using Boost.Python. NumPy arrays can then be used to feed data into these structures or retrieve results.\n",
        "These are just a few examples, and the possibilities are vast. The combination of Boost.Python and NumPy offers a powerful toolkit for developers to bridge the gap between Python's ease of use and C++'s performance."
      ],
      "metadata": {
        "noteable": {
          "cell_type": "markdown"
        }
      },
      "id": "0e5dd3c8-70f4-4dcf-aef6-04049fa51480"
    },
    {
      "cell_type": "markdown",
      "source": [
        "### Image Processing with Boost.Python and NumPy\n",
        "In this scenario, we'll demonstrate how to use Boost.Python and NumPy to apply a simple image filter. We'll use C++ for the image processing logic and Python for reading, displaying, and managing the image data.\n",
        "#### C++ Code (Image Filter Logic):\n",
        "```cpp\n",
        "#include <boost/python.hpp>\n",
        "#include <numpy_boost.hpp>\n",
        "\n",
        "namespace bp = boost::python;\n",
        "\n",
        "numpy_boost<uint8_t, 3> apply_filter(numpy_boost<uint8_t, 3> image) {\n",
        "    // Simple filter logic: invert the colors\n",
        "    for (int i = 0; i < image.shape()[0]; i++) {\n",
        "        for (int j = 0; j < image.shape()[1]; j++) {\n",
        "            for (int k = 0; k < image.shape()[2]; k++) {\n",
        "                image[i][j][k] = 255 - image[i][j][k];\n",
        "            }\n",
        "        }\n",
        "    }\n",
        "    return image;\n",
        "}\n",
        "\n",
        "BOOST_PYTHON_MODULE(image_module) {\n",
        "    Py_Initialize();\n",
        "    import_array();\n",
        "    bp::def(\"apply_filter\", apply_filter);\n",
        "}\n",
        "```\n",
        "In the above C++ code, we define a function `apply_filter` that inverts the colors of an image. The image is represented as a 3D NumPy array (height x width x channels). The `BOOST_PYTHON_MODULE` macro exposes this function to Python."
      ],
      "metadata": {
        "noteable": {
          "cell_type": "markdown"
        }
      },
      "id": "fe1aad97-c6fa-47f5-9b39-7ea30873c96b"
    },
    {
      "cell_type": "markdown",
      "source": [
        "### Python Code (Image Management and Display):"
      ],
      "metadata": {
        "noteable": {
          "cell_type": "markdown"
        }
      },
      "id": "cbf90424-92f4-4c39-9474-dad37ab956be"
    },
    {
      "cell_type": "code",
      "source": [
        "import numpy as np\n",
        "import matplotlib.pyplot as plt\n",
        "import image_module  # This is the C++ module we defined earlier\n",
        "\n",
        "# Read an image using any Python library (e.g., OpenCV, PIL)\n",
        "# For this example, let's assume we have a function `read_image` that reads an image into a NumPy array\n",
        "image = read_image('path_to_image.jpg')\n",
        "\n",
        "# Apply the filter using the C++ function\n",
        "filtered_image = image_module.apply_filter(image)\n",
        "\n",
        "# Display the original and filtered images\n",
        "plt.figure(figsize=(10, 5))\n",
        "plt.subplot(1, 2, 1)\n",
        "plt.imshow(image)\n",
        "plt.title('Original Image')\n",
        "plt.axis('off')\n",
        "\n",
        "plt.subplot(1, 2, 2)\n",
        "plt.imshow(filtered_image)\n",
        "plt.title('Filtered Image')\n",
        "plt.axis('off')\n",
        "\n",
        "plt.show()"
      ],
      "outputs": [
        {
          "output_type": "error",
          "ename": "ModuleNotFoundError",
          "evalue": "No module named 'image_module'",
          "traceback": [
            "\u001b[0;31m---------------------------------------------------------------------------\u001b[0m",
            "\u001b[0;31mModuleNotFoundError\u001b[0m                       Traceback (most recent call last)",
            "Cell \u001b[0;32mIn[1], line 3\u001b[0m\n\u001b[1;32m      1\u001b[0m \u001b[38;5;28;01mimport\u001b[39;00m \u001b[38;5;21;01mnumpy\u001b[39;00m \u001b[38;5;28;01mas\u001b[39;00m \u001b[38;5;21;01mnp\u001b[39;00m\n\u001b[1;32m      2\u001b[0m \u001b[38;5;28;01mimport\u001b[39;00m \u001b[38;5;21;01mmatplotlib\u001b[39;00m\u001b[38;5;21;01m.\u001b[39;00m\u001b[38;5;21;01mpyplot\u001b[39;00m \u001b[38;5;28;01mas\u001b[39;00m \u001b[38;5;21;01mplt\u001b[39;00m\n\u001b[0;32m----> 3\u001b[0m \u001b[38;5;28;01mimport\u001b[39;00m \u001b[38;5;21;01mimage_module\u001b[39;00m  \u001b[38;5;66;03m# This is the C++ module we defined earlier\u001b[39;00m\n\u001b[1;32m      5\u001b[0m \u001b[38;5;66;03m# Read an image using any Python library (e.g., OpenCV, PIL)\u001b[39;00m\n\u001b[1;32m      6\u001b[0m \u001b[38;5;66;03m# For this example, let's assume we have a function `read_image` that reads an image into a NumPy array\u001b[39;00m\n\u001b[1;32m      7\u001b[0m image \u001b[38;5;241m=\u001b[39m read_image(\u001b[38;5;124m'\u001b[39m\u001b[38;5;124mpath_to_image.jpg\u001b[39m\u001b[38;5;124m'\u001b[39m)\n",
            "\u001b[0;31mModuleNotFoundError\u001b[0m: No module named 'image_module'"
          ]
        }
      ],
      "execution_count": null,
      "metadata": {
        "noteable": {
          "cell_type": "python"
        },
        "ExecuteTime": {
          "end_time": "2023-08-17T20:32:13.136337+00:00",
          "start_time": "2023-08-17T20:32:12.057933+00:00"
        },
        "jupyter": {
          "outputs_hidden": true
        }
      },
      "id": "1c0fbae7-30a9-45a9-8ba0-07ed387fed8b"
    },
    {
      "cell_type": "markdown",
      "source": [
        "We read an image into a NumPy array using a hypothetical read_image function.\n",
        "We then apply the filter using the apply_filter function from our C++ module.\n",
        "Finally, we display the original and filtered images side by side using matplotlib.\n",
        "This example demonstrates how Boost.Python allows for seamless integration between C++ and Python, enabling us to leverage the performance of C++ for computation-intensive tasks while using Python for tasks like data management and visualization."
      ],
      "metadata": {
        "noteable": {
          "cell_type": "markdown"
        }
      },
      "id": "71d54c05-5ff3-43a0-8855-fa08a909275d"
    },
    {
      "cell_type": "markdown",
      "source": [
        "## C++ Code (Matrix Scalar Multiplication):"
      ],
      "metadata": {
        "noteable": {
          "cell_type": "markdown"
        }
      },
      "id": "b42533e3-d0fc-4d22-a48f-ed32eee2fd43"
    },
    {
      "cell_type": "markdown",
      "source": [
        "### matrix_operations.cpp"
      ],
      "metadata": {
        "noteable": {
          "cell_type": "markdown"
        }
      },
      "id": "1087af03-d751-445f-9118-88f0a89d0bef"
    },
    {
      "cell_type": "code",
      "source": [
        "```cpp\n",
        "#include <boost/python.hpp>\n",
        "#include <numpy/ndarrayobject.h>\n",
        "#include <numpy/ufuncobject.h>\n",
        "#include <numpy/npy_math.h>\n",
        "\n",
        "namespace bp = boost::python;\n",
        "\n",
        "bp::object multiply_by_scalar(bp::object input_array, double scalar) {\n",
        "    PyArrayObject* array = reinterpret_cast<PyArrayObject*>(input_array.ptr());\n",
        "    int n = PyArray_DIM(array, 0);\n",
        "    int m = PyArray_DIM(array, 1);\n",
        "    \n",
        "    bp::object output_array = bp::import(\"numpy\").attr(\"empty\")((n, m));\n",
        "    PyArrayObject* out_array = reinterpret_cast<PyArrayObject*>(output_array.ptr());\n",
        "    \n",
        "    for (int i = 0; i < n; i++) {\n",
        "        for (int j = 0; j < m; j++) {\n",
        "            double* value = reinterpret_cast<double*>(PyArray_GETPTR2(array, i, j));\n",
        "            double* out_value = reinterpret_cast<double*>(PyArray_GETPTR2(out_array, i, j));\n",
        "            *out_value = (*value) * scalar;\n",
        "        }\n",
        "    }\n",
        "    \n",
        "    return output_array;\n",
        "}\n",
        "\n",
        "BOOST_PYTHON_MODULE(matrix_operations) {\n",
        "    Py_Initialize();\n",
        "    import_array();\n",
        "    bp::def(\"multiply_by_scalar\", multiply_by_scalar);\n",
        "}\n",
        "```"
      ],
      "outputs": [
        {
          "output_type": "error",
          "ename": "SyntaxError",
          "evalue": "invalid syntax (1528971663.py, line 1)",
          "traceback": [
            "\u001b[0;36m  Cell \u001b[0;32mIn[3], line 1\u001b[0;36m\u001b[0m\n\u001b[0;31m    ```cpp\u001b[0m\n\u001b[0m    ^\u001b[0m\n\u001b[0;31mSyntaxError\u001b[0m\u001b[0;31m:\u001b[0m invalid syntax\n"
          ]
        }
      ],
      "execution_count": null,
      "metadata": {
        "jupyter": {
          "source_hidden": false,
          "outputs_hidden": true
        },
        "noteable": {
          "cell_type": "python"
        },
        "ExecuteTime": {
          "start_time": "2023-08-17T20:35:37.897217+00:00",
          "end_time": "2023-08-17T20:35:38.055176+00:00"
        }
      },
      "id": "82e9e850-bc13-44f0-be4c-8451aaa80539"
    },
    {
      "cell_type": "markdown",
      "source": [
        "### CMakeLists.txt"
      ],
      "metadata": {
        "noteable": {
          "cell_type": "markdown"
        }
      },
      "id": "9ca96972-8379-4ddd-8d0f-10ce6b416661"
    },
    {
      "cell_type": "code",
      "source": [
        "cmake_minimum_required(VERSION 3.10)\n",
        "project(MatrixOperations)\n",
        "\n",
        "find_package(Boost REQUIRED COMPONENTS python)\n",
        "find_package(PythonLibs 3 REQUIRED)\n",
        "\n",
        "include_directories(${Boost_INCLUDE_DIRS} ${PYTHON_INCLUDE_DIRS})\n",
        "\n",
        "add_library(matrix_operations MODULE matrix_operations.cpp)\n",
        "target_link_libraries(matrix_operations ${Boost_LIBRARIES} ${PYTHON_LIBRARIES})\n",
        "set_target_properties(matrix_operations PROPERTIES PREFIX \"\")\n"
      ],
      "outputs": [],
      "execution_count": null,
      "metadata": {
        "jupyter": {
          "source_hidden": false,
          "outputs_hidden": false
        },
        "noteable": {
          "cell_type": "python"
        }
      },
      "id": "51ac6e09-88e5-4a9b-b40c-d4df871a5c92"
    },
    {
      "cell_type": "markdown",
      "source": [
        "### test_matrix_operations.py"
      ],
      "metadata": {
        "noteable": {
          "cell_type": "markdown"
        }
      },
      "id": "80074e30-de8f-47fd-b07f-c1cecc75019f"
    },
    {
      "cell_type": "code",
      "source": [
        "import numpy as np\n",
        "import matrix_operations\n",
        "\n",
        "matrix = np.array([[1.0, 2.0], [3.0, 4.0]])\n",
        "scalar = 2.0\n",
        "result = matrix_operations.multiply_by_scalar(matrix, scalar)\n",
        "\n",
        "print(\"Original Matrix:\")\n",
        "print(matrix)\n",
        "print(\"\\nMatrix after multiplication by scalar:\")\n",
        "print(result)\n"
      ],
      "outputs": [],
      "execution_count": null,
      "metadata": {
        "jupyter": {
          "source_hidden": false,
          "outputs_hidden": false
        },
        "noteable": {
          "cell_type": "python"
        }
      },
      "id": "f8b0aee4-781c-49f4-95fe-e68ab72fc117"
    },
    {
      "cell_type": "markdown",
      "source": [
        "To compile and run:\n",
        "\n",
        "Create a build directory and navigate to it.\n",
        "\n",
        "1-Run cmake .. to generate the Makefile.\n",
        "\n",
        "2-Run make to compile the C++ code and generate the shared library.\n",
        "\n",
        "3-Finally, run the Python script test_matrix_operations.py.\n"
      ],
      "metadata": {
        "noteable": {
          "cell_type": "markdown"
        }
      },
      "id": "42283f6a-f343-4a34-a130-074a759c63f6"
    },
    {
      "cell_type": "markdown",
      "source": [],
      "metadata": {
        "noteable": {
          "cell_type": "markdown"
        }
      },
      "id": "0f9e68a1-8c0a-4ce0-947d-68f08912bae3"
    },
    {
      "cell_type": "markdown",
      "source": [
        "## Conclusion and Summary\n",
        "Throughout this notebook, we explored the advanced techniques and integrations possible with Boost.Python and NumPy. Here's a summary of what we covered:\n",
        "- **Integrating NumPy with Boost.Python**: We delved into the methods to pass NumPy arrays to C++ and vice versa, ensuring a seamless interaction between the two languages.\n",
        "- **Performance Considerations**: Emphasis was placed on optimizing the integration for performance. Key takeaways include minimizing data copying, optimizing C++ code, ensuring memory contiguity, reducing function call overhead, and the importance of profiling and benchmarking.\n",
        "- **Advanced Use Cases**: We explored real-world scenarios where Boost.Python and NumPy shine, such as image processing, scientific simulations, machine learning, and custom data structures. Practical code examples were provided to demonstrate the concepts.\n",
        "The combination of Boost.Python and NumPy offers developers a powerful toolkit, bridging the gap between Python's ease of use and C++'s performance. By understanding and leveraging the techniques discussed in this notebook, one can harness the best of both worlds, achieving efficient and effective solutions to complex problems."
      ],
      "metadata": {
        "noteable": {
          "cell_type": "markdown"
        }
      },
      "id": "33bcb34d-ba5f-40ef-8a8a-fecd46c41ce7"
    }
  ],
  "metadata": {
    "noteable-chatgpt": {
      "create_notebook": {
        "openai_conversation_id": "91021337-5672-5764-83d1-416d74927987",
        "openai_ephemeral_user_id": "30d8c919-910f-5f6f-a38f-ca517205a0b6",
        "openai_subdivision1_iso_code": "CA-ON"
      }
    },
    "kernel_info": {
      "name": "python3"
    },
    "noteable": {
      "last_transaction_id": "f87cb97a-38ac-44e7-a56b-25edd30fa579",
      "last_delta_id": "126c2ed7-9ae0-4eb0-965d-67d83ef9a213"
    },
    "kernelspec": {
      "display_name": "Python 3.9",
      "language": "python",
      "name": "python3"
    },
    "selected_hardware_size": "small",
    "nteract": {
      "version": "noteable@2.9.0"
    }
  },
  "nbformat": 4,
  "nbformat_minor": 5
}