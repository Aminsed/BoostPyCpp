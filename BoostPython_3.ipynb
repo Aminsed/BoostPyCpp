{
  "cells": [
    {
      "cell_type": "markdown",
      "source": [
        "# Boost.Python's Custom Converters\n",
        "\n",
        "Boost.Python is a C++ library which enables seamless interoperability between C++ and the Python programming language. It allows you to quickly and seamlessly expose C++ classes, functions, and objects to Python, and vice-versa, using no special tools -- just your C++ compiler.\n",
        "\n",
        "One of the powerful features of Boost.Python is the ability to write custom converters. These converters allow you to convert Python objects to C++ objects and vice versa. This is particularly useful when you want to expose complex C++ data structures to Python or when you want to use Python data structures in your C++ code.\n",
        "\n",
        "In this notebook, we will explore the concept of custom converters in Boost.Python and illustrate their usage with numerous examples."
      ],
      "metadata": {
        "noteable": {
          "cell_type": "markdown"
        }
      },
      "id": "bfd7df90-76fb-49f3-8ce1-738e919d2d47"
    },
    {
      "cell_type": "markdown",
      "source": [
        "## Basic Concept of Custom Converters\n",
        "\n",
        "In Boost.Python, a converter is a piece of code that knows how to convert a C++ object to a Python object and vice versa. The library provides built-in converters for many standard C++ and Python types. However, for user-defined types or more complex conversions, you may need to write a custom converter.\n",
        "\n",
        "A custom converter in Boost.Python consists of two parts:\n",
        "\n",
        "1. **Python to C++ converter**: This part of the converter takes a Python object and converts it into a C++ object. This is done by implementing a `convertible` function that checks if the Python object can be converted to the C++ type, and a `construct` function that performs the actual conversion.\n",
        "\n",
        "2. **C++ to Python converter**: This part of the converter takes a C++ object and converts it into a Python object. This is done by implementing a `to_python_value` function that performs the conversion.\n",
        "\n",
        "Once the converter is implemented, it can be registered with Boost.Python using the `boost::python::to_python_converter` and `boost::python::converter::registry::push_back` functions."
      ],
      "metadata": {
        "noteable": {
          "cell_type": "markdown"
        }
      },
      "id": "91b2af3b-fe9e-4427-b957-b8a1e4d59f62"
    },
    {
      "cell_type": "markdown",
      "source": [
        "## Example: Converting a Python List to a C++ Vector\n",
        "\n",
        "Let's start with a simple example. We will create a custom converter that converts a Python list to a C++ `std::vector<int>`.\n",
        "\n",
        "First, we need to include the necessary headers and use the required namespaces:\n",
        "\n",
        "```cpp\n",
        "#include <boost/python.hpp>\n",
        "#include <vector>\n",
        "\n",
        "using namespace boost::python;\n",
        "```\n",
        "\n",
        "Next, we define the Python to C++ converter. We implement the `convertible` function to check if the Python object is a list, and the `construct` function to convert the list to a `std::vector<int>`:\n",
        "\n",
        "```cpp\n",
        "struct ListToVector\n",
        "{\n",
        "    static void* convertible(PyObject* obj_ptr)\n",
        "    {\n",
        "        if (!PyList_Check(obj_ptr)) return 0;\n",
        "        return obj_ptr;\n",
        "    }\n",
        "\n",
        "    static void construct(PyObject* obj_ptr, converter::rvalue_from_python_stage1_data* data)\n",
        "    {\n",
        "        list l(handle<>(borrowed(obj_ptr)));\n",
        "        void* storage = ((converter::rvalue_from_python_storage<std::vector<int>>*)data)->storage.bytes;\n",
        "        new (storage) std::vector<int>();\n",
        "        std::vector<int>& v = *((std::vector<int>*)storage);\n",
        "        int len = len(l);\n",
        "        for (int i = 0; i < len; ++i)\n",
        "        {\n",
        "            v.push_back(extract<int>(l[i]));\n",
        "        }\n",
        "        data->convertible = storage;\n",
        "    }\n",
        "};\n",
        "```\n",
        "\n",
        "Finally, we register the converter with Boost.Python:\n",
        "\n",
        "```cpp\n",
        "BOOST_PYTHON_MODULE(example)\n",
        "{\n",
        "    converter::registry::push_back(\n",
        "        &ListToVector::convertible,\n",
        "        &ListToVector::construct,\n",
        "        type_id<std::vector<int>>());\n",
        "}\n",
        "```\n",
        "\n",
        "Now, we can pass Python lists to C++ functions that take `std::vector<int>` arguments, and Boost.Python will automatically use our custom converter to convert the lists to vectors."
      ],
      "metadata": {
        "noteable": {
          "cell_type": "markdown"
        }
      },
      "id": "ee8fdc8c-750c-4476-a58b-92fbefe4fcd2"
    },
    {
      "cell_type": "markdown",
      "source": [
        "## Example: Converting a C++ Vector to a Python List\n",
        "\n",
        "Now let's create a custom converter that converts a C++ `std::vector<int>` to a Python list. This will allow us to return C++ vectors from functions and have them automatically converted to Python lists.\n",
        "\n",
        "First, we need to include the necessary headers and use the required namespaces:\n",
        "\n",
        "```cpp\n",
        "#include <boost/python.hpp>\n",
        "#include <vector>\n",
        "\n",
        "using namespace boost::python;\n",
        "```\n",
        "\n",
        "Next, we define the C++ to Python converter. We implement the `to_python_value` function to convert the `std::vector<int>` to a Python list:\n",
        "\n",
        "```cpp\n",
        "struct VectorToList\n",
        "{\n",
        "    static PyObject* convert(const std::vector<int>& v)\n",
        "    {\n",
        "        list l;\n",
        "        for (int i = 0; i < v.size(); ++i)\n",
        "        {\n",
        "            l.append(v[i]);\n",
        "        }\n",
        "        return incref(l.ptr());\n",
        "    }\n",
        "};\n",
        "```\n",
        "\n",
        "Finally, we register the converter with Boost.Python:\n",
        "\n",
        "```cpp\n",
        "BOOST_PYTHON_MODULE(example)\n",
        "{\n",
        "    to_python_converter<std::vector<int>, VectorToList>();\n",
        "}\n",
        "```\n",
        "\n",
        "Now, we can return `std::vector<int>` objects from C++ functions, and Boost.Python will automatically use our custom converter to convert the vectors to Python lists."
      ],
      "metadata": {
        "noteable": {
          "cell_type": "markdown"
        }
      },
      "id": "ef8360ec-a273-4eb0-8bad-a8a4c26161f1"
    },
    {
      "cell_type": "markdown",
      "source": [
        "## Example: Converting a Python Dictionary to a C++ Map\n",
        "\n",
        "For a more complex example, let's create a custom converter that converts a Python dictionary to a C++ `std::map<std::string, int>`.\n",
        "\n",
        "First, we need to include the necessary headers and use the required namespaces:\n",
        "\n",
        "```cpp\n",
        "#include <boost/python.hpp>\n",
        "#include <map>\n",
        "\n",
        "using namespace boost::python;\n",
        "```\n",
        "\n",
        "Next, we define the Python to C++ converter. We implement the `convertible` function to check if the Python object is a dictionary, and the `construct` function to convert the dictionary to a `std::map<std::string, int>`:\n",
        "\n",
        "```cpp\n",
        "struct DictToMap\n",
        "{\n",
        "    static void* convertible(PyObject* obj_ptr)\n",
        "    {\n",
        "        if (!PyDict_Check(obj_ptr)) return 0;\n",
        "        return obj_ptr;\n",
        "    }\n",
        "\n",
        "    static void construct(PyObject* obj_ptr, converter::rvalue_from_python_stage1_data* data)\n",
        "    {\n",
        "        dict d(handle<>(borrowed(obj_ptr)));\n",
        "        void* storage = ((converter::rvalue_from_python_storage<std::map<std::string, int>>*)data)->storage.bytes;\n",
        "        new (storage) std::map<std::string, int>();\n",
        "        std::map<std::string, int>& m = *((std::map<std::string, int>*)storage);\n",
        "        list keys = d.keys();\n",
        "        for (int i = 0; i < len(keys); ++i)\n",
        "        {\n",
        "            std::string key = extract<std::string>(keys[i]);\n",
        "            int value = extract<int>(d[key]);\n",
        "            m[key] = value;\n",
        "        }\n",
        "        data->convertible = storage;\n",
        "    }\n",
        "};\n",
        "```\n",
        "\n",
        "Finally, we register the converter with Boost.Python:\n",
        "\n",
        "```cpp\n",
        "BOOST_PYTHON_MODULE(example)\n",
        "{\n",
        "    converter::registry::push_back(\n",
        "        &DictToMap::convertible,\n",
        "        &DictToMap::construct,\n",
        "        type_id<std::map<std::string, int>>());\n",
        "}\n",
        "```\n",
        "\n",
        "Now, we can pass Python dictionaries to C++ functions that take `std::map<std::string, int>` arguments, and Boost.Python will automatically use our custom converter to convert the dictionaries to maps."
      ],
      "metadata": {
        "noteable": {
          "cell_type": "markdown"
        }
      },
      "id": "bbb650d1-cf2a-40d1-8ae2-20701a31ba3f"
    },
    {
      "cell_type": "markdown",
      "source": [
        "## Conclusion\n",
        "\n",
        "Custom converters in Boost.Python are a powerful tool that allows you to seamlessly convert between Python and C++ data structures. By implementing and registering custom converters, you can pass complex data structures between Python and C++ and take full advantage of the features of both languages.\n",
        "\n",
        "In this notebook, we have seen how to create custom converters for converting Python lists to C++ vectors, C++ vectors to Python lists, and Python dictionaries to C++ maps. The same principles can be applied to create custom converters for any other data structures you may need to use in your Python and C++ code."
      ],
      "metadata": {
        "noteable": {
          "cell_type": "markdown"
        }
      },
      "id": "224b3b85-585e-4590-b8b0-936e2bce040b"
    }
  ],
  "metadata": {
    "noteable-chatgpt": {
      "create_notebook": {
        "openai_conversation_id": "94f378b5-3447-558f-aa42-cfd8d5e06d10",
        "openai_ephemeral_user_id": "5664ea6b-c533-51b6-acaa-189f84bef9e9",
        "openai_subdivision1_iso_code": "CA-ON"
      }
    },
    "kernel_info": {
      "name": "python3"
    },
    "noteable": {
      "last_transaction_id": "2382049e-3004-4a0a-ba81-10587b16a782",
      "last_delta_id": "357748f9-9cdc-450d-916a-20339ddd143e"
    },
    "kernelspec": {
      "display_name": "Python 3.9",
      "language": "python",
      "name": "python3"
    },
    "selected_hardware_size": "small",
    "nteract": {
      "version": "noteable@2.9.0"
    }
  },
  "nbformat": 4,
  "nbformat_minor": 5
}